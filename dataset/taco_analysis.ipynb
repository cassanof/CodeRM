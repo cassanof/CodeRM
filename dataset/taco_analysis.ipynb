{
 "cells": [
  {
   "cell_type": "code",
   "execution_count": 1,
   "id": "85ba181a-e6a3-4d72-bb91-29b82cdbfbfb",
   "metadata": {},
   "outputs": [
    {
     "name": "stderr",
     "output_type": "stream",
     "text": [
      "/home/elleven/.env/lib/python3.12/site-packages/tqdm/auto.py:21: TqdmWarning: IProgress not found. Please update jupyter and ipywidgets. See https://ipywidgets.readthedocs.io/en/stable/user_install.html\n",
      "  from .autonotebook import tqdm as notebook_tqdm\n",
      "/home/elleven/.env/lib/python3.12/site-packages/datasets/load.py:1486: FutureWarning: The repository for BAAI/TACO contains custom code which must be executed to correctly load the dataset. You can inspect the repository content at https://hf.co/datasets/BAAI/TACO\n",
      "You can avoid this message in future by passing the argument `trust_remote_code=True`.\n",
      "Passing `trust_remote_code=True` will be mandatory to load this dataset from the next major release of `datasets`.\n",
      "  warnings.warn(\n"
     ]
    },
    {
     "data": {
      "text/plain": [
       "Dataset({\n",
       "    features: ['question', 'solutions', 'starter_code', 'input_output', 'difficulty', 'raw_tags', 'name', 'source', 'tags', 'skill_types', 'url', 'Expected Auxiliary Space', 'time_limit', 'date', 'picture_num', 'memory_limit', 'Expected Time Complexity'],\n",
       "    num_rows: 25443\n",
       "})"
      ]
     },
     "execution_count": 1,
     "metadata": {},
     "output_type": "execute_result"
    }
   ],
   "source": [
    "import datasets\n",
    "ds = datasets.load_dataset(\"BAAI/TACO\", split=\"train\")\n",
    "ds"
   ]
  },
  {
   "cell_type": "code",
   "execution_count": 33,
   "id": "265383d0-7e22-4d7f-ba5b-eed6bfa2876a",
   "metadata": {},
   "outputs": [
    {
     "name": "stderr",
     "output_type": "stream",
     "text": [
      "Filter: 100%|███████████████████████████████████████████████████████████████████████████████████████████████████████████████| 25443/25443 [00:02<00:00, 12650.68 examples/s]\n"
     ]
    }
   ],
   "source": [
    "ds = ds.filter(lambda ex: ex[\"source\"] != \"codewars\")"
   ]
  },
  {
   "cell_type": "code",
   "execution_count": 36,
   "id": "d91a0409-7d80-4d0f-a6a4-0820d84707bf",
   "metadata": {},
   "outputs": [
    {
     "name": "stdout",
     "output_type": "stream",
     "text": [
      "{<class 'dict'>}\n",
      "{'inputs', 'outputs', 'fn_name'}\n",
      "784\n"
     ]
    }
   ],
   "source": [
    "# figure out format of tests\n",
    "import json\n",
    "import sys\n",
    "sys.set_int_max_str_digits(0)\n",
    "keys = set()\n",
    "types = set()\n",
    "has_fn_name = 0\n",
    "\n",
    "for ex in ds:\n",
    "    eio = ex[\"input_output\"]\n",
    "    eio = json.loads(eio)\n",
    "    types.add(type(eio))\n",
    "    ks = eio.keys()\n",
    "    if \"fn_name\" in ks:\n",
    "        has_fn_name += 1\n",
    "    for k in ks:\n",
    "        keys.add(k)\n",
    "\n",
    "print(types)\n",
    "print(keys)\n",
    "print(has_fn_name)"
   ]
  },
  {
   "cell_type": "code",
   "execution_count": 47,
   "id": "f9aac6d8-bcc3-447d-b29b-585550c29c1c",
   "metadata": {},
   "outputs": [
    {
     "name": "stdout",
     "output_type": "stream",
     "text": [
      "{'inputs': ['3\\n1 3 1', '9\\n1 1 1 1 2 1 2 3 2', '3\\n1 1 1', '2\\n1 1', '2\\n1 2', '9\\n1 1 1 2 1 1 2 3 2', '3\\n1 2 2', '9\\n1 1 1 1 2 1 4 3 2', '9\\n1 1 1 2 2 1 4 3 2', '9\\n1 1 1 2 2 1 4 1 2', '9\\n1 1 1 2 2 1 1 1 2', '3\\n1 2 3', '3\\n1 1 2', '9\\n1 1 1 1 2 1 4 1 2', '3\\n1 4 1', '3\\n1 4 0', '2\\n4 2', '3\\n2 4 1', '3\\n4 4 1', '3\\n0 4 0', '2\\n3 2', '3\\n2 4 0', '3\\n5 4 1', '3\\n0 8 0', '2\\n3 4', '3\\n2 7 0', '3\\n5 2 1', '3\\n0 9 0', '2\\n1 4', '3\\n2 3 0', '3\\n-1 9 0', '2\\n2 4', '3\\n1 3 0', '3\\n-1 9 1', '2\\n2 8', '3\\n1 3 -1', '3\\n-1 9 2', '2\\n2 7', '3\\n-1 11 2', '2\\n2 6', '3\\n-1 11 4', '2\\n1 7', '3\\n-2 11 4', '3\\n-2 4 4', '2\\n2 1', '3\\n-2 0 4', '2\\n4 4', '3\\n-2 1 4', '2\\n4 5', '2\\n4 8', '2\\n4 9', '2\\n4 7', '2\\n7 7', '2\\n7 1', '2\\n7 0', '2\\n4 1', '2\\n8 2', '2\\n4 3', '3\\n2 3 1', '3\\n4 4 0', '3\\n1 7 0', '2\\n4 0', '3\\n0 4 1', '3\\n4 7 1', '3\\n0 4 -1', '2\\n5 2', '3\\n2 4 2', '3\\n5 1 1', '3\\n0 8 1', '2\\n2 5', '3\\n2 7 -1', '3\\n5 0 1', '3\\n1 9 0', '2\\n2 3', '3\\n4 3 0', '2\\n3 3', '3\\n0 3 0', '3\\n0 9 2', '2\\n3 8', '3\\n-2 9 2', '2\\n0 7', '3\\n0 11 2', '2\\n7 2', '3\\n0 11 4', '2\\n1 3', '3\\n-1 20 4', '3\\n-2 4 3', '3\\n-1 0 4', '2\\n6 7', '3\\n-2 1 6', '2\\n6 5', '2\\n6 8', '2\\n7 9', '2\\n4 14', '2\\n7 6', '2\\n2 0', '2\\n3 0', '2\\n5 1', '2\\n11 2', '2\\n3 1', '9\\n1 1 1 2 2 1 2 3 2', '2\\n2 2', '3\\n1 2 1'], 'outputs': ['-1\\n', '1\\n2\\n2\\n3\\n1\\n2\\n1\\n1\\n1\\n', '1\\n1\\n1\\n', '1\\n1\\n', '1\\n2\\n', '1\\n2\\n2\\n3\\n1\\n1\\n2\\n1\\n1\\n', '1\\n2\\n2\\n', '1\\n2\\n1\\n3\\n2\\n4\\n1\\n1\\n1\\n', '1\\n2\\n1\\n3\\n2\\n4\\n2\\n1\\n1\\n', '1\\n2\\n1\\n1\\n2\\n4\\n2\\n1\\n1\\n', '1\\n2\\n1\\n1\\n1\\n2\\n2\\n1\\n1\\n', '1\\n2\\n3\\n', '1\\n2\\n1\\n', '1\\n2\\n1\\n1\\n2\\n4\\n1\\n1\\n1\\n', '-1\\n', '-1\\n', '-1\\n', '-1\\n', '-1\\n', '-1\\n', '-1\\n', '-1\\n', '-1\\n', '-1\\n', '-1\\n', '-1\\n', '-1\\n', '-1\\n', '-1\\n', '-1\\n', '-1\\n', '-1\\n', '-1\\n', '-1\\n', '-1\\n', '-1\\n', '-1\\n', '-1\\n', '-1\\n', '-1\\n', '-1\\n', '-1\\n', '-1\\n', '-1\\n', '-1\\n', '-1\\n', '-1\\n', '-1\\n', '-1\\n', '-1\\n', '-1\\n', '-1\\n', '-1\\n', '-1\\n', '-1\\n', '-1\\n', '-1\\n', '-1\\n', '-1\\n', '-1\\n', '-1\\n', '-1\\n', '-1\\n', '-1\\n', '-1\\n', '-1\\n', '-1\\n', '-1\\n', '-1\\n', '-1\\n', '-1\\n', '-1\\n', '-1\\n', '-1\\n', '-1\\n', '-1\\n', '-1\\n', '-1\\n', '-1\\n', '-1\\n', '-1\\n', '-1\\n', '-1\\n', '-1\\n', '-1\\n', '-1\\n', '-1\\n', '-1\\n', '-1\\n', '-1\\n', '-1\\n', '-1\\n', '-1\\n', '-1\\n', '-1\\n', '-1\\n', '-1\\n', '-1\\n', '-1\\n', '-1\\n', '1\\n2\\n2\\n3\\n1\\n2\\n2\\n1\\n1', '-1', '1\\n1\\n2']}\n"
     ]
    }
   ],
   "source": [
    "print(json.loads(ds[2000][\"input_output\"]))"
   ]
  },
  {
   "cell_type": "code",
   "execution_count": 48,
   "id": "ca83648d-a30f-4ddb-ae43-74566cee2f19",
   "metadata": {},
   "outputs": [
    {
     "name": "stdout",
     "output_type": "stream",
     "text": [
      "Snuke has an empty sequence a.\n",
      "\n",
      "He will perform N operations on this sequence.\n",
      "\n",
      "In the i-th operation, he chooses an integer j satisfying 1 \\leq j \\leq i, and insert j at position j in a (the beginning is position 1).\n",
      "\n",
      "You are given a sequence b of length N. Determine if it is possible that a is equal to b after N operations. If it is, show one possible sequence of operations that achieves it.\n",
      "\n",
      "Constraints\n",
      "\n",
      "* All values in input are integers.\n",
      "* 1 \\leq N \\leq 100\n",
      "* 1 \\leq b_i \\leq N\n",
      "\n",
      "Input\n",
      "\n",
      "Input is given from Standard Input in the following format:\n",
      "\n",
      "\n",
      "N\n",
      "b_1 \\dots b_N\n",
      "\n",
      "\n",
      "Output\n",
      "\n",
      "If there is no sequence of N operations after which a would be equal to b, print `-1`. If there is, print N lines. In the i-th line, the integer chosen in the i-th operation should be printed. If there are multiple solutions, any of them is accepted.\n",
      "\n",
      "Examples\n",
      "\n",
      "Input\n",
      "\n",
      "3\n",
      "1 2 1\n",
      "\n",
      "\n",
      "Output\n",
      "\n",
      "1\n",
      "1\n",
      "2\n",
      "\n",
      "\n",
      "Input\n",
      "\n",
      "2\n",
      "2 2\n",
      "\n",
      "\n",
      "Output\n",
      "\n",
      "-1\n",
      "\n",
      "\n",
      "Input\n",
      "\n",
      "9\n",
      "1 1 1 2 2 1 2 3 2\n",
      "\n",
      "\n",
      "Output\n",
      "\n",
      "1\n",
      "2\n",
      "2\n",
      "3\n",
      "1\n",
      "2\n",
      "2\n",
      "1\n",
      "1\n"
     ]
    }
   ],
   "source": [
    "print(ds[2000][\"question\"])"
   ]
  },
  {
   "cell_type": "code",
   "execution_count": null,
   "id": "6a9a5950-9efb-4d87-a90a-90ed07adb819",
   "metadata": {},
   "outputs": [],
   "source": []
  },
  {
   "cell_type": "code",
   "execution_count": null,
   "id": "676249bd-4698-4e35-88ab-8026b75ca4e3",
   "metadata": {},
   "outputs": [],
   "source": []
  }
 ],
 "metadata": {
  "kernelspec": {
   "display_name": "Python 3 (ipykernel)",
   "language": "python",
   "name": "python3"
  },
  "language_info": {
   "codemirror_mode": {
    "name": "ipython",
    "version": 3
   },
   "file_extension": ".py",
   "mimetype": "text/x-python",
   "name": "python",
   "nbconvert_exporter": "python",
   "pygments_lexer": "ipython3",
   "version": "3.12.3"
  }
 },
 "nbformat": 4,
 "nbformat_minor": 5
}

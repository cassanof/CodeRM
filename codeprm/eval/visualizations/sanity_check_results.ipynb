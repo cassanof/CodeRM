{
 "cells": [
  {
   "cell_type": "code",
   "execution_count": 1,
   "id": "1a4bb28f-3158-4f3a-8681-da1ee524b713",
   "metadata": {},
   "outputs": [],
   "source": [
    "from codeprm.utils import gunzip_json_read\n",
    "result_path = \"../../../results/orm_results/lcb_starcoder_15b_reasonings_temp08_orm_hard.json.gz\"\n",
    "items = gunzip_json_read(result_path)[\"items\"]"
   ]
  },
  {
   "cell_type": "code",
   "execution_count": 2,
   "id": "5f70a07d-9e9c-4e3b-bfd7-031897ab69f0",
   "metadata": {},
   "outputs": [
    {
     "name": "stderr",
     "output_type": "stream",
     "text": [
      "/home/elleven/.env/lib/python3.12/site-packages/tqdm/auto.py:21: TqdmWarning: IProgress not found. Please update jupyter and ipywidgets. See https://ipywidgets.readthedocs.io/en/stable/user_install.html\n",
      "  from .autonotebook import tqdm as notebook_tqdm\n"
     ]
    },
    {
     "data": {
      "text/plain": [
       "Dataset({\n",
       "    features: ['question', 'starter_code', 'difficulty', 'input_output', 'title', 'source', 'date', 'id'],\n",
       "    num_rows: 202\n",
       "})"
      ]
     },
     "execution_count": 2,
     "metadata": {},
     "output_type": "execute_result"
    }
   ],
   "source": [
    "import datasets\n",
    "ds = datasets.load_dataset(\"cassanof/livecodebench_lite_filtered\", split=\"test\")\n",
    "ds"
   ]
  },
  {
   "cell_type": "code",
   "execution_count": 17,
   "id": "67533419-b05e-4976-a2d3-263dd0cfe67a",
   "metadata": {},
   "outputs": [
    {
     "name": "stdout",
     "output_type": "stream",
     "text": [
      "1 0.69921875 False False\n"
     ]
    }
   ],
   "source": [
    "def get_highest_result(i):\n",
    "    max_score = -1\n",
    "    max_r = None\n",
    "    for r in i[\"results\"]:\n",
    "        score = r[\"orm_score\"]\n",
    "        if r[\"orm_label\"] == 1 and score > max_score:\n",
    "            max_r = r\n",
    "            max_score = score\n",
    "\n",
    "    return max_r\n",
    "\n",
    "i = items[2]\n",
    "best = get_highest_result(i)\n",
    "print(best[\"orm_label\"], best[\"orm_score\"], best[\"passing\"], \"exit\" in best[\"code\"])\n",
    "# print(i[\"prompt\"])\n",
    "# print(best[\"code\"])"
   ]
  },
  {
   "cell_type": "code",
   "execution_count": 4,
   "id": "ff3239ff-91eb-43d1-862b-37b578d19d7e",
   "metadata": {},
   "outputs": [],
   "source": [
    "import json\n",
    "ex = ds.filter(lambda ex: ex[\"id\"] == i[\"unique_name\"])[0]\n",
    "tests = json.loads(ex[\"input_output\"])\n",
    "inp = tests[\"inputs\"][0]\n",
    "out = tests[\"outputs\"][0]"
   ]
  },
  {
   "cell_type": "code",
   "execution_count": 5,
   "id": "38c56e5c-a01c-4501-87a9-e89872a3edff",
   "metadata": {},
   "outputs": [
    {
     "name": "stdout",
     "output_type": "stream",
     "text": [
      "exec_io_test_instrumented\n",
      "import sys\n",
      "import time\n",
      "import itertools\n",
      "from itertools import accumulate, product, permutations, combinations\n",
      "import collections\n",
      "from collections import Counter, OrderedDict, deque, defaultdict, ChainMap\n",
      "from functools import lru_cache\n",
      "import math\n",
      "from math import sqrt, sin, cos, tan, ceil, fabs, floor, gcd, exp, log, log2\n",
      "import fractions\n",
      "from typing import List, Tuple\n",
      "import numpy as np\n",
      "import random\n",
      "import heapq\n",
      "from heapq import *\n",
      "if hasattr(sys, \"set_int_max_str_digits\"):\n",
      "    sys.set_int_max_str_digits(0)\n",
      "if hasattr(sys, \"setrecursionlimit\"):\n",
      "    sys.setrecursionlimit(10**6)\n",
      "\n",
      "import warnings\n",
      "warnings.filterwarnings(\"ignore\")\n",
      "def __run_prog__():\n",
      "    \n",
      "    \n",
      "    # Read the number of development plans, the number of parameters, and the goal value\n",
      "    (n, k, p) = map(int, input().split())\n",
      "    \n",
      "    # Read the cost and increase value for each development plan\n",
      "    a = [tuple(map(int, input().split())) for _ in range(n)]\n",
      "    \n",
      "    # Initialize a set to store unique increase values\n",
      "    s = set()\n",
      "    \n",
      "    # Iterate through each development plan\n",
      "    for i in range(n):\n",
      "        # Iterate through each parameter\n",
      "        for j in range(k):\n",
      "            # Add the increase value to the set\n",
      "            s.add(a[i][j + 1])\n",
      "    \n",
      "    # Convert the set to a list and sort it\n",
      "    s = list(s)\n",
      "    s.sort()\n",
      "    \n",
      "    # If the goal value is not in the sorted list, print -1 and exit\n",
      "    if p not in s:\n",
      "        print(-1)\n",
      "        exit()\n",
      "    \n",
      "    # Find the index of the goal value in the sorted list\n",
      "    ind = s.index(p)\n",
      "    \n",
      "    # Initialize a 3D DP table to store the minimum cost to achieve a given increase value for each parameter\n",
      "    dp = [[[float('inf')] * (ind + 1) for _ in range(k)] for _ in range(n + 1)]\n",
      "    \n",
      "    # Set the initial value of the DP table for the base case\n",
      "    dp[0][0][0] = 0\n",
      "    \n",
      "    # Iterate through each development plan\n",
      "    for i in range(1, n + 1):\n",
      "        # Iterate through each parameter\n",
      "        for j in range(k):\n",
      "            # Iterate through each possible increase value\n",
      "            for l in range(ind + 1):\n",
      "                # Update the DP table with the minimum cost to achieve the current increase value for the current parameter\n",
      "                dp[i][j][l] = min(dp[i][j][l], dp[i - 1][j][l])\n",
      "                # If the current increase value is less than the goal value and the increase value plus the current parameter's increase value is less than or equal to the goal value\n",
      "                if l < ind and s[l] + a[i - 1][j + 1] <= p:\n",
      "                    # Update the DP table with the minimum cost to achieve the increase value plus the current parameter's increase value for the current parameter\n",
      "                    dp[i][j][l + 1] = min(dp[i][j][l + 1], dp[i - 1][j][l] + a[i - 1][0])\n",
      "                # If the current parameter is not the last parameter\n",
      "                if j < k - 1:\n",
      "                    # Update the DP table with the minimum cost to achieve the current increase value for the next parameter\n",
      "                    dp[i][j + 1][l] = min(dp[i][j + 1][l], dp[i - 1][j][l])\n",
      "    \n",
      "    # Initialize the answer variable to infinity\n",
      "    ans = float('inf')\n",
      "    \n",
      "    # Iterate through each parameter\n",
      "    for i in range(k):\n",
      "        # Iterate through each possible increase value\n",
      "        for j in range(ind + 1):\n",
      "            # Update the answer with the minimum cost to achieve the current increase value for the current parameter\n",
      "            ans = min(ans, dp[n][i][j])\n",
      "    \n",
      "    # Print the minimum total cost required to achieve the goal, or -1 if it is not possible\n",
      "    print(ans)\n",
      "\n",
      "__inputs__ = ['1 5 5\\n568425132 2 1 0 3 3\\n', '1 2 3\\n332434433 3 3\\n', '2 1 2\\n575897457 1\\n410285751 0\\n', '9 1 5\\n333691044 1\\n612408801 5\\n264029796 4\\n793992139 0\\n573638845 0\\n641091909 5\\n443111801 5\\n296150763 3\\n550104011 3\\n', '11 4 5\\n132217208 3 0 2 1\\n812020563 2 3 1 4\\n153296646 3 2 1 4\\n201801747 4 4 2 1\\n457902686 2 0 1 4\\n51178777 0 1 3 3\\n292967162 4 5 5 3\\n611688860 3 2 1 4\\n210451552 0 1 3 1\\n187698221 5 3 4 1\\n865361151 1 2 3 0\\n', '15 2 4\\n438194920 4 0\\n452747126 3 4\\n292707699 3 2\\n454969762 2 1\\n225502072 3 2\\n840535665 3 1\\n195289698 4 4\\n383671009 2 3\\n799590825 3 0\\n962754348 3 3\\n939323268 4 0\\n134070721 2 0\\n988535570 1 3\\n796932948 0 2\\n136526272 0 3\\n', '14 5 5\\n51251322 1 5 3 4 5\\n330453416 3 4 5 1 3\\n233997594 4 5 4 4 2\\n611970211 0 4 0 3 5\\n747560903 2 2 5 3 1\\n110751047 3 3 0 3 4\\n292281311 0 1 2 4 1\\n76165926 1 5 0 0 5\\n392743709 3 3 3 5 4\\n983797251 0 3 5 2 3\\n177466264 4 4 1 4 2\\n571501389 3 0 3 2 5\\n24339259 5 3 1 4 3\\n744035760 1 2 1 5 4\\n', '35 2 4\\n845064628 2 0\\n33427511 1 2\\n733430855 1 4\\n115313 4 4\\n512637879 0 2\\n496441221 3 0\\n787692781 2 0\\n430364498 1 0\\n633059006 0 4\\n423263600 1 2\\n754689461 4 3\\n984188109 1 4\\n432643826 0 4\\n86805356 3 4\\n238009692 2 4\\n19758186 1 0\\n247965747 1 3\\n595850332 3 2\\n195157982 3 2\\n790365240 1 4\\n953809377 3 1\\n521680158 3 0\\n127175704 3 3\\n636299783 4 4\\n361941329 1 2\\n294078263 0 1\\n616044463 3 4\\n158438261 4 4\\n538858982 3 1\\n454831905 1 1\\n524636876 0 2\\n483990620 3 0\\n610785920 2 4\\n802707460 2 2\\n137125604 1 1\\n', '79 5 5\\n212663887 4 3 4 3 0\\n341211424 5 5 1 4 5\\n333739244 5 4 1 0 3\\n434892101 1 0 1 5 2\\n162078509 5 0 1 3 2\\n735363846 2 3 3 5 2\\n805854269 4 1 0 3 1\\n84306003 3 1 0 4 3\\n686021262 0 4 3 1 3\\n476333549 5 5 3 1 5\\n665315246 0 4 3 4 1\\n892995141 4 1 4 5 0\\n770557333 1 2 4 5 0\\n328185671 0 2 3 0 0\\n810071127 4 3 5 3 5\\n721123163 3 3 0 1 1\\n866164497 5 0 5 1 5\\n815872117 3 2 4 1 4\\n829135983 1 2 2 3 4\\n179404560 1 0 4 1 3\\n370073171 3 3 2 5 2\\n632512636 3 1 1 5 2\\n259406548 2 0 3 5 5\\n382807671 5 3 2 0 0\\n113455244 5 4 2 1 4\\n882390196 4 1 5 0 3\\n495133643 1 2 4 2 1\\n203888900 2 4 1 1 2\\n76986832 0 0 1 5 0\\n948085708 0 5 5 3 2\\n179297415 2 4 0 0 5\\n212879928 0 4 1 0 1\\n688187888 0 0 5 4 1\\n832895904 0 4 0 0 0\\n700852029 1 2 2 0 3\\n13381358 2 2 3 1 1\\n557583139 4 3 4 3 1\\n914189158 3 3 3 5 2\\n398663218 1 4 3 0 3\\n713432942 1 1 1 2 3\\n795634276 5 4 5 1 2\\n403081098 1 0 0 0 3\\n285258097 0 1 3 3 3\\n671345201 2 3 0 3 3\\n744637107 3 5 3 1 1\\n964098947 4 5 1 5 3\\n784710085 5 4 2 3 4\\n226703454 3 4 0 4 1\\n464131488 5 3 1 5 4\\n756443033 2 4 3 1 2\\n858463467 1 1 2 1 5\\n251753474 3 1 4 0 4\\n692155560 0 4 0 2 3\\n258952438 1 5 4 4 0\\n262326431 0 0 4 2 5\\n824874102 3 3 2 5 3\\n188022094 0 4 4 2 1\\n459440637 3 1 2 0 1\\n932222496 5 1 0 0 0\\n196326963 0 5 1 5 2\\n156218912 1 1 4 1 2\\n774338686 3 5 5 3 3\\n41753637 3 5 5 4 0\\n589009354 3 1 2 4 4\\n840684289 0 4 2 3 5\\n577178240 2 5 1 2 1\\n402008202 3 1 1 1 5\\n424469449 0 4 4 0 5\\n138927697 3 5 3 0 3\\n401423568 2 2 5 5 4\\n691916754 2 4 5 3 3\\n758349189 1 5 3 0 5\\n807469321 0 5 5 1 5\\n23741714 3 5 0 0 1\\n579809070 3 1 1 5 5\\n414135306 2 1 3 2 4\\n282382746 0 3 4 5 2\\n403237764 4 0 1 1 0\\n434218021 4 5 3 4 2\\n', '100 5 5\\n131435004 1 2 0 5 5\\n66291318 3 3 3 0 1\\n945788513 1 5 2 0 5\\n290887199 1 3 2 2 4\\n872516800 1 5 3 5 1\\n183801281 5 4 3 0 5\\n696517207 2 2 2 1 5\\n641570365 1 2 5 3 2\\n155672108 4 2 5 1 1\\n113038659 2 1 5 1 3\\n405399545 3 4 5 0 4\\n862211366 5 5 0 3 0\\n305353499 3 4 5 1 1\\n394010314 2 1 4 3 2\\n319622430 5 5 3 5 3\\n205143575 0 1 1 2 2\\n563576110 3 5 2 2 2\\n649835030 4 5 4 0 5\\n658870721 0 3 5 1 4\\n999787277 2 5 2 3 3\\n136617509 2 4 0 3 1\\n548814778 2 5 1 3 1\\n506186677 1 4 1 2 0\\n914913687 5 1 4 0 2\\n765521096 3 2 4 2 5\\n638120340 1 1 1 1 2\\n914407910 5 5 5 0 0\\n956853580 2 5 2 5 1\\n434738117 5 3 5 2 1\\n781954936 4 2 4 0 0\\n68277017 4 2 0 1 5\\n80557774 5 4 3 2 2\\n316629697 0 5 4 0 2\\n457307065 0 3 3 5 4\\n526149667 4 4 3 5 3\\n780902571 1 4 4 5 2\\n941014899 2 5 5 0 1\\n231176873 3 5 2 0 2\\n860008544 2 1 1 5 4\\n901870319 4 4 1 0 1\\n240981355 0 5 4 3 3\\n882703153 4 3 3 0 3\\n322379908 0 0 3 4 5\\n739173802 0 5 3 3 5\\n517459726 3 3 5 1 2\\n134253329 2 4 0 3 5\\n150748676 3 4 0 4 4\\n703338107 1 4 5 0 2\\n262549948 3 4 2 0 2\\n805484263 0 3 2 3 3\\n466179911 5 3 5 5 0\\n828031002 5 5 2 0 1\\n736315790 2 4 2 2 3\\n556037298 3 3 2 0 1\\n726171378 3 4 0 3 5\\n132345398 3 5 1 3 0\\n344343153 5 1 2 3 0\\n978068783 2 4 4 4 0\\n855955985 0 5 5 2 2\\n856372486 3 0 3 5 3\\n255216299 5 4 5 5 3\\n122894101 3 2 3 1 2\\n771982048 3 0 1 1 0\\n193215089 2 5 0 0 2\\n373124339 2 2 0 0 0\\n122765102 3 4 0 5 5\\n502351023 1 4 2 2 5\\n295674583 0 1 0 5 3\\n239610674 3 0 0 2 4\\n460775502 2 4 1 3 3\\n327764383 2 4 4 3 1\\n179294554 2 5 4 1 5\\n101829946 5 3 3 5 2\\n22578182 2 1 5 1 1\\n771993604 4 1 4 3 2\\n821047411 3 4 0 4 5\\n105967961 4 2 3 3 4\\n37380843 0 4 0 4 2\\n768924771 4 0 5 5 3\\n206574202 2 1 5 5 5\\n400064551 0 1 5 1 1\\n141031273 3 1 1 2 5\\n372406273 1 4 0 0 5\\n880633842 1 2 5 3 2\\n262805641 3 2 0 4 3\\n678158629 0 0 4 1 3\\n230238798 5 2 3 4 1\\n562120944 4 0 1 4 1\\n873464164 0 1 0 0 1\\n292456491 4 4 2 5 0\\n421441271 4 1 4 0 2\\n608245150 4 1 1 0 5\\n48377803 1 2 5 2 5\\n818665108 2 0 2 3 5\\n908124038 3 3 5 1 2\\n721512000 3 1 2 5 5\\n957677040 1 1 4 2 5\\n952396185 3 1 2 4 4\\n493013726 0 5 4 2 0\\n395266888 0 2 3 3 5\\n', '100 5 5\\n447186959 1 1 1 0 1\\n149665665 1 1 0 1 0\\n258069460 0 1 1 1 1\\n434607051 1 0 1 0 0\\n321974954 1 1 1 0 1\\n957486334 0 1 0 0 1\\n7358473 0 0 1 1 0\\n324737385 0 1 1 1 1\\n193084146 0 1 1 1 1\\n840814167 0 1 0 0 1\\n771915306 1 1 0 0 1\\n443410887 1 1 0 1 1\\n56987375 0 1 1 0 1\\n560436877 0 0 0 0 0\\n163586827 1 1 0 0 0\\n911466122 1 0 1 0 1\\n942186824 1 1 0 0 1\\n756102508 0 0 0 0 1\\n928375270 1 0 0 1 0\\n250915410 1 1 1 0 0\\n861784310 0 1 1 0 1\\n426136307 0 1 0 1 0\\n97876531 0 1 0 1 0\\n189786254 1 0 0 0 1\\n306267008 1 0 1 1 1\\n561221539 1 1 1 0 0\\n901425655 1 1 1 0 1\\n975099068 1 0 0 1 1\\n878491854 1 1 1 0 0\\n102425398 0 0 1 0 0\\n420759090 0 1 1 1 0\\n809747672 1 0 0 1 1\\n607106071 1 0 1 0 1\\n689350515 0 1 1 0 1\\n771483588 1 0 0 0 0\\n181411031 1 0 0 0 0\\n277498656 1 1 1 1 0\\n677357260 0 0 1 1 1\\n845131766 1 0 1 1 0\\n694457668 0 0 0 1 0\\n676679642 1 1 0 1 0\\n445868884 0 0 1 0 1\\n945266700 0 1 0 1 0\\n827982695 0 1 0 1 0\\n410039241 0 1 1 1 0\\n154506603 0 0 0 0 1\\n681217596 1 1 0 0 1\\n908510526 1 0 0 0 0\\n93341174 0 0 1 0 0\\n860000863 0 1 0 1 1\\n437948153 0 1 1 0 0\\n504164779 1 1 1 1 0\\n612293742 0 1 1 1 0\\n929048855 0 1 1 1 1\\n751284253 1 1 0 1 1\\n511073557 1 0 1 0 1\\n182629118 1 0 0 0 0\\n165564115 1 1 1 0 0\\n870869856 0 0 1 0 0\\n983422135 0 1 1 0 1\\n831406514 1 1 1 1 0\\n672836814 1 0 0 1 1\\n462879525 0 1 0 0 1\\n347748372 0 0 0 0 1\\n171880461 0 0 0 1 0\\n594375098 1 0 0 1 0\\n477341308 1 1 1 0 0\\n624889332 0 0 0 0 0\\n386168908 1 1 1 1 0\\n582843354 0 0 1 1 1\\n942950470 1 0 0 1 1\\n341214468 1 1 0 0 0\\n359000486 0 1 1 1 0\\n657020454 0 1 1 1 0\\n18795880 0 1 1 1 0\\n195679627 1 1 0 0 0\\n643009488 1 0 1 1 1\\n395657502 0 0 1 1 1\\n434918653 1 0 0 1 1\\n580485182 0 1 1 1 1\\n271084243 0 0 1 1 0\\n587651001 0 1 1 0 1\\n51212777 1 1 1 1 0\\n943267293 1 1 1 1 1\\n998967287 1 1 1 0 1\\n473349020 0 0 1 1 0\\n576382388 1 1 1 1 0\\n408712667 0 0 0 1 0\\n856468341 0 0 1 1 0\\n969910623 1 1 1 1 1\\n458641517 1 0 1 0 0\\n577933857 0 0 0 1 1\\n172174335 1 0 1 1 1\\n640336776 0 0 1 1 0\\n964032579 1 0 1 0 1\\n196732005 0 1 0 0 1\\n514309024 0 1 1 1 0\\n658750697 0 0 0 0 1\\n232319909 0 1 1 0 1\\n285564646 1 1 1 0 0\\n', '100 5 5\\n591489582 0 1 0 1 0\\n206721662 1 0 0 1 0\\n640875523 0 0 0 1 0\\n953890243 1 0 0 0 1\\n738959403 1 1 1 0 0\\n237020790 0 1 0 1 0\\n454754531 0 0 1 0 0\\n186342178 1 1 1 0 1\\n372554436 0 1 1 1 1\\n128851204 1 1 0 0 1\\n612537027 1 0 1 0 1\\n898223509 1 0 0 0 0\\n132977653 0 1 1 1 0\\n195892491 0 1 1 0 1\\n703651296 0 0 0 0 0\\n495781507 0 1 1 0 1\\n792924899 0 1 1 0 1\\n438780775 0 0 1 0 0\\n775089757 0 0 0 1 0\\n51447847 0 1 0 0 0\\n231869159 0 0 0 0 0\\n600734958 0 0 1 0 1\\n220159014 0 0 1 0 1\\n985168986 1 1 0 1 0\\n150817416 1 0 1 0 1\\n176062567 1 0 1 1 0\\n652137736 1 1 0 0 0\\n103944636 0 0 0 0 0\\n905657265 0 1 0 1 1\\n487573502 1 1 0 1 1\\n351280949 1 0 0 0 1\\n570370375 1 1 0 0 0\\n227994413 1 1 1 0 0\\n338938599 0 0 1 0 0\\n756392912 1 0 0 0 1\\n958583556 0 0 0 1 1\\n964751507 0 1 1 1 0\\n835719300 0 0 1 0 0\\n916290978 0 1 1 0 0\\n801377635 1 0 0 1 1\\n626313143 1 1 1 1 0\\n146864908 1 0 0 1 1\\n549390413 0 0 0 0 1\\n424029058 0 1 0 0 0\\n879753261 1 0 0 0 1\\n425296466 0 1 0 0 1\\n308319256 0 1 1 1 1\\n908476181 0 1 1 1 0\\n837971597 1 1 0 0 1\\n97002771 0 1 0 0 1\\n665140280 0 0 0 1 0\\n844731146 0 0 0 0 0\\n846442044 0 1 1 0 1\\n489896101 0 0 0 1 1\\n344164252 0 1 0 1 1\\n271792791 0 0 1 1 1\\n788557536 0 0 0 1 1\\n978058140 0 1 0 1 1\\n34285599 1 1 0 1 0\\n537583007 1 0 1 1 1\\n401683606 0 0 0 0 1\\n905408391 0 0 1 1 0\\n188947381 1 0 1 1 1\\n414687865 0 1 1 1 1\\n839780745 1 0 1 1 0\\n255974741 1 0 1 1 1\\n859904153 1 0 0 1 1\\n110694446 1 0 0 0 1\\n467548298 0 1 1 1 1\\n622091479 0 0 0 0 1\\n974954808 1 1 1 0 1\\n766350923 0 1 0 1 0\\n89895855 0 1 0 0 0\\n334123543 1 1 1 0 1\\n232655603 1 1 1 0 1\\n59165786 0 0 1 1 0\\n540183032 0 0 1 1 0\\n332775765 1 0 0 0 1\\n502742687 0 1 0 1 0\\n146969942 0 0 0 0 0\\n656114319 1 0 0 0 1\\n680686853 1 0 1 1 0\\n561849012 0 0 1 0 0\\n853156334 0 0 0 0 0\\n436575873 1 0 1 0 0\\n672325838 1 0 0 0 0\\n700835354 1 1 1 0 1\\n776957779 1 0 0 0 0\\n9432221 1 1 0 0 0\\n699966139 0 0 1 1 0\\n542572456 1 1 1 0 1\\n990142777 0 1 0 0 0\\n410333053 1 0 1 0 1\\n641929203 1 0 1 0 0\\n309453769 1 0 1 0 1\\n766482517 1 1 0 0 0\\n551960588 1 1 1 0 0\\n501768809 0 1 0 1 0\\n308067218 0 1 0 0 0\\n832447187 0 0 1 0 0\\n', '4 3 5\\n5 3 0 2\\n3 1 2 3\\n3 2 4 0\\n1 0 1 4\\n', '7 3 5\\n85 1 0 1\\n37 1 1 0\\n38 2 0 0\\n45 0 2 2\\n67 1 1 0\\n12 2 2 0\\n94 2 2 1\\n']\n",
      "for __inp__ in __inputs__:\n",
      "    import io\n",
      "    sys.stdin = io.TextIOWrapper(io.BytesIO(__inp__.encode()), encoding='utf8')\n",
      "    __run_prog__()\n",
      "    print(\"___SENTINEL___\")\n",
      "\n",
      "[]\n"
     ]
    },
    {
     "data": {
      "text/plain": [
       "(True, '')"
      ]
     },
     "execution_count": 5,
     "metadata": {},
     "output_type": "execute_result"
    }
   ],
   "source": [
    "from codeprm.execution import smart_exec_tests\n",
    "smart_exec_tests(best[\"code\"], tests)"
   ]
  },
  {
   "cell_type": "code",
   "execution_count": 23,
   "id": "965773c7-03b5-4810-8a0b-54bbd256aec0",
   "metadata": {},
   "outputs": [
    {
     "name": "stdout",
     "output_type": "stream",
     "text": [
      "Correct in total: 72\n",
      "Correct by purely guessing (none predicted good): 0\n"
     ]
    }
   ],
   "source": [
    "correct = 0\n",
    "correct_by_guess = 0\n",
    "for i in items:\n",
    "    best = get_highest_result(i)\n",
    "    if best == None:\n",
    "        best = i[\"results\"][0]\n",
    "        if best[\"passing\"]:\n",
    "            correct += 1\n",
    "            correct_by_guess += 1\n",
    "    else:\n",
    "        if best[\"passing\"]:\n",
    "            correct += 1\n",
    "\n",
    "print(f\"Correct in total: {correct}\")\n",
    "print(f\"Correct by purely guessing (none predicted good): {correct_by_guess}\")"
   ]
  }
 ],
 "metadata": {
  "kernelspec": {
   "display_name": "Python 3 (ipykernel)",
   "language": "python",
   "name": "python3"
  },
  "language_info": {
   "codemirror_mode": {
    "name": "ipython",
    "version": 3
   },
   "file_extension": ".py",
   "mimetype": "text/x-python",
   "name": "python",
   "nbconvert_exporter": "python",
   "pygments_lexer": "ipython3",
   "version": "3.12.3"
  }
 },
 "nbformat": 4,
 "nbformat_minor": 5
}

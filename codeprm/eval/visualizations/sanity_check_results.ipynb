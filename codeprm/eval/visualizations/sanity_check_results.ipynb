{
 "cells": [
  {
   "cell_type": "code",
   "execution_count": 24,
   "id": "1a4bb28f-3158-4f3a-8681-da1ee524b713",
   "metadata": {},
   "outputs": [],
   "source": [
    "from codeprm.utils import gunzip_json_read\n",
    "result_path = \"../../../results/orm_results/lcb_starcoder_15b_reasonings_temp08_orm_hard.json.gz\"\n",
    "items = gunzip_json_read(result_path)[\"items\"]"
   ]
  },
  {
   "cell_type": "code",
   "execution_count": 25,
   "id": "5f70a07d-9e9c-4e3b-bfd7-031897ab69f0",
   "metadata": {},
   "outputs": [
    {
     "data": {
      "text/plain": [
       "Dataset({\n",
       "    features: ['question', 'starter_code', 'difficulty', 'input_output', 'title', 'source', 'date', 'id'],\n",
       "    num_rows: 202\n",
       "})"
      ]
     },
     "execution_count": 25,
     "metadata": {},
     "output_type": "execute_result"
    }
   ],
   "source": [
    "import datasets\n",
    "ds = datasets.load_dataset(\"cassanof/livecodebench_lite_filtered\", split=\"test\")\n",
    "ds"
   ]
  },
  {
   "cell_type": "code",
   "execution_count": 26,
   "id": "67533419-b05e-4976-a2d3-263dd0cfe67a",
   "metadata": {},
   "outputs": [
    {
     "name": "stdout",
     "output_type": "stream",
     "text": [
      "1 0.69921875 False False\n"
     ]
    }
   ],
   "source": [
    "def get_highest_result(i):\n",
    "    max_score = -1\n",
    "    max_r = None\n",
    "    for r in i[\"results\"]:\n",
    "        score = r[\"orm_score\"]\n",
    "        if r[\"orm_label\"] == 1 and score > max_score:\n",
    "            max_r = r\n",
    "            max_score = score\n",
    "\n",
    "    return max_r\n",
    "\n",
    "i = items[2]\n",
    "best = get_highest_result(i)\n",
    "print(best[\"orm_label\"], best[\"orm_score\"], best[\"passing\"], \"exit\" in best[\"code\"])\n",
    "# print(i[\"prompt\"])\n",
    "# print(best[\"code\"])"
   ]
  },
  {
   "cell_type": "code",
   "execution_count": 78,
   "id": "ff3239ff-91eb-43d1-862b-37b578d19d7e",
   "metadata": {},
   "outputs": [
    {
     "name": "stderr",
     "output_type": "stream",
     "text": [
      "Filter: 100%|█████████████████████████████████████████████████████████████████████████████████████████████████████████████████████| 202/202 [00:00<00:00, 350.53 examples/s]\n"
     ]
    }
   ],
   "source": [
    "import json\n",
    "ex = ds.filter(lambda ex: ex[\"id\"] == i[\"unique_name\"])[0]\n",
    "tests = json.loads(ex[\"input_output\"])\n",
    "inp = tests[\"inputs\"][0]\n",
    "out = tests[\"outputs\"][0]"
   ]
  },
  {
   "cell_type": "code",
   "execution_count": 80,
   "id": "38c56e5c-a01c-4501-87a9-e89872a3edff",
   "metadata": {},
   "outputs": [
    {
     "data": {
      "text/plain": [
       "(True, '')"
      ]
     },
     "execution_count": 80,
     "metadata": {},
     "output_type": "execute_result"
    }
   ],
   "source": [
    "from codeprm.execution import smart_exec_tests\n",
    "smart_exec_tests(r[\"code\"], tests)"
   ]
  },
  {
   "cell_type": "code",
   "execution_count": 29,
   "id": "965773c7-03b5-4810-8a0b-54bbd256aec0",
   "metadata": {},
   "outputs": [
    {
     "name": "stdout",
     "output_type": "stream",
     "text": [
      "Correct in total: 17\n",
      "Correct by purely guessing (none predicted good): 0\n"
     ]
    }
   ],
   "source": [
    "correct = 0\n",
    "correct_by_guess = 0\n",
    "for i in items:\n",
    "    best = get_highest_result(i)\n",
    "    if best == None:\n",
    "        best = i[\"results\"][0]\n",
    "        if best[\"passing\"]:\n",
    "            correct += 1\n",
    "            correct_by_guess += 1\n",
    "    else:\n",
    "        if best[\"passing\"]:\n",
    "            correct += 1\n",
    "\n",
    "print(f\"Correct in total: {correct}\")\n",
    "print(f\"Correct by purely guessing (none predicted good): {correct_by_guess}\")"
   ]
  },
  {
   "cell_type": "code",
   "execution_count": 30,
   "id": "3aeac313-3efb-44d5-a1ce-6efc7c1c25f8",
   "metadata": {},
   "outputs": [],
   "source": [
    "from codeprm.utils import gunzip_json_read\n",
    "result_path = \"../../../results/re_eval/lcb_starcoder_15b_reasonings_greedy.json.gz\"\n",
    "items = gunzip_json_read(result_path)[\"items\"]"
   ]
  },
  {
   "cell_type": "code",
   "execution_count": 90,
   "id": "bf9048fa-6c06-43f0-ae1c-c2158f14f134",
   "metadata": {},
   "outputs": [
    {
     "name": "stdout",
     "output_type": "stream",
     "text": [
      "easy True \n",
      "For a positive integer X, let \\text{ctz}(X) be the (maximal) number of consecutive zeros at the end of the binary notation of X.\n",
      "If the binary notation of X ends with a 1, then \\text{ctz}(X)=0.\n",
      "You are given a positive integer N. Print \\text{ctz}(N).\n",
      "\n",
      "Input\n",
      "\n",
      "The input is given from Standard Input in the following format:\n",
      "N\n",
      "\n",
      "Output\n",
      "\n",
      "Print \\text{ctz}(N).\n",
      "\n",
      "Constraints\n",
      "\n",
      "\n",
      "- 1\\leq N\\leq 10^9\n",
      "- N is an integer.\n",
      "\n",
      "Sample Input 1\n",
      "\n",
      "2024\n",
      "\n",
      "Sample Output 1\n",
      "\n",
      "3\n",
      "\n",
      "2024 is 11111101000 in binary, with three consecutive 0s from the end, so \\text{ctz}(2024)=3.\n",
      "Thus, print 3.\n",
      "\n",
      "Sample Input 2\n",
      "\n",
      "18\n",
      "\n",
      "Sample Output 2\n",
      "\n",
      "1\n",
      "\n",
      "18 is 10010 in binary, so \\text{ctz}(18)=1.\n",
      "Note that we count the trailing zeros.\n",
      "\n",
      "Sample Input 3\n",
      "\n",
      "5\n",
      "\n",
      "Sample Output 3\n",
      "\n",
      "0\n",
      "\n",
      "\n",
      "# Read the input integer N\n",
      "n = int(input())\n",
      "\n",
      "# Initialize a counter to keep track of consecutive zeros\n",
      "c = 0\n",
      "\n",
      "# Loop until N becomes 0\n",
      "while n > 0:\n",
      "\t# If the last digit of N is 0, increment the counter and right shift N by 1\n",
      "\tif n % 2 == 0:\n",
      "\t\tc += 1\n",
      "\t\tn = n >> 1\n",
      "\t# If the last digit of N is not 0, break the loop\n",
      "\telse:\n",
      "\t\tbreak\n",
      "\n",
      "# Print the number of consecutive zeros at the end of the binary notation of N\n",
      "print(c)\n"
     ]
    }
   ],
   "source": [
    "with_passing = list(filter(lambda i: i[\"results\"][0][\"passing\"], items))\n",
    "i = with_passing[21]\n",
    "r = i[\"results\"][0]\n",
    "print(i[\"difficulty\"], r[\"passing\"], r[\"output\"])\n",
    "print(i[\"prompt\"])\n",
    "print(r[\"code\"])"
   ]
  },
  {
   "cell_type": "code",
   "execution_count": 93,
   "id": "4a5a372c-2e53-4f03-b3d4-0c2fd12c0e01",
   "metadata": {},
   "outputs": [
    {
     "name": "stdin",
     "output_type": "stream",
     "text": [
      " 5\n"
     ]
    },
    {
     "name": "stdout",
     "output_type": "stream",
     "text": [
      "0\n"
     ]
    }
   ],
   "source": [
    "# Read the input integer N\n",
    "n = int(input())\n",
    "\n",
    "# Initialize a counter to keep track of consecutive zeros\n",
    "c = 0\n",
    "\n",
    "# Loop until N becomes 0\n",
    "while n > 0:\n",
    "\t# If the last digit of N is 0, increment the counter and right shift N by 1\n",
    "\tif n % 2 == 0:\n",
    "\t\tc += 1\n",
    "\t\tn = n >> 1\n",
    "\t# If the last digit of N is not 0, break the loop\n",
    "\telse:\n",
    "\t\tbreak\n",
    "\n",
    "# Print the number of consecutive zeros at the end of the binary notation of N\n",
    "print(c)"
   ]
  },
  {
   "cell_type": "code",
   "execution_count": null,
   "id": "5d30551b-4a81-4052-aa23-7289458ba712",
   "metadata": {},
   "outputs": [],
   "source": []
  }
 ],
 "metadata": {
  "kernelspec": {
   "display_name": "Python 3 (ipykernel)",
   "language": "python",
   "name": "python3"
  },
  "language_info": {
   "codemirror_mode": {
    "name": "ipython",
    "version": 3
   },
   "file_extension": ".py",
   "mimetype": "text/x-python",
   "name": "python",
   "nbconvert_exporter": "python",
   "pygments_lexer": "ipython3",
   "version": "3.12.3"
  }
 },
 "nbformat": 4,
 "nbformat_minor": 5
}

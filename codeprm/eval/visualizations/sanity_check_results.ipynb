{
 "cells": [
  {
   "cell_type": "code",
   "execution_count": 24,
   "id": "1a4bb28f-3158-4f3a-8681-da1ee524b713",
   "metadata": {},
   "outputs": [],
   "source": [
    "from codeprm.utils import gunzip_json_read\n",
    "result_path = \"../../../results/orm_results/lcb_starcoder_15b_reasonings_temp08_orm_hard.json.gz\"\n",
    "items = gunzip_json_read(result_path)[\"items\"]"
   ]
  },
  {
   "cell_type": "code",
   "execution_count": 25,
   "id": "5f70a07d-9e9c-4e3b-bfd7-031897ab69f0",
   "metadata": {},
   "outputs": [
    {
     "data": {
      "text/plain": [
       "Dataset({\n",
       "    features: ['question', 'starter_code', 'difficulty', 'input_output', 'title', 'source', 'date', 'id'],\n",
       "    num_rows: 202\n",
       "})"
      ]
     },
     "execution_count": 25,
     "metadata": {},
     "output_type": "execute_result"
    }
   ],
   "source": [
    "import datasets\n",
    "ds = datasets.load_dataset(\"cassanof/livecodebench_lite_filtered\", split=\"test\")\n",
    "ds"
   ]
  },
  {
   "cell_type": "code",
   "execution_count": 26,
   "id": "67533419-b05e-4976-a2d3-263dd0cfe67a",
   "metadata": {},
   "outputs": [
    {
     "name": "stdout",
     "output_type": "stream",
     "text": [
      "1 0.69921875 False False\n"
     ]
    }
   ],
   "source": [
    "def get_highest_result(i):\n",
    "    max_score = -1\n",
    "    max_r = None\n",
    "    for r in i[\"results\"]:\n",
    "        score = r[\"orm_score\"]\n",
    "        if r[\"orm_label\"] == 1 and score > max_score:\n",
    "            max_r = r\n",
    "            max_score = score\n",
    "\n",
    "    return max_r\n",
    "\n",
    "i = items[2]\n",
    "best = get_highest_result(i)\n",
    "print(best[\"orm_label\"], best[\"orm_score\"], best[\"passing\"], \"exit\" in best[\"code\"])\n",
    "# print(i[\"prompt\"])\n",
    "# print(best[\"code\"])"
   ]
  },
  {
   "cell_type": "code",
   "execution_count": 78,
   "id": "ff3239ff-91eb-43d1-862b-37b578d19d7e",
   "metadata": {},
   "outputs": [
    {
     "name": "stderr",
     "output_type": "stream",
     "text": [
      "Filter: 100%|█████████████████████████████████████████████████████████████████████████████████████████████████████████████████████| 202/202 [00:00<00:00, 350.53 examples/s]\n"
     ]
    }
   ],
   "source": [
    "import json\n",
    "ex = ds.filter(lambda ex: ex[\"id\"] == i[\"unique_name\"])[0]\n",
    "tests = json.loads(ex[\"input_output\"])\n",
    "inp = tests[\"inputs\"][0]\n",
    "out = tests[\"outputs\"][0]"
   ]
  },
  {
   "cell_type": "code",
   "execution_count": 80,
   "id": "38c56e5c-a01c-4501-87a9-e89872a3edff",
   "metadata": {},
   "outputs": [
    {
     "data": {
      "text/plain": [
       "(True, '')"
      ]
     },
     "execution_count": 80,
     "metadata": {},
     "output_type": "execute_result"
    }
   ],
   "source": [
    "from codeprm.execution import smart_exec_tests\n",
    "smart_exec_tests(r[\"code\"], tests)"
   ]
  },
  {
   "cell_type": "code",
   "execution_count": 29,
   "id": "965773c7-03b5-4810-8a0b-54bbd256aec0",
   "metadata": {},
   "outputs": [
    {
     "name": "stdout",
     "output_type": "stream",
     "text": [
      "Correct in total: 17\n",
      "Correct by purely guessing (none predicted good): 0\n"
     ]
    }
   ],
   "source": [
    "correct = 0\n",
    "correct_by_guess = 0\n",
    "for i in items:\n",
    "    best = get_highest_result(i)\n",
    "    if best == None:\n",
    "        best = i[\"results\"][0]\n",
    "        if best[\"passing\"]:\n",
    "            correct += 1\n",
    "            correct_by_guess += 1\n",
    "    else:\n",
    "        if best[\"passing\"]:\n",
    "            correct += 1\n",
    "\n",
    "print(f\"Correct in total: {correct}\")\n",
    "print(f\"Correct by purely guessing (none predicted good): {correct_by_guess}\")"
   ]
  },
  {
   "cell_type": "code",
   "execution_count": 146,
   "id": "3aeac313-3efb-44d5-a1ce-6efc7c1c25f8",
   "metadata": {},
   "outputs": [],
   "source": [
    "from codeprm.utils import gunzip_json_read\n",
    "result_path = \"../../../results/greedy_baselines/lcb_gpt4o_greedy_hard.json.gz\"\n",
    "items = gunzip_json_read(result_path)[\"items\"]"
   ]
  },
  {
   "cell_type": "code",
   "execution_count": 160,
   "id": "bf9048fa-6c06-43f0-ae1c-c2158f14f134",
   "metadata": {},
   "outputs": [
    {
     "name": "stdout",
     "output_type": "stream",
     "text": [
      "hard False errored with '  File \"/tmp/codeexec/23.py\", line 23\\n    def minimumChanges(self, s: str, k: int) -> int:\\nIndentationError: expected an indented block after class definition on line 22\\n'\n",
      "Given a string s and an integer k, partition s into k substrings such that the sum of the number of letter changes required to turn each substring into a semi-palindrome is minimized.\n",
      "Return an integer denoting the minimum number of letter changes required.\n",
      "Notes\n",
      "\n",
      "A string is a palindrome if it can be read the same way from left to right and right to left.\n",
      "A string with a length of len is considered a semi-palindrome if there exists a positive integer d such that 1 <= d < len and len % d == 0, and if we take indices that have the same modulo by d, they form a palindrome. For example, \"aa\", \"aba\", \"adbgad\", and, \"abab\" are semi-palindrome and \"a\", \"ab\", and, \"abca\" are not.\n",
      "A substring is a contiguous sequence of characters within a string.\n",
      "\n",
      " \n",
      "Example 1:\n",
      "\n",
      "Input: s = \"abcac\", k = 2\n",
      "Output: 1\n",
      "Explanation: We can divide s into substrings \"ab\" and \"cac\". The string \"cac\" is already a semi-palindrome. If we change \"ab\" to \"aa\", it becomes a semi-palindrome with d = 1.\n",
      "It can be shown that there is no way to divide the string \"abcac\" into two semi-palindrome substrings. Therefore, the answer would be at least 1.\n",
      "Example 2:\n",
      "\n",
      "Input: s = \"abcdef\", k = 2\n",
      "Output: 2\n",
      "Explanation: We can divide it into substrings \"abc\" and \"def\". Each of the substrings \"abc\" and \"def\" requires one change to become a semi-palindrome, so we need 2 changes in total to make all substrings semi-palindrome.\n",
      "It can be shown that we cannot divide the given string into two substrings in a way that it would require less than 2 changes.\n",
      "Example 3:\n",
      "\n",
      "Input: s = \"aabbaa\", k = 3\n",
      "Output: 0\n",
      "Explanation: We can divide it into substrings \"aa\", \"bb\" and \"aa\".\n",
      "The strings \"aa\" and \"bb\" are already semi-palindromes. Thus, the answer is zero.\n",
      "\n",
      " \n",
      "Constraints:\n",
      "\n",
      "2 <= s.length <= 200\n",
      "1 <= k <= s.length / 2\n",
      "s consists only of lowercase English letters.\n",
      "class Solution:\n",
      "    def minimumChanges(self, s: str, k: int) -> int:\n",
      "        def is_semi_palindrome(sub):\n",
      "            n = len(sub)\n",
      "            for d in range(1, n):\n",
      "                if n % d == 0:\n",
      "                    is_palindrome = True\n",
      "                    for i in range(d):\n",
      "                        for j in range(i, n, d):\n",
      "                            if sub[j] != sub[i]:\n",
      "                                is_palindrome = False\n",
      "                                break\n",
      "                        if not is_palindrome:\n",
      "                            break\n",
      "                    if is_palindrome:\n",
      "                        return True\n",
      "            return False\n",
      "\n",
      "        def min_changes_to_semi_palindrome(sub):\n",
      "            n = len(sub)\n",
      "            min_changes = float('inf')\n",
      "            for d in range(1, n):\n",
      "                if n % d == 0:\n",
      "                    changes = 0\n",
      "                    for i in range(d):\n",
      "                        freq = [0] * 26\n",
      "                        count = 0\n",
      "                        for j in range(i, n, d):\n",
      "                            freq[ord(sub[j]) - ord('a')] += 1\n",
      "                            count += 1\n",
      "                        max_freq = max(freq)\n",
      "                        changes += count - max_freq\n",
      "                    min_changes = min(min_changes, changes)\n",
      "            return min_changes\n",
      "\n",
      "        n = len(s)\n",
      "        dp = [[float('inf')] * (k + 1) for _ in range(n + 1)]\n",
      "        dp[0][0] = 0\n",
      "\n",
      "        for i in range(1, n + 1):\n",
      "            for j in range(1, k + 1):\n",
      "                for l in range(i):\n",
      "                    dp[i][j] = min(dp[i][j], dp[l][j - 1] + min_changes_to_semi_palindrome(s[l:i]))\n",
      "\n",
      "        return dp[n][k]\n"
     ]
    }
   ],
   "source": [
    "n = 3\n",
    "i = items[n]\n",
    "r = i[\"results\"][0]\n",
    "print(i[\"difficulty\"], r[\"passing\"], r[\"output\"])\n",
    "print(i[\"prompt\"])\n",
    "print(r[\"code\"])"
   ]
  },
  {
   "cell_type": "code",
   "execution_count": null,
   "id": "1a6f6a17-4efb-47b1-96c6-78c093e7d63f",
   "metadata": {},
   "outputs": [],
   "source": [
    "from codeprm.utils import gunzip_json_read\n",
    "result_path = \"../../../results/orm_results/lcb_starcoder_15b_reasonings_temp08_orm_hard.json.gz\"\n",
    "items = gunzip_json_read(result_path)[\"items\"]"
   ]
  }
 ],
 "metadata": {
  "kernelspec": {
   "display_name": "Python 3 (ipykernel)",
   "language": "python",
   "name": "python3"
  },
  "language_info": {
   "codemirror_mode": {
    "name": "ipython",
    "version": 3
   },
   "file_extension": ".py",
   "mimetype": "text/x-python",
   "name": "python",
   "nbconvert_exporter": "python",
   "pygments_lexer": "ipython3",
   "version": "3.9.19"
  }
 },
 "nbformat": 4,
 "nbformat_minor": 5
}

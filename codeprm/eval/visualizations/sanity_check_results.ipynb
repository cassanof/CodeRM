{
 "cells": [
  {
   "cell_type": "code",
   "execution_count": 1,
   "id": "1a4bb28f-3158-4f3a-8681-da1ee524b713",
   "metadata": {},
   "outputs": [],
   "source": [
    "from codeprm.utils import gunzip_json_read\n",
    "result_path = \"../../../results/orm_results/lcb_starcoder_3b_reasonings_temp08_2_orm.json.gz\"\n",
    "items = gunzip_json_read(result_path)[\"items\"]"
   ]
  },
  {
   "cell_type": "code",
   "execution_count": 29,
   "id": "67533419-b05e-4976-a2d3-263dd0cfe67a",
   "metadata": {},
   "outputs": [
    {
     "data": {
      "text/plain": [
       "{'code': '\\n\\n# Import necessary modules\\nimport sys\\nimport math\\nimport bisect\\nfrom collections import Counter\\n\\n# Define a function to read a line of input\\ndef minp():\\n\\treturn sys.stdin.readline().strip()\\n\\n# Define a function to read an integer\\ndef mint():\\n\\treturn int(minp())\\n\\n# Define a function to read a list of integers\\ndef mints():\\n\\treturn list(map(int, minp().split()))\\n\\n# Define a function to read a string\\ndef minps():\\n\\treturn input()\\n\\n# Define a function to read a list of strings\\ndef minpl():\\n\\treturn sys.stdin.readlines()\\n\\n# Define the main function\\ndef main():\\n\\t# Read the number of test cases\\n\\tt = mint()\\n\\t# Iterate through each test case\\n\\tfor _ in range(t):\\n\\t\\t# Read the length of the arrays\\n\\t\\tn = mint()\\n\\t\\t# Read the array of integers\\n\\t\\ta = mints()\\n\\t\\t# Initialize an array to store the count of each power of 2\\n\\t\\tcnt = [0] * 1000005\\n\\t\\t# Initialize a variable to store the total number of pairs\\n\\t\\tans = 0\\n\\t\\t# Iterate through each element in the array\\n\\t\\tfor i in range(n):\\n\\t\\t\\t# Increment the count of the current power of 2\\n\\t\\t\\tcnt[a[i]] += 1\\n\\t\\t# Iterate through each power of 2\\n\\t\\tfor i in range(1000005):\\n\\t\\t\\t# Calculate the number of pairs with the current power of 2\\n\\t\\t\\tans += cnt[i] * (cnt[i] - 1) // 2\\n\\t\\t\\t# Iterate through the powers of 2 that are divisible by the current power of 2\\n\\t\\t\\tfor j in range(i + 1, 1000005, i):\\n\\t\\t\\t\\t# Add the count of the current power of 2 to the count of the corresponding divisor\\n\\t\\t\\t\\tcnt[j] += cnt[i]\\n\\t\\t# Print the total number of pairs\\n\\t\\tprint(ans)\\n\\t# Return 0\\n\\treturn 0\\n\\n# Call the main function and exit the program\\nsys.exit(main())',\n",
       " 'cumulative_logprob': -68.60235276818275,\n",
       " 'num_tokens': 497,\n",
       " 'passing': False,\n",
       " 'output': 'errored with \\'Traceback (most recent call last):\\\\n  File \"/tmp/codeexec/409.py\", line 90, in <module>\\\\n    __run_prog__()\\\\n  File \"/tmp/codeexec/409.py\", line 84, in __run_prog__\\\\n    sys.exit(main())\\\\n  File \"/tmp/codeexec/409.py\", line 69, in main\\\\n    cnt[a[i]] += 1\\\\nIndexError: list index out of range\\\\n\\'\\n',\n",
       " 'orm_label': 1,\n",
       " 'orm_score': 0.99609375}"
      ]
     },
     "execution_count": 29,
     "metadata": {},
     "output_type": "execute_result"
    }
   ],
   "source": [
    "def get_highest_result(i):\n",
    "    max_score = -1\n",
    "    max_r = None\n",
    "    for r in i[\"results\"]:\n",
    "        score = r[\"orm_score\"]\n",
    "        if r[\"orm_label\"] == 1 and score > max_score:\n",
    "            max_r = r\n",
    "            max_score = score\n",
    "\n",
    "    return max_r\n",
    "    \n",
    "get_highest_result(items[3])"
   ]
  },
  {
   "cell_type": "code",
   "execution_count": 23,
   "id": "965773c7-03b5-4810-8a0b-54bbd256aec0",
   "metadata": {},
   "outputs": [
    {
     "name": "stdout",
     "output_type": "stream",
     "text": [
      "Correct in total: 72\n",
      "Correct by purely guessing (none predicted good): 0\n"
     ]
    }
   ],
   "source": [
    "correct = 0\n",
    "correct_by_guess = 0\n",
    "for i in items:\n",
    "    best = get_highest_result(i)\n",
    "    if best == None:\n",
    "        best = i[\"results\"][0]\n",
    "        if best[\"passing\"]:\n",
    "            correct += 1\n",
    "            correct_by_guess += 1\n",
    "    else:\n",
    "        if best[\"passing\"]:\n",
    "            correct += 1\n",
    "\n",
    "print(f\"Correct in total: {correct}\")\n",
    "print(f\"Correct by purely guessing (none predicted good): {correct_by_guess}\")"
   ]
  },
  {
   "cell_type": "code",
   "execution_count": null,
   "id": "7a3650db-6361-4b8b-8bdf-7dba362dbad2",
   "metadata": {},
   "outputs": [],
   "source": []
  }
 ],
 "metadata": {
  "kernelspec": {
   "display_name": "Python 3 (ipykernel)",
   "language": "python",
   "name": "python3"
  },
  "language_info": {
   "codemirror_mode": {
    "name": "ipython",
    "version": 3
   },
   "file_extension": ".py",
   "mimetype": "text/x-python",
   "name": "python",
   "nbconvert_exporter": "python",
   "pygments_lexer": "ipython3",
   "version": "3.12.3"
  }
 },
 "nbformat": 4,
 "nbformat_minor": 5
}

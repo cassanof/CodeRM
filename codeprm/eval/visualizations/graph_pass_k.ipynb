{
 "cells": [
  {
   "cell_type": "code",
   "execution_count": 15,
   "id": "70117480-f64b-4d78-8486-9aeb67fb3914",
   "metadata": {},
   "outputs": [],
   "source": [
    "paths_to_results = [\n",
    "    \"../../../results/temp_baselines/lcb_starcoder2_3b_baseline_temp08.json.gz\",\n",
    "    \"../../../results/temp_finetunes/lcb_starcoder2_3b_taco_single_temp08.json.gz\",\n",
    "    \"../../../results/temp_finetunes/lcb_starcoder2_3b_taco_full_temp08.json.gz\",\n",
    "]"
   ]
  },
  {
   "cell_type": "code",
   "execution_count": 16,
   "id": "bac1182a-1edb-4d6d-a26b-b36e49a7ae5b",
   "metadata": {},
   "outputs": [],
   "source": [
    "from pathlib import Path\n",
    "for p in paths_to_results:\n",
    "    assert Path(p).exists(), f\"Path {p} doesn't exist!\""
   ]
  },
  {
   "cell_type": "code",
   "execution_count": null,
   "id": "2061673e-4bb8-4785-aabe-106c73c5c9cb",
   "metadata": {},
   "outputs": [],
   "source": [
    "from codeprm.eval.metrics import get_pass_ks\n",
    "from codeprm.eval.metrics import get_pass_ks\n",
    "\n",
    "pass_ks = {}\n",
    "upper_k = \n",
    "for r in results:"
   ]
  }
 ],
 "metadata": {
  "kernelspec": {
   "display_name": "Python 3 (ipykernel)",
   "language": "python",
   "name": "python3"
  },
  "language_info": {
   "codemirror_mode": {
    "name": "ipython",
    "version": 3
   },
   "file_extension": ".py",
   "mimetype": "text/x-python",
   "name": "python",
   "nbconvert_exporter": "python",
   "pygments_lexer": "ipython3",
   "version": "3.12.3"
  }
 },
 "nbformat": 4,
 "nbformat_minor": 5
}

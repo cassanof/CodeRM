{
 "cells": [
  {
   "cell_type": "code",
   "execution_count": 1,
   "id": "c94d0f77-ea22-4514-b1f4-0e92b1e3d601",
   "metadata": {},
   "outputs": [
    {
     "name": "stderr",
     "output_type": "stream",
     "text": [
      "/Users/federico.cassano/.pyenv/versions/3.9.19/lib/python3.9/site-packages/tqdm/auto.py:22: TqdmWarning: IProgress not found. Please update jupyter and ipywidgets. See https://ipywidgets.readthedocs.io/en/stable/user_install.html\n",
      "  from .autonotebook import tqdm as notebook_tqdm\n"
     ]
    },
    {
     "data": {
      "text/plain": [
       "Dataset({\n",
       "    features: ['question_title', 'question_content', 'platform', 'question_id', 'contest_id', 'contest_date', 'starter_code', 'difficulty', 'public_test_cases', 'private_test_cases', 'metadata'],\n",
       "    num_rows: 400\n",
       "})"
      ]
     },
     "execution_count": 1,
     "metadata": {},
     "output_type": "execute_result"
    }
   ],
   "source": [
    "import datasets\n",
    "ds = datasets.load_dataset(\"livecodebench/code_generation_lite\", split=\"test\")\n",
    "ds"
   ]
  },
  {
   "cell_type": "code",
   "execution_count": 2,
   "id": "59cdd155-b973-4428-a3bb-e629018799d1",
   "metadata": {},
   "outputs": [
    {
     "data": {
      "text/plain": [
       "{'question_title': 'find-maximum-number-of-string-pairs',\n",
       " 'question_content': 'You are given a 0-indexed array words consisting of distinct strings.\\nThe string words[i] can be paired with the string words[j] if:\\n\\nThe string words[i] is equal to the reversed string of words[j].\\n0 <= i < j < words.length.\\n\\nReturn the maximum number of pairs that can be formed from the array words.\\nNote that each string can belong in at most one pair.\\n \\nExample 1:\\n\\nInput: words = [\"cd\",\"ac\",\"dc\",\"ca\",\"zz\"]\\nOutput: 2\\nExplanation: In this example, we can form 2 pair of strings in the following way:\\n- We pair the 0^th string with the 2^nd string, as the reversed string of word[0] is \"dc\" and is equal to words[2].\\n- We pair the 1^st string with the 3^rd string, as the reversed string of word[1] is \"ca\" and is equal to words[3].\\nIt can be proven that 2 is the maximum number of pairs that can be formed.\\nExample 2:\\n\\nInput: words = [\"ab\",\"ba\",\"cc\"]\\nOutput: 1\\nExplanation: In this example, we can form 1 pair of strings in the following way:\\n- We pair the 0^th string with the 1^st string, as the reversed string of words[1] is \"ab\" and is equal to words[0].\\nIt can be proven that 1 is the maximum number of pairs that can be formed.\\n\\nExample 3:\\n\\nInput: words = [\"aa\",\"ab\"]\\nOutput: 0\\nExplanation: In this example, we are unable to form any pair of strings.\\n\\n \\nConstraints:\\n\\n1 <= words.length <= 50\\nwords[i].length == 2\\nwords consists of distinct strings.\\nwords[i] contains only lowercase English letters.',\n",
       " 'platform': 'leetcode',\n",
       " 'question_id': '2847',\n",
       " 'contest_id': 'biweekly-contest-107',\n",
       " 'contest_date': datetime.datetime(2023, 6, 24, 0, 0),\n",
       " 'starter_code': 'class Solution:\\n    def maximumNumberOfStringPairs(self, words: List[str]) -> int:\\n        ',\n",
       " 'difficulty': 'easy',\n",
       " 'public_test_cases': '[{\"input\": \"[\\\\\"cd\\\\\", \\\\\"ac\\\\\", \\\\\"dc\\\\\", \\\\\"ca\\\\\", \\\\\"zz\\\\\"]\", \"output\": \"2\", \"testtype\": \"functional\"}, {\"input\": \"[\\\\\"ab\\\\\", \\\\\"ba\\\\\", \\\\\"cc\\\\\"]\", \"output\": \"1\", \"testtype\": \"functional\"}, {\"input\": \"[\\\\\"aa\\\\\", \\\\\"ab\\\\\"]\", \"output\": \"0\", \"testtype\": \"functional\"}]',\n",
       " 'private_test_cases': 'eJyllE2OnDAQhbPIIsdosR5FyUjZ5CSRpmcBtMHmxxiwaSCKlEMkF8gut8z0+KsFgxSpRW+qC7tevXpVrp/vf//98O719+3Py5+n74mxLvjk6yl5Oidlek6ek4dT0gXP108316vR+8Wp24ci2NybzqZN8uPhtI0P12PxfXksfh2OxdfhWHzhDuo3nl+un5Nxz+PzPTiljji6jLYuoi3qHe7jPbjKRBzbR1teox18tNcMS95bP17rsdHmXbRdHm3P91DDM0TrOc/BvcB/At8s1HOBD7oNK3kn7uMbF20GXw+vhXqMitbhZ9Ne/y/3COUhoCioKbeFOArLKahKSUxhOUQD91bsgmADDZ4o3Fb4nBcNefEdBXqEbmhggFcKDzXDk3yKON3CS3DwLfVZBJ1oXCpCI2hD3orzme9XcBryGepy8AjoqLEj5z2NDfAZ0a1HjxbrumMPqUefiXoa6p3hvcA7xc/I2zBwlvOG/g7o7OGfgddxv+d+gT4tfR1kHhj4DJxW9KKfHn9FD0XcyMMz8jCJ19Iv9C6I69C7hnct8wyOhpemrwPnM7gWHM38jfCQxTTzDhT5K/AMPAZ4VpJv38e7Fuv0ZjEU8LLwMLJw0N1TR0Y/2nnb97cLq+Seh3dLP3ruG1lI4JeyeMrtvLhmO8/LuNXRyruXhS646FdJH5iTC7y13NfbPVDDu+cdKXgXohdxq/DluxN94B1EP/QYhK/sBdFvv1gf/7tYn399/Ae2B3PT',\n",
       " 'metadata': '{\"func_name\": \"maximumNumberOfStringPairs\"}'}"
      ]
     },
     "execution_count": 2,
     "metadata": {},
     "output_type": "execute_result"
    }
   ],
   "source": [
    "ds[44]"
   ]
  },
  {
   "cell_type": "code",
   "execution_count": 3,
   "id": "7f1419b1-2988-4725-9ccd-08bae0d1c621",
   "metadata": {},
   "outputs": [
    {
     "data": {
      "text/plain": [
       "Dataset({\n",
       "    features: ['question_title', 'question_content', 'platform', 'question_id', 'contest_id', 'contest_date', 'starter_code', 'difficulty', 'public_test_cases', 'private_test_cases', 'metadata'],\n",
       "    num_rows: 202\n",
       "})"
      ]
     },
     "execution_count": 3,
     "metadata": {},
     "output_type": "execute_result"
    }
   ],
   "source": [
    "import datetime\n",
    "cutoff = datetime.datetime(2023, 9, 30, 0, 0)\n",
    "ds = ds.filter(lambda ex: ex[\"contest_date\"] >= cutoff)\n",
    "ds"
   ]
  },
  {
   "cell_type": "code",
   "execution_count": 4,
   "id": "8daec100-4841-4e4b-afea-8384475accf3",
   "metadata": {},
   "outputs": [],
   "source": [
    "import json\n",
    "import pickle\n",
    "import zlib\n",
    "import base64\n",
    "\n",
    "\n",
    "def decode_tests(tests):\n",
    "    return json.loads(\n",
    "                pickle.loads(\n",
    "                    zlib.decompress(\n",
    "                        base64.b64decode(tests)\n",
    "                    )\n",
    "                )\n",
    "            )"
   ]
  },
  {
   "cell_type": "code",
   "execution_count": 5,
   "id": "d959100c-780c-4626-ae18-b4f4a0d81d07",
   "metadata": {},
   "outputs": [],
   "source": [
    "# format we want:\n",
    "# - question: has prompt\n",
    "# - starter_code: has starter code, if any\n",
    "# - difficulty: has difficulty\n",
    "# - input_output: has tests, with fn_name key if needed\n",
    "# - title: just for metadata\n",
    "# - source: just for metadata\n",
    "# - date: just for metadata\n",
    "# - id: for unique id\n",
    "cleaned_ds = []\n",
    "for ex in ds:\n",
    "    raw_tests = decode_tests(ex[\"private_test_cases\"]) + json.loads(ex[\"public_test_cases\"])\n",
    "    tests = {\"inputs\": [], \"outputs\": []}\n",
    "    metadata = json.loads(ex[\"metadata\"])\n",
    "    \n",
    "    for test in raw_tests:\n",
    "        inp = test[\"input\"]\n",
    "        out = test[\"output\"]\n",
    "        if \"func_name\" in metadata:\n",
    "            inp = [json.loads(i) for i in inp.split(\"\\n\")]\n",
    "            out = json.loads(out)\n",
    "        tests[\"inputs\"].append(inp)\n",
    "        tests[\"outputs\"].append(out)\n",
    "\n",
    "    if \"func_name\" in metadata:\n",
    "        name = metadata[\"func_name\"]\n",
    "        tests[\"fn_name\"] = name\n",
    "        \n",
    "        \n",
    "    \n",
    "    obj = {\n",
    "        \"question\": ex[\"question_content\"],\n",
    "        \"starter_code\": ex[\"starter_code\"],\n",
    "        \"difficulty\": ex[\"difficulty\"],\n",
    "        \"input_output\": json.dumps(tests),\n",
    "        \"title\": ex[\"question_title\"],\n",
    "        \"source\": ex[\"platform\"],\n",
    "        \"date\": ex[\"contest_date\"],\n",
    "        \"id\": ex[\"question_id\"],\n",
    "    }\n",
    "    cleaned_ds.append(obj)\n",
    "    \n",
    "cleaned_ds = datasets.Dataset.from_list(cleaned_ds)\n",
    "# cleaned_ds.push_to_hub(\"cassanof/livecodebench_lite_filtered\", split=\"test\")"
   ]
  },
  {
   "cell_type": "code",
   "execution_count": 8,
   "id": "ea21cd6d-692c-488e-9b72-76062b635226",
   "metadata": {},
   "outputs": [
    {
     "name": "stdout",
     "output_type": "stream",
     "text": [
      "Is server alive? True\n",
      "\n",
      "class Solution:\n",
      "    def countTestedDevices(self, batteryPercentages: List[int]) -> int:\n",
      "        pass\n",
      "1\n",
      "Traceback (most recent call last):\n",
      "  File \"/tmp/codeexec/1.py\", line 38, in <module>\n",
      "    assert is_eq(Solution().countTestedDevices([30, 5, 0, 65, 50, 3, 60, 6, 50, 99]), 8)\n",
      "AssertionError\n",
      "\n",
      "Traceback (most recent call last):\n",
      "  File \"/tmp/codeexec/1.py\", line 38, in <module>\n",
      "    assert is_eq(Solution().countTestedDevices([30, 5, 0, 65, 50, 3, 60, 6, 50, 99]), 8)\n",
      "AssertionError\n",
      "\n"
     ]
    }
   ],
   "source": [
    "from codeprm.execution import check_executor_alive, smart_exec_tests\n",
    "import json\n",
    "print(\"Is server alive? \" + str(check_executor_alive()))\n",
    "print()\n",
    "ex = cleaned_ds[44]\n",
    "mock = ex[\"starter_code\"] + \"pass\"\n",
    "print(mock)\n",
    "passing, err = smart_exec_tests(mock, json.loads(ex[\"input_output\"]))\n",
    "print(err)"
   ]
  },
  {
   "cell_type": "code",
   "execution_count": null,
   "id": "617889a5-768c-418b-b90f-ed0047b5ef6f",
   "metadata": {},
   "outputs": [],
   "source": []
  }
 ],
 "metadata": {
  "kernelspec": {
   "display_name": "Python 3 (ipykernel)",
   "language": "python",
   "name": "python3"
  },
  "language_info": {
   "codemirror_mode": {
    "name": "ipython",
    "version": 3
   },
   "file_extension": ".py",
   "mimetype": "text/x-python",
   "name": "python",
   "nbconvert_exporter": "python",
   "pygments_lexer": "ipython3",
   "version": "3.9.19"
  }
 },
 "nbformat": 4,
 "nbformat_minor": 5
}

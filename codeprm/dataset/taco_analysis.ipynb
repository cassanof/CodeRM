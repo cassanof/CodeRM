{
 "cells": [
  {
   "cell_type": "code",
   "execution_count": 4,
   "id": "85ba181a-e6a3-4d72-bb91-29b82cdbfbfb",
   "metadata": {},
   "outputs": [
    {
     "data": {
      "text/plain": [
       "Dataset({\n",
       "    features: ['question', 'solutions', 'starter_code', 'input_output', 'difficulty', 'raw_tags', 'name', 'source', 'tags', 'skill_types', 'url', 'Expected Auxiliary Space', 'time_limit', 'date', 'picture_num', 'memory_limit', 'Expected Time Complexity'],\n",
       "    num_rows: 9029\n",
       "})"
      ]
     },
     "execution_count": 4,
     "metadata": {},
     "output_type": "execute_result"
    }
   ],
   "source": [
    "import datasets\n",
    "ds = datasets.load_from_disk(\"./taco_cleaned\")\n",
    "ds"
   ]
  },
  {
   "cell_type": "code",
   "execution_count": 2,
   "id": "d91a0409-7d80-4d0f-a6a4-0820d84707bf",
   "metadata": {},
   "outputs": [
    {
     "name": "stdout",
     "output_type": "stream",
     "text": [
      "{<class 'dict'>}\n",
      "{'fn_name', 'inputs', 'outputs'}\n",
      "544\n"
     ]
    }
   ],
   "source": [
    "# figure out format of tests\n",
    "import json\n",
    "import sys\n",
    "sys.set_int_max_str_digits(0)\n",
    "keys = set()\n",
    "types = set()\n",
    "has_fn_name = 0\n",
    "\n",
    "for ex in ds:\n",
    "    eio = ex[\"input_output\"]\n",
    "    eio = json.loads(eio)\n",
    "    types.add(type(eio))\n",
    "    ks = eio.keys()\n",
    "    if \"fn_name\" in ks:\n",
    "        has_fn_name += 1\n",
    "    for k in ks:\n",
    "        keys.add(k)\n",
    "\n",
    "print(types)\n",
    "print(keys)\n",
    "print(has_fn_name)"
   ]
  },
  {
   "cell_type": "code",
   "execution_count": 2,
   "id": "2075bb4c-2158-42db-b69c-f9bfaebee3ab",
   "metadata": {},
   "outputs": [
    {
     "data": {
      "text/plain": [
       "45000"
      ]
     },
     "execution_count": 2,
     "metadata": {},
     "output_type": "execute_result"
    }
   ],
   "source": [
    "9000 * 5\n",
    "\n",
    "# MinHash + Locality Sentitive Hasking, Jaccard Similarity 0.5\n",
    "# pick 5 dedup\n",
    "# 1 with original prompt, 4 LLM to rephrase the prompt"
   ]
  },
  {
   "cell_type": "code",
   "execution_count": 10,
   "id": "c2f42e55-52a5-4adc-a710-c6668652de9f",
   "metadata": {},
   "outputs": [],
   "source": [
    "ds = ds.shuffle()"
   ]
  },
  {
   "cell_type": "code",
   "execution_count": null,
   "id": "e21cf863-4414-41c9-a125-1bd5ffa762bb",
   "metadata": {},
   "outputs": [],
   "source": [
    "import json\n",
    "from tqdm import tqdm\n",
    "from codeprm.execution import exec_io_test\n",
    "\n",
    "subset = ds.select(range(10))\n",
    "for i, ex in enumerate(subset):\n",
    "    print(f\"++ RUNNING {i}\")\n",
    "    for sol in tqdm(ex[\"solutions\"][:5]):\n",
    "        tests = json.loads(ex[\"input_output\"])\n",
    "        inputs = tests[\"inputs\"]\n",
    "        outputs = tests[\"outputs\"]\n",
    "        print(exec_io_test(sol, inputs, outputs))"
   ]
  },
  {
   "cell_type": "code",
   "execution_count": 9,
   "id": "95565db4-4ace-408b-b692-fb45d3f295ba",
   "metadata": {},
   "outputs": [
    {
     "name": "stderr",
     "output_type": "stream",
     "text": [
      "Filter: 100%|████████████████████████████████████████████████████████████████████████████████████████████████████████████████████████████████████████████████████████████| 9029/9029 [00:04<00:00, 2053.23 examples/s]\n"
     ]
    }
   ],
   "source": [
    "import json\n",
    "only_fn_name = ds.filter(lambda ex: \"fn_name\" in json.loads(ex[\"input_output\"]).keys())"
   ]
  },
  {
   "cell_type": "code",
   "execution_count": 3,
   "id": "acdb3099-6f40-412a-bbd3-44a9c16caa88",
   "metadata": {},
   "outputs": [
    {
     "name": "stdout",
     "output_type": "stream",
     "text": [
      "[['x - 5 = 20'], ['5 * x + 5 = 30'], ['20 = 5 * x - 5'], ['24 = 4 + 5 * x'], ['x = 5'], ['x * 100 = 700'], ['2 * x + 5 = 105'], ['2 * x = 198'], ['x - 100 + 2 - 50 = 52'], ['x / 3 = 33'], ['x + 80 = 20'], ['x + 20 = -60'], ['5 * x + 20 - x = 60'], ['x + x + 6 = 10'], ['5 * x = x + 8'], ['x = x / 2 + 25'], ['(5 - 3) * x = x + 2'], ['(x - 30) * 2 = x']]\n"
     ]
    }
   ],
   "source": [
    "ex = only_fn_name[1]\n",
    "tests = json.loads(ex[\"input_output\"])\n",
    "print(tests[\"inputs\"])"
   ]
  },
  {
   "cell_type": "code",
   "execution_count": null,
   "id": "ec722103-daa6-4041-960a-e19f49a05e26",
   "metadata": {},
   "outputs": [],
   "source": [
    "import json\n",
    "from tqdm import tqdm\n",
    "from codeprm.execution import exec_named_test\n",
    "\n",
    "subset2 = only_fn_name.select(range(10))\n",
    "for i, ex in enumerate(subset2):\n",
    "    print(f\"++ RUNNING {i}\")\n",
    "    for sol in tqdm(ex[\"solutions\"][:5]):\n",
    "        tests = json.loads(ex[\"input_output\"])\n",
    "        inputs = tests[\"inputs\"]\n",
    "        outputs = tests[\"outputs\"]\n",
    "        name = tests[\"fn_name\"]\n",
    "        print(exec_named_test(sol, inputs, outputs, name))"
   ]
  },
  {
   "cell_type": "code",
   "execution_count": 5,
   "id": "89a6d91f-9c25-4340-84a9-b8be96a90a72",
   "metadata": {},
   "outputs": [
    {
     "data": {
      "text/plain": [
       "'{\"fn_name\": \"make_acronym\", \"inputs\": [[\"My aunt sally\"], [\"Please excuse my dear aunt Sally\"], [\"How much wood would a woodchuck chuck if a woodchuck could chuck wood\"], [\"Unique New York\"], [\"a42\"], [\"1111\"], [64], [[]], [{}], [\"\"]], \"outputs\": [\"MAS\", \"PEMDAS\", \"HMWWAWCIAWCCW\", \"UNY\", \"Not letters\", \"Not letters\", \"Not a string\", \"Not a string\", \"Not a string\", \"\"]}'"
      ]
     },
     "execution_count": 5,
     "metadata": {},
     "output_type": "execute_result"
    }
   ],
   "source": [
    "ds[10][\"input_output\"]"
   ]
  },
  {
   "cell_type": "code",
   "execution_count": null,
   "id": "94150c24-6025-4ce2-be0a-1319af88e71a",
   "metadata": {},
   "outputs": [],
   "source": []
  }
 ],
 "metadata": {
  "kernelspec": {
   "display_name": "Python 3 (ipykernel)",
   "language": "python",
   "name": "python3"
  },
  "language_info": {
   "codemirror_mode": {
    "name": "ipython",
    "version": 3
   },
   "file_extension": ".py",
   "mimetype": "text/x-python",
   "name": "python",
   "nbconvert_exporter": "python",
   "pygments_lexer": "ipython3",
   "version": "3.12.3"
  }
 },
 "nbformat": 4,
 "nbformat_minor": 5
}

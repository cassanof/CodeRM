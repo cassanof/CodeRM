{
 "cells": [
  {
   "cell_type": "code",
   "execution_count": 20,
   "id": "85ba181a-e6a3-4d72-bb91-29b82cdbfbfb",
   "metadata": {},
   "outputs": [
    {
     "data": {
      "text/plain": [
       "Dataset({\n",
       "    features: ['question', 'solutions', 'starter_code', 'input_output', 'difficulty', 'raw_tags', 'name', 'source', 'tags', 'skill_types', 'url', 'Expected Auxiliary Space', 'time_limit', 'date', 'picture_num', 'memory_limit', 'Expected Time Complexity'],\n",
       "    num_rows: 9030\n",
       "})"
      ]
     },
     "execution_count": 20,
     "metadata": {},
     "output_type": "execute_result"
    }
   ],
   "source": [
    "import datasets\n",
    "ds = datasets.load_from_disk(\"./taco_cleaned\")\n",
    "ds"
   ]
  },
  {
   "cell_type": "code",
   "execution_count": 21,
   "id": "d91a0409-7d80-4d0f-a6a4-0820d84707bf",
   "metadata": {},
   "outputs": [
    {
     "name": "stdout",
     "output_type": "stream",
     "text": [
      "{<class 'dict'>}\n",
      "{'inputs', 'fn_name', 'outputs'}\n",
      "544\n"
     ]
    }
   ],
   "source": [
    "# figure out format of tests\n",
    "import json\n",
    "import sys\n",
    "sys.set_int_max_str_digits(0)\n",
    "keys = set()\n",
    "types = set()\n",
    "has_fn_name = 0\n",
    "\n",
    "for ex in ds:\n",
    "    eio = ex[\"input_output\"]\n",
    "    eio = json.loads(eio)\n",
    "    types.add(type(eio))\n",
    "    ks = eio.keys()\n",
    "    if \"fn_name\" in ks:\n",
    "        has_fn_name += 1\n",
    "    for k in ks:\n",
    "        keys.add(k)\n",
    "\n",
    "print(types)\n",
    "print(keys)\n",
    "print(has_fn_name)"
   ]
  },
  {
   "cell_type": "code",
   "execution_count": 36,
   "id": "2075bb4c-2158-42db-b69c-f9bfaebee3ab",
   "metadata": {},
   "outputs": [
    {
     "data": {
      "text/plain": [
       "45000"
      ]
     },
     "execution_count": 36,
     "metadata": {},
     "output_type": "execute_result"
    }
   ],
   "source": [
    "9000 * 5\n",
    "\n",
    "# MinHash + Locality Sentitive Hasking, Jaccard Similarity 0.5\n",
    "# pick 5 dedup\n",
    "# 1 with original prompt, 4 LLM to rephrase the prompt"
   ]
  },
  {
   "cell_type": "code",
   "execution_count": 15,
   "id": "6a9a5950-9efb-4d87-a90a-90ed07adb819",
   "metadata": {},
   "outputs": [
    {
     "name": "stdout",
     "output_type": "stream",
     "text": [
      "def palindrome_pairs(w):\n",
      "\treturn [[i, j] for i in range(len(w)) for j in range(len(w)) if str(w[i]) + str(w[j]) == (str(w[i]) + str(w[j]))[::-1] and i != j]\n",
      "\n"
     ]
    }
   ],
   "source": [
    "import json\n",
    "print(json.loads(codewars[1000][\"solutions\"])[0])"
   ]
  }
 ],
 "metadata": {
  "kernelspec": {
   "display_name": "Python 3 (ipykernel)",
   "language": "python",
   "name": "python3"
  },
  "language_info": {
   "codemirror_mode": {
    "name": "ipython",
    "version": 3
   },
   "file_extension": ".py",
   "mimetype": "text/x-python",
   "name": "python",
   "nbconvert_exporter": "python",
   "pygments_lexer": "ipython3",
   "version": "3.9.19"
  }
 },
 "nbformat": 4,
 "nbformat_minor": 5
}

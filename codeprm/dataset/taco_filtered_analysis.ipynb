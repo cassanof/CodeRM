{
 "cells": [
  {
   "cell_type": "code",
   "execution_count": 3,
   "id": "2ff354a3-8fec-4f4d-9f56-60899cb2d253",
   "metadata": {},
   "outputs": [
    {
     "data": {
      "text/plain": [
       "Dataset({\n",
       "    features: ['question', 'solutions', 'starter_code', 'input_output', 'difficulty', 'raw_tags', 'name', 'source', 'tags', 'skill_types', 'url', 'Expected Auxiliary Space', 'time_limit', 'date', 'picture_num', 'memory_limit', 'Expected Time Complexity'],\n",
       "    num_rows: 7099\n",
       "})"
      ]
     },
     "execution_count": 3,
     "metadata": {},
     "output_type": "execute_result"
    }
   ],
   "source": [
    "import datasets\n",
    "ds = datasets.load_from_disk(\"./taco_cleaned_exec_filtered_max75\")\n",
    "ds"
   ]
  },
  {
   "cell_type": "code",
   "execution_count": 4,
   "id": "f9645de2-286a-4f86-9626-1e3d77eff964",
   "metadata": {},
   "outputs": [
    {
     "data": {
      "text/plain": [
       "263704"
      ]
     },
     "execution_count": 4,
     "metadata": {},
     "output_type": "execute_result"
    }
   ],
   "source": [
    "total_solns = 0\n",
    "for ex in ds:\n",
    "    total_solns += len(ex[\"solutions\"])\n",
    "\n",
    "total_solns"
   ]
  },
  {
   "cell_type": "code",
   "execution_count": null,
   "id": "39e25db0-51ad-4476-8e32-3aeb891041d3",
   "metadata": {},
   "outputs": [],
   "source": [
    "import matplotlib.pyplot as plt\n",
    "import seaborn as sns\n",
    "import pandas as pd\n",
    "\n",
    "df = ds.to_pandas()\n",
    "\n",
    "difficulty_counts = df['difficulty'].value_counts()\n",
    "\n",
    "order = ['EASY', 'MEDIUM', 'MEDIUM_HARD', 'HARD', 'VERY_HARD', 'UNKNOWN_DIFFICULTY']\n",
    "\n",
    "ordered_difficulty_counts = pd.Series([difficulty_counts.get(level, 0) for level in order], index=order)\n",
    "\n",
    "colors = ['#99ff99', '#66b3ff', '#ffcc99', '#ff9999', '#ffb3e6', '#c2c2f0']\n",
    "\n",
    "plt.figure(figsize=(10, 6))\n",
    "sns.barplot(x=ordered_difficulty_counts.index, y=ordered_difficulty_counts.values, palette=colors)\n",
    "plt.title('Distribution of Problem Difficulties')\n",
    "plt.xlabel('Difficulty Level')\n",
    "plt.ylabel('Number of Problems')\n",
    "plt.show()\n",
    "plt.savefig(\"./plots/diff_distr.png\")\n",
    "plt.savefig(\"./plots/diff_distr.pdf\")"
   ]
  },
  {
   "cell_type": "code",
   "execution_count": null,
   "id": "0d7156b5-013b-42bc-b4c9-ef724c19e0b2",
   "metadata": {},
   "outputs": [],
   "source": [
    "num_solutions = ds.to_pandas()['solutions'].apply(len)\n",
    "\n",
    "plt.figure(figsize=(10, 6))\n",
    "sns.histplot(num_solutions, bins=30, color='skyblue')\n",
    "plt.title('Distribution of Number of Solutions per Problem')\n",
    "plt.xlabel('Number of Solutions')\n",
    "plt.ylabel('Frequency')\n",
    "plt.show()\n",
    "plt.savefig(\"./plots/distr_solutions.png\")\n",
    "plt.savefig(\"./plots/distr_solutions.pdf\")"
   ]
  },
  {
   "cell_type": "code",
   "execution_count": null,
   "id": "f08756cc-e6a9-47ad-b037-5dbd45c1ccd4",
   "metadata": {},
   "outputs": [],
   "source": [
    "import sacrebleu\n",
    "import pandas as pd\n",
    "import numpy as np\n",
    "import matplotlib.pyplot as plt\n",
    "import seaborn as sns\n",
    "from tqdm.auto import tqdm\n",
    "\n",
    "tqdm.pandas(desc=\"Calculating BLEU Scores\")\n",
    "\n",
    "def average_bleu_scores(solutions):\n",
    "    if len(solutions) < 2:\n",
    "        return np.nan\n",
    "    scores = []\n",
    "    for i in range(len(solutions)):\n",
    "        for j in range(i + 1, len(solutions)):\n",
    "            reference = solutions[i]\n",
    "            candidate = solutions[j]\n",
    "            score = sacrebleu.raw_corpus_bleu([candidate], [[reference]], .01).score\n",
    "            scores.append(score)\n",
    "    return np.mean(scores)\n",
    "\n",
    "df = ds.to_pandas()\n",
    "\n",
    "df['bleu_scores'] = df['solutions'].progress_apply(average_bleu_scores)\n",
    "\n",
    "plt.figure(figsize=(10, 6))\n",
    "sns.histplot(df['bleu_scores'].dropna(), bins=30, color='purple')\n",
    "plt.title('Average Pairwise BLEU Scores of Solutions')\n",
    "plt.xlabel('Average BLEU Score')\n",
    "plt.ylabel('Frequency')\n",
    "plt.show()"
   ]
  },
  {
   "cell_type": "code",
   "execution_count": null,
   "id": "b0ab7800-3bb5-4e15-9958-1e7ca77a15f9",
   "metadata": {},
   "outputs": [],
   "source": [
    "plt.savefig(\"./plots/bleu_between_solutions.png\")\n",
    "plt.savefig(\"./plots/bleu_between_solutions.pdf\")"
   ]
  },
  {
   "cell_type": "code",
   "execution_count": null,
   "id": "1d2b3c89-0848-46c8-bcb9-b1752cee7eec",
   "metadata": {},
   "outputs": [],
   "source": [
    "from transformers import AutoTokenizer\n",
    "import pandas as pd\n",
    "import matplotlib.pyplot as plt\n",
    "import seaborn as sns\n",
    "import numpy as np\n",
    "from tqdm.auto import tqdm\n",
    "\n",
    "tqdm.pandas(desc=\"Tokenizing\")\n",
    "\n",
    "# Load tokenizer\n",
    "tokenizer = AutoTokenizer.from_pretrained(\"bigcode/starcoder2-15b\")\n",
    "\n",
    "# Function to tokenize solutions and return token lengths\n",
    "def get_token_lengths(solutions):\n",
    "    token_lengths = []\n",
    "    for solution in solutions:\n",
    "        tokens = tokenizer.encode(solution, truncation=True, max_length=4096)\n",
    "        token_lengths.append(len(tokens))\n",
    "    return token_lengths\n",
    "\n",
    "# Apply function to each list of solutions and flatten the result\n",
    "all_token_lengths = [length for sublist in ds.to_pandas()['solutions'].progress_apply(get_token_lengths) for length in sublist]\n",
    "\n",
    "# Convert to DataFrame for easier handling\n",
    "token_lengths_df = pd.DataFrame(all_token_lengths, columns=['Token Lengths'])\n",
    "\n",
    "# Basic statistics\n",
    "min_length = token_lengths_df['Token Lengths'].min()\n",
    "max_length = token_lengths_df['Token Lengths'].max()\n",
    "mean_length = token_lengths_df['Token Lengths'].mean()\n",
    "median_length = token_lengths_df['Token Lengths'].median()\n",
    "\n",
    "print(f\"Minimum token length: {min_length}\")\n",
    "print(f\"Maximum token length: {max_length}\")\n",
    "print(f\"Mean token length: {mean_length}\")\n",
    "print(f\"Median token length: {median_length}\")\n",
    "\n",
    "# Plotting the distribution of token lengths\n",
    "plt.figure(figsize=(12, 8))\n",
    "sns.histplot(token_lengths_df['Token Lengths'], bins=50, color='orange')\n",
    "plt.title('Distribution of Token Lengths in Solutions')\n",
    "plt.xlabel('Token Length')\n",
    "plt.ylabel('Frequency')\n",
    "plt.show()"
   ]
  },
  {
   "cell_type": "code",
   "execution_count": null,
   "id": "ca38ce96-fd07-45c4-81c9-3b0c6b381a67",
   "metadata": {},
   "outputs": [
    {
     "name": "stderr",
     "output_type": "stream",
     "text": [
      "Tokenizing:  18%|█████████████████████▏                                                                                               | 1284/7099 [00:01<00:05, 1050.56it/s]"
     ]
    }
   ],
   "source": [
    "import matplotlib.pyplot as plt\n",
    "import seaborn as sns\n",
    "import numpy as np\n",
    "import pandas as pd\n",
    "from tqdm.auto import tqdm\n",
    "from transformers import AutoTokenizer\n",
    "from tqdm.auto import tqdm\n",
    "\n",
    "tqdm.pandas(desc=\"Tokenizing\")\n",
    "\n",
    "tokenizer = AutoTokenizer.from_pretrained(\"bigcode/starcoder2-15b\")\n",
    "\n",
    "def get_token_lengths(text):\n",
    "    tokens = tokenizer.encode(text, truncation=True, max_length=2048)\n",
    "    return len(tokens)\n",
    "\n",
    "def process_solutions(solutions):\n",
    "    return [get_token_lengths(solution) for solution in solutions]\n",
    "\n",
    "\n",
    "question_token_lengths = ds.to_pandas()['question'].progress_apply(get_token_lengths)\n",
    "solution_token_lengths = ds.to_pandas()['solutions'].progress_apply(process_solutions).explode()\n",
    "\n",
    "combined_token_lengths = []\n",
    "for question_length, solutions in zip(question_token_lengths, ds.to_pandas()['solutions']):\n",
    "    combined_token_lengths.extend([question_length + len_ for len_ in process_solutions(solutions)])\n"
   ]
  },
  {
   "cell_type": "code",
   "execution_count": 11,
   "id": "1785b172-aa68-4401-a56c-29685cb1be2a",
   "metadata": {},
   "outputs": [
    {
     "data": {
      "image/png": "[encoded data removed]",
      "text/plain": [
       "<Figure size 1200x800 with 1 Axes>"
      ]
     },
     "metadata": {},
     "output_type": "display_data"
    }
   ],
   "source": [
    "token_lengths_df = pd.DataFrame({\n",
    "    'Solution Token Lengths': solution_token_lengths,\n",
    "    'Question Token Lengths': question_token_lengths,\n",
    "    'Combined Token Lengths': combined_token_lengths\n",
    "})\n",
    "\n",
    "plt.figure(figsize=(12, 8))\n",
    "sns.histplot(token_lengths_df['Solution Token Lengths'], bins=50, color='blue', alpha=0.5, label='Solutions')\n",
    "sns.histplot(token_lengths_df['Question Token Lengths'], bins=50, color='green', alpha=0.5, label='Questions')\n",
    "sns.histplot(token_lengths_df['Combined Token Lengths'], bins=50, color='red', alpha=0.5, label='Combined')\n",
    "plt.title('Distribution of Token Lengths')\n",
    "plt.xlabel('Token Length')\n",
    "plt.ylabel('Frequency')\n",
    "plt.legend()\n",
    "plt.show()"
   ]
  },
  {
   "cell_type": "code",
   "execution_count": null,
   "id": "9392de6e-cf4f-4a87-8146-e673239ab6a2",
   "metadata": {},
   "outputs": [],
   "source": []
  }
 ],
 "metadata": {
  "kernelspec": {
   "display_name": "Python 3 (ipykernel)",
   "language": "python",
   "name": "python3"
  },
  "language_info": {
   "codemirror_mode": {
    "name": "ipython",
    "version": 3
   },
   "file_extension": ".py",
   "mimetype": "text/x-python",
   "name": "python",
   "nbconvert_exporter": "python",
   "pygments_lexer": "ipython3",
   "version": "3.12.3"
  }
 },
 "nbformat": 4,
 "nbformat_minor": 5
}

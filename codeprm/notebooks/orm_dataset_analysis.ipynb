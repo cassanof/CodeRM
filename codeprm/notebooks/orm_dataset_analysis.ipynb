{
 "cells": [
  {
   "cell_type": "code",
   "execution_count": 1,
   "id": "c73ead3f-6814-4583-a2c8-ece2442302a2",
   "metadata": {},
   "outputs": [
    {
     "name": "stderr",
     "output_type": "stream",
     "text": [
      "/Users/federico.cassano/.pyenv/versions/3.9.19/lib/python3.9/site-packages/tqdm/auto.py:22: TqdmWarning: IProgress not found. Please update jupyter and ipywidgets. See https://ipywidgets.readthedocs.io/en/stable/user_install.html\n",
      "  from .autonotebook import tqdm as notebook_tqdm\n"
     ]
    }
   ],
   "source": [
    "import datasets\n",
    "import os\n",
    "import openai"
   ]
  },
  {
   "cell_type": "code",
   "execution_count": 2,
   "id": "b83bbaba-75ed-45f4-8fae-c7122d1fbca2",
   "metadata": {},
   "outputs": [
    {
     "ename": "KeyError",
     "evalue": "'OPENAI_API_KEY'",
     "output_type": "error",
     "traceback": [
      "\u001b[0;31m---------------------------------------------------------------------------\u001b[0m",
      "\u001b[0;31mKeyError\u001b[0m                                  Traceback (most recent call last)",
      "Cell \u001b[0;32mIn[2], line 1\u001b[0m\n\u001b[0;32m----> 1\u001b[0m client \u001b[38;5;241m=\u001b[39m openai\u001b[38;5;241m.\u001b[39mClient(api_key\u001b[38;5;241m=\u001b[39m\u001b[43mos\u001b[49m\u001b[38;5;241;43m.\u001b[39;49m\u001b[43menviron\u001b[49m\u001b[43m[\u001b[49m\u001b[38;5;124;43m\"\u001b[39;49m\u001b[38;5;124;43mOPENAI_API_KEY\u001b[39;49m\u001b[38;5;124;43m\"\u001b[39;49m\u001b[43m]\u001b[49m)\n",
      "File \u001b[0;32m~/.pyenv/versions/3.9.19/lib/python3.9/os.py:679\u001b[0m, in \u001b[0;36m_Environ.__getitem__\u001b[0;34m(self, key)\u001b[0m\n\u001b[1;32m    676\u001b[0m     value \u001b[38;5;241m=\u001b[39m \u001b[38;5;28mself\u001b[39m\u001b[38;5;241m.\u001b[39m_data[\u001b[38;5;28mself\u001b[39m\u001b[38;5;241m.\u001b[39mencodekey(key)]\n\u001b[1;32m    677\u001b[0m \u001b[38;5;28;01mexcept\u001b[39;00m \u001b[38;5;167;01mKeyError\u001b[39;00m:\n\u001b[1;32m    678\u001b[0m     \u001b[38;5;66;03m# raise KeyError with the original key value\u001b[39;00m\n\u001b[0;32m--> 679\u001b[0m     \u001b[38;5;28;01mraise\u001b[39;00m \u001b[38;5;167;01mKeyError\u001b[39;00m(key) \u001b[38;5;28;01mfrom\u001b[39;00m \u001b[38;5;28;01mNone\u001b[39;00m\n\u001b[1;32m    680\u001b[0m \u001b[38;5;28;01mreturn\u001b[39;00m \u001b[38;5;28mself\u001b[39m\u001b[38;5;241m.\u001b[39mdecodevalue(value)\n",
      "\u001b[0;31mKeyError\u001b[0m: 'OPENAI_API_KEY'"
     ]
    }
   ],
   "source": [
    "client = openai.Client(api_key=os.environ[\"OPENAI_API_KEY\"])"
   ]
  },
  {
   "cell_type": "code",
   "execution_count": 33,
   "id": "c5abbed0-06e0-42b0-90c3-4e10371d1f65",
   "metadata": {},
   "outputs": [
    {
     "data": {
      "text/plain": [
       "Dataset({\n",
       "    features: ['unique_name', 'prompt', 'starter_code', 'difficulty', 'results'],\n",
       "    num_rows: 13402\n",
       "})"
      ]
     },
     "execution_count": 33,
     "metadata": {},
     "output_type": "execute_result"
    }
   ],
   "source": [
    "ds = datasets.load_dataset(\"codegenning/orm_dataset_raw50_og\", split=\"train\")\n",
    "ds = ds.shuffle()\n",
    "ds"
   ]
  },
  {
   "cell_type": "code",
   "execution_count": 34,
   "id": "bda59c13-08db-437b-911a-c1a3ff7fc1e0",
   "metadata": {},
   "outputs": [
    {
     "data": {
      "image/png": "[encoded data removed]",
      "text/plain": [
       "<Figure size 800x600 with 1 Axes>"
      ]
     },
     "metadata": {},
     "output_type": "display_data"
    }
   ],
   "source": [
    "import matplotlib.pyplot as plt\n",
    "from codeprm.eval.redo_code_execution import get_err_kind\n",
    "    \n",
    "errs = [] # err types: \"Timeout\", \"Exception\", \"Failed Tests\"\n",
    "timeout_exs = []\n",
    "at_least_one_passing = []\n",
    "for ex in ds:\n",
    "    passing = None\n",
    "    for r in ex[\"results\"]:\n",
    "        if not r[\"passing\"]:\n",
    "            kind = get_err_kind(r)\n",
    "            errs.append(kind)\n",
    "            if kind == \"Timeout\":\n",
    "                timeout_exs.append((ex, r[\"code\"], r[\"output\"]))\n",
    "        else:\n",
    "            passing = r[\"code\"]\n",
    "        \n",
    "    if passing != None:\n",
    "        at_least_one_passing.append((ex, passing))\n",
    "\n",
    "error_counts = {error: errs.count(error) for error in set(errs)}\n",
    "\n",
    "error_types = list(error_counts.keys())\n",
    "counts = list(error_counts.values())\n",
    "\n",
    "plt.figure(figsize=(8, 6))\n",
    "plt.bar(error_types, counts, color=['blue', 'orange', 'green'])\n",
    "plt.xlabel('Error Types')\n",
    "plt.ylabel('Frequency')\n",
    "plt.title('Error Types Distribution')\n",
    "plt.show()"
   ]
  },
  {
   "cell_type": "markdown",
   "id": "fdaef9fc-15ad-43e0-a556-ba1b11dd2d78",
   "metadata": {
    "jp-MarkdownHeadingCollapsed": true
   },
   "source": [
    "# GPT-4 agreement"
   ]
  },
  {
   "cell_type": "code",
   "execution_count": null,
   "id": "c5e9bd38-6e31-4a38-9028-bb9a9886fba5",
   "metadata": {},
   "outputs": [],
   "source": [
    "from codeprm.prompts import py_prompt\n",
    "import random\n",
    "random.seed(42)\n",
    "check_size = 5000\n",
    "samples = []\n",
    "for ex in ds.select(range(check_size)):\n",
    "    r = random.choice(ex[\"results\"])\n",
    "    code = r[\"code\"]\n",
    "    code = ex[\"starter_code\"] + code\n",
    "    code = py_prompt(ex[\"prompt\"], code)\n",
    "    r[\"code\"] = code\n",
    "    samples.append(r)\n",
    "print(samples[100][\"code\"])"
   ]
  },
  {
   "cell_type": "code",
   "execution_count": 62,
   "id": "33d124e6-b3dc-4ec6-bf1d-3b22a607c8ee",
   "metadata": {},
   "outputs": [
    {
     "name": "stderr",
     "output_type": "stream",
     "text": [
      "Map (num_proc=96): 100%|█████████████████████████████████████████████████████████████████████████████████████████████████████████████████████████████████████████████████████████████████████████████████████████████████████████████████████████████████████████████████████████| 5000/5000 [01:39<00:00, 50.06 examples/s]\n"
     ]
    }
   ],
   "source": [
    "from tqdm import tqdm\n",
    "code = samples[0][\"code\"]\n",
    "def gpt_classifier(code, model=\"gpt-4o\"):\n",
    "    system = \"You are a champion competitive programmer. You are able to identify if an algorithmic solution to a problem is either correct or not. You will respond only with Yes or No, then, only after the Yes/No, you will provide a very brief explaination of why.\"\n",
    "    resp = client.chat.completions.create(\n",
    "        model=model,\n",
    "        temperature=0.0,\n",
    "        messages=[\n",
    "            {\n",
    "                \"role\": \"system\",\n",
    "                \"content\": system,\n",
    "            },\n",
    "            {\n",
    "                \"role\": \"user\",\n",
    "                \"content\": f\"Please respond with Yes or No if the given program is correct or not, then after the newline, very briefly explain why:\\n{code}\",\n",
    "            }\n",
    "        ]\n",
    "    )\n",
    "    split = resp.choices[0].message.content.split(\"\\n\")\n",
    "    if len(split) < 2:\n",
    "        return None\n",
    "    split = [s for s in split if s.strip() != \"\"]\n",
    "    cls = split[0].strip()\n",
    "    exp = \"\\n\".join(split[1:])\n",
    "    if cls != \"Yes\" and cls != \"No\":\n",
    "        return None\n",
    "    if cls == \"Yes\":\n",
    "        cls_b = True\n",
    "    elif cls == \"No\":\n",
    "        cls_b = False\n",
    "    return cls_b, exp\n",
    "\n",
    "new_ds = datasets.Dataset.from_list(samples)\n",
    "cls = [None] * len(samples)\n",
    "exp = [None] * len(samples)\n",
    "new_ds = new_ds.add_column(\"cls\", cls)\n",
    "new_ds = new_ds.add_column(\"exp\", exp)\n",
    "\n",
    "def run_cls(ex):\n",
    "    code = ex[\"code\"]\n",
    "    out = gpt_classifier(code)\n",
    "    if out is not None:\n",
    "        cls, exp = out\n",
    "        return {\"cls\": cls, \"exp\": exp}\n",
    "\n",
    "new_ds = new_ds.map(run_cls, num_proc=96)"
   ]
  },
  {
   "cell_type": "code",
   "execution_count": 64,
   "id": "c88285c7-58e5-4201-b999-b197ec9157bd",
   "metadata": {},
   "outputs": [
    {
     "name": "stdout",
     "output_type": "stream",
     "text": [
      "Agreement rate: 0.9066\n",
      "Disagrees on tests passing: 0.7387580299785867\n",
      "Disagrees on tests failing: 0.26124197002141325\n"
     ]
    }
   ],
   "source": [
    "bad_cls = 0\n",
    "agreement = 0\n",
    "disagrees_on_passing = 0\n",
    "disagrees_on_failing = 0\n",
    "disagrees = []\n",
    "for ex in new_ds:\n",
    "    cls = ex[\"cls\"]\n",
    "    p = ex[\"passing\"]\n",
    "    \n",
    "    if cls is None:\n",
    "        bad_cls += 1\n",
    "        continue\n",
    "        \n",
    "    if cls == p:\n",
    "        agreement += 1\n",
    "    else:\n",
    "        if p:\n",
    "            disagrees_on_passing += 1\n",
    "        else:\n",
    "            disagrees_on_failing += 1\n",
    "        disagrees.append(ex)\n",
    "\n",
    "print(f\"Agreement rate: {agreement / len(new_ds)}\")\n",
    "print(f\"Disagrees on tests passing: {disagrees_on_passing / len(disagrees)}\")\n",
    "print(f\"Disagrees on tests failing: {disagrees_on_failing / len(disagrees)}\")"
   ]
  },
  {
   "cell_type": "code",
   "execution_count": null,
   "id": "e688ef24-6949-47b8-8484-db0463692ec3",
   "metadata": {},
   "outputs": [],
   "source": []
  },
  {
   "cell_type": "markdown",
   "id": "5d35b803-86d0-4d58-85d5-7542ba113b49",
   "metadata": {},
   "source": [
    "# Timeout analysis"
   ]
  },
  {
   "cell_type": "code",
   "execution_count": 36,
   "id": "7b22e697-71a7-45d0-9820-e9ed617062dd",
   "metadata": {},
   "outputs": [],
   "source": [
    "import datasets\n",
    "ds = datasets.load_dataset(\"cassanof/taco_cleaned_all\", split=\"train\")"
   ]
  },
  {
   "cell_type": "code",
   "execution_count": 39,
   "id": "bf8e2c2a-654d-416f-bdb6-7af02794a994",
   "metadata": {},
   "outputs": [
    {
     "name": "stdout",
     "output_type": "stream",
     "text": [
      "219700\n"
     ]
    }
   ],
   "source": [
    "print(len(timeout_exs))"
   ]
  },
  {
   "cell_type": "code",
   "execution_count": 38,
   "id": "faeaef06-0b86-4348-83b7-4ca914a17723",
   "metadata": {},
   "outputs": [
    {
     "name": "stderr",
     "output_type": "stream",
     "text": [
      "Filter: 100%|██████████████████████████████████████████████████████████████████████████████████████████████████████████████████████████████████████████████████████████| 13402/13402 [00:02<00:00, 5457.39 examples/s]\n"
     ]
    },
    {
     "name": "stdout",
     "output_type": "stream",
     "text": [
      "Time Limit: None\n",
      "Output: errored with 'Timeout'\n",
      "\n",
      "\n",
      "\n",
      "# Read the number of friends\n",
      "n = int(input())\n",
      "# Initialize an empty list to store the edges and their costs\n",
      "edge = []\n",
      "# Initialize an empty list to store the visited nodes\n",
      "vis = []\n",
      "# Initialize an empty list to store the parent nodes\n",
      "fa = []\n",
      "# Read the edges and their costs\n",
      "for i in range(n - 1):\n",
      "    edge.append(list(map(int, input().split())))\n",
      "# Initialize the visited nodes list with False values\n",
      "for i in range(n):\n",
      "    vis.append(False)\n",
      "# Initialize the parent nodes list with -1 values\n",
      "for i in range(n):\n",
      "    fa.append(-1)\n",
      "# Initialize the starting node as 0\n",
      "start = 0\n",
      "# Initialize the depth of the starting node as 0\n",
      "deep = 0\n",
      "# Mark the starting node as visited\n",
      "vis[start] = True\n",
      "# Initialize an empty list to store the depth of each node\n",
      "deep_node = []\n",
      "# Initialize an empty list to store the cost of each node\n",
      "deep_cost = []\n",
      "# Initialize an empty list to store the children of each node\n",
      "son = []\n",
      "# Initialize an empty list to store the cost of each child\n",
      "son_cost = []\n",
      "# Perform a depth-first search to calculate the depth and cost of each node\n",
      "while True:\n",
      "    for i in range(n - 1):\n",
      "        if (edge[i][0] == start or edge[i][1] == start) and (vis[edge[i][0]] == False or vis[edge[i][1]] == False):\n",
      "            if vis[edge[i][0]] == False:\n",
      "                vis[edge[i][0]] = True\n",
      "                fa[edge[i][0]] = start\n",
      "                deep_node.append(edge[i][0])\n",
      "                deep_cost.append(edge[i][2])\n",
      "                start = edge[i][0]\n",
      "            elif vis[edge[i][1]] == False:\n",
      "                vis[edge[i][1]] = True\n",
      "                fa[edge[i][1]] = start\n",
      "                deep_node.append(edge[i][1])\n",
      "                deep_cost.append(edge[i][2])\n",
      "                start = edge[i][1]\n",
      "    if len(deep_node) == 0:\n",
      "        break\n",
      "    else:\n",
      "        start = deep_node[-1]\n",
      "        deep_node.pop()\n",
      "# Initialize an empty list to store the maximum cost of each node\n",
      "max_deep = []\n",
      "# Perform a depth-first search to calculate the maximum cost of each node\n",
      "while True:\n",
      "    if len(deep_node) == 0:\n",
      "        break\n",
      "    else:\n",
      "        start = deep_node.pop()\n",
      "        max_cost = deep_cost.pop()\n",
      "        if len(son) > 0:\n",
      "            son.reverse()\n",
      "            son_cost.reverse()\n",
      "            for i in range(len(son)):\n",
      "                max_cost = max(max_cost, max_deep[son[i]] + son_cost[i])\n",
      "            son.clear()\n",
      "            son_cost.clear()\n",
      "        max_deep.append(max_cost)\n",
      "        start = fa[start]\n",
      "        if start == -1:\n",
      "            break\n",
      "        deep_node.append(start)\n",
      "        deep_cost.append(0)\n",
      "        for i in range(n - 1):\n",
      "            if edge[i][0] == start or edge[i][1] == start:\n",
      "                if edge[i][0] != fa[start] and edge[i][0] != start:\n",
      "                    son.append(edge[i][0])\n",
      "                    son_cost.append(edge[i][2])\n",
      "                elif edge[i][1] != fa[start] and edge[i][1] != start:\n",
      "                    son.append(edge[i][1])\n",
      "                    son_cost.append(edge[i][2])\n",
      "# Output the maximum cost of the tree\n",
      "print(max_cost)\n"
     ]
    },
    {
     "name": "stderr",
     "output_type": "stream",
     "text": [
      "Executing tests: 100%|██████████████████████████████████████████████████████████████████████████████████████████████████████████████████████████████████████████████████████████████████| 1/1 [00:00<00:00,  5.01it/s]\n"
     ]
    },
    {
     "data": {
      "text/plain": [
       "[(False,\n",
       "  'errored with \\'Traceback (most recent call last):\\\\n  File \"/tmp/codeexec/16.py\", line 115, in <module>\\\\n    __run_prog__()\\\\n  File \"/tmp/codeexec/16.py\", line 109, in __run_prog__\\\\n    print(max_cost)\\\\nUnboundLocalError: local variable \\\\\\'max_cost\\\\\\' referenced before assignment\\\\n\\'\\n')]"
      ]
     },
     "execution_count": 38,
     "metadata": {},
     "output_type": "execute_result"
    }
   ],
   "source": [
    "import json\n",
    "from codeprm.execution import smart_exec_tests_queuebatched\n",
    "i = 700\n",
    "ex, code, o = timeout_exs[i]\n",
    "q = ex[\"prompt\"]\n",
    "orig_ex = ds.filter(lambda ex: ex[\"question\"] == q)[0]\n",
    "tests = json.loads(orig_ex[\"input_output\"])\n",
    "limit = orig_ex[\"time_limit\"]\n",
    "print(f\"Time Limit: {limit}\")\n",
    "print(f\"Output: {o}\")\n",
    "# print(tests)\n",
    "print(code)\n",
    "smart_exec_tests_queuebatched([code], [tests])"
   ]
  },
  {
   "cell_type": "code",
   "execution_count": 42,
   "id": "c30e5e25-5c7b-4e27-95a3-19a63546ced2",
   "metadata": {},
   "outputs": [
    {
     "data": {
      "text/plain": [
       "Dataset({\n",
       "    features: ['content', 'score', 'solution'],\n",
       "    num_rows: 76338\n",
       "})"
      ]
     },
     "execution_count": 42,
     "metadata": {},
     "output_type": "execute_result"
    }
   ],
   "source": [
    "ds = datasets.load_dataset(\"codegenning/orm_dataset_raw50\", split=\"train\")\n",
    "ds"
   ]
  },
  {
   "cell_type": "code",
   "execution_count": null,
   "id": "b7ce73a0-ac2d-42eb-9753-4f7829cdd262",
   "metadata": {},
   "outputs": [],
   "source": []
  }
 ],
 "metadata": {
  "kernelspec": {
   "display_name": "Python 3 (ipykernel)",
   "language": "python",
   "name": "python3"
  },
  "language_info": {
   "codemirror_mode": {
    "name": "ipython",
    "version": 3
   },
   "file_extension": ".py",
   "mimetype": "text/x-python",
   "name": "python",
   "nbconvert_exporter": "python",
   "pygments_lexer": "ipython3",
   "version": "3.9.19"
  }
 },
 "nbformat": 4,
 "nbformat_minor": 5
}

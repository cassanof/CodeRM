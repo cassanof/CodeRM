{
 "cells": [
  {
   "cell_type": "code",
   "execution_count": 15,
   "id": "c73ead3f-6814-4583-a2c8-ece2442302a2",
   "metadata": {},
   "outputs": [],
   "source": [
    "import datasets\n",
    "import os\n",
    "import openai"
   ]
  },
  {
   "cell_type": "code",
   "execution_count": 16,
   "id": "b83bbaba-75ed-45f4-8fae-c7122d1fbca2",
   "metadata": {},
   "outputs": [],
   "source": [
    "client = openai.Client(api_key=os.environ[\"OPENAI_API_KEY\"])"
   ]
  },
  {
   "cell_type": "code",
   "execution_count": 60,
   "id": "c5abbed0-06e0-42b0-90c3-4e10371d1f65",
   "metadata": {},
   "outputs": [
    {
     "data": {
      "text/plain": [
       "Dataset({\n",
       "    features: ['unique_name', 'prompt', 'starter_code', 'difficulty', 'results'],\n",
       "    num_rows: 13402\n",
       "})"
      ]
     },
     "execution_count": 60,
     "metadata": {},
     "output_type": "execute_result"
    }
   ],
   "source": [
    "ds = datasets.load_dataset(\"cassanof/orm_dataset_raw10_og\", split=\"train\")\n",
    "ds = ds.shuffle()\n",
    "ds"
   ]
  },
  {
   "cell_type": "code",
   "execution_count": 28,
   "id": "bda59c13-08db-437b-911a-c1a3ff7fc1e0",
   "metadata": {},
   "outputs": [
    {
     "data": {
      "image/png": "[encoded data removed]",
      "text/plain": [
       "<Figure size 800x600 with 1 Axes>"
      ]
     },
     "metadata": {},
     "output_type": "display_data"
    }
   ],
   "source": [
    "import matplotlib.pyplot as plt\n",
    "def get_err_kind(r):\n",
    "    o = r[\"output\"]\n",
    "    if \"Timeout\" in o:\n",
    "        t = \"Timeout\"\n",
    "    elif \"expected\" in o and \"but got\" in o or \"AssertionError\" in o:\n",
    "        t = \"Failed Tests\"\n",
    "    else:\n",
    "        t = \"Exception\"\n",
    "    return t\n",
    "    \n",
    "errs = [] # err types: \"Timeout\", \"Exception\", \"Failed Tests\"\n",
    "for ex in ds:\n",
    "    for r in ex[\"results\"]:\n",
    "        if not r[\"passing\"]:\n",
    "            errs.append(get_err_kind(r))\n",
    "\n",
    "error_counts = {error: errs.count(error) for error in set(errs)}\n",
    "\n",
    "error_types = list(error_counts.keys())\n",
    "counts = list(error_counts.values())\n",
    "\n",
    "plt.figure(figsize=(8, 6))\n",
    "plt.bar(error_types, counts, color=['blue', 'orange', 'green'])\n",
    "plt.xlabel('Error Types')\n",
    "plt.ylabel('Frequency')\n",
    "plt.title('Error Types Distribution')\n",
    "plt.show()"
   ]
  },
  {
   "cell_type": "code",
   "execution_count": 58,
   "id": "c5e9bd38-6e31-4a38-9028-bb9a9886fba5",
   "metadata": {},
   "outputs": [
    {
     "name": "stdout",
     "output_type": "stream",
     "text": [
      "\"\"\"\n",
      "Pasha has many hamsters and he makes them work out. Today, n hamsters (n is even) came to work out. The hamsters lined up and each hamster either sat down or stood up.\n",
      "\n",
      "For another exercise, Pasha needs exactly $\\frac{n}{2}$ hamsters to stand up and the other hamsters to sit down. In one minute, Pasha can make some hamster ether sit down or stand up. How many minutes will he need to get what he wants if he acts optimally well?\n",
      "\n",
      "\n",
      "-----Input-----\n",
      "\n",
      "The first line contains integer n (2 ≤ n ≤ 200; n is even). The next line contains n characters without spaces. These characters describe the hamsters' position: the i-th character equals 'X', if the i-th hamster in the row is standing, and 'x', if he is sitting.\n",
      "\n",
      "\n",
      "-----Output-----\n",
      "\n",
      "In the first line, print a single integer — the minimum required number of minutes. In the second line, print a string that describes the hamsters' position after Pasha makes the required changes. If there are multiple optimal positions, print any of them.\n",
      "\n",
      "\n",
      "-----Examples-----\n",
      "Input\n",
      "4\n",
      "xxXx\n",
      "\n",
      "Output\n",
      "1\n",
      "XxXx\n",
      "\n",
      "Input\n",
      "2\n",
      "XX\n",
      "\n",
      "Output\n",
      "1\n",
      "xX\n",
      "\n",
      "Input\n",
      "6\n",
      "xXXxXx\n",
      "\n",
      "Output\n",
      "0\n",
      "xXXxXx\n",
      "\"\"\"\n",
      "\n",
      "\n",
      "# Read the number of hamsters\n",
      "n = int(input())\n",
      "\n",
      "# Read the string describing the hamsters' position\n",
      "s = input()\n",
      "\n",
      "# Count the number of standing hamsters\n",
      "l = s.count('X')\n",
      "\n",
      "# If the number of standing hamsters is already equal to half of the total number of hamsters, print 0 and the current position\n",
      "if l == n // 2:\n",
      "\tprint(0)\n",
      "\tprint(s)\n",
      "else:\n",
      "\t# Calculate the number of minutes required to make the number of standing hamsters equal to half of the total number of hamsters\n",
      "\tprint(abs(n // 2 - l))\n",
      "\n",
      "\t# Create a new string describing the hamsters' position after the required changes\n",
      "\t# If the number of standing hamsters is less than half of the total number of hamsters, make the first half of the hamsters stand up and the second half sit down\n",
      "\t# If the number of standing hamsters is more than half of the total number of hamsters, make the first half of the hamsters sit down and the second half stand up\n",
      "\tprint('X' * min(l, n // 2) + 'x' * abs(l - n // 2) + 'X' * (n // 2 - min(l, n // 2)))\n"
     ]
    }
   ],
   "source": [
    "from codeprm.prompts import py_prompt\n",
    "import random\n",
    "random.seed(42)\n",
    "check_size = 5000\n",
    "samples = []\n",
    "for ex in ds.select(range(check_size)):\n",
    "    r = random.choice(ex[\"results\"])\n",
    "    code = r[\"code\"]\n",
    "    code = ex[\"starter_code\"] + code\n",
    "    code = py_prompt(ex[\"prompt\"], code)\n",
    "    r[\"code\"] = code\n",
    "    samples.append(r)\n",
    "print(samples[100][\"code\"])"
   ]
  },
  {
   "cell_type": "code",
   "execution_count": 62,
   "id": "33d124e6-b3dc-4ec6-bf1d-3b22a607c8ee",
   "metadata": {},
   "outputs": [
    {
     "name": "stderr",
     "output_type": "stream",
     "text": [
      "Map (num_proc=96): 100%|█████████████████████████████████████████████████████████████████████████████████████████████████████████████████████████████████████████████████████████████████████████████████████████████████████████████████████████████████████████████████████████| 5000/5000 [01:39<00:00, 50.06 examples/s]\n"
     ]
    }
   ],
   "source": [
    "from tqdm import tqdm\n",
    "code = samples[0][\"code\"]\n",
    "def gpt_classifier(code, model=\"gpt-4o\"):\n",
    "    system = \"You are a champion competitive programmer. You are able to identify if an algorithmic solution to a problem is either correct or not. You will respond only with Yes or No, then, only after the Yes/No, you will provide a very brief explaination of why.\"\n",
    "    resp = client.chat.completions.create(\n",
    "        model=model,\n",
    "        temperature=0.0,\n",
    "        messages=[\n",
    "            {\n",
    "                \"role\": \"system\",\n",
    "                \"content\": system,\n",
    "            },\n",
    "            {\n",
    "                \"role\": \"user\",\n",
    "                \"content\": f\"Please respond with Yes or No if the given program is correct or not, then after the newline, very briefly explain why:\\n{code}\",\n",
    "            }\n",
    "        ]\n",
    "    )\n",
    "    split = resp.choices[0].message.content.split(\"\\n\")\n",
    "    if len(split) < 2:\n",
    "        return None\n",
    "    split = [s for s in split if s.strip() != \"\"]\n",
    "    cls = split[0].strip()\n",
    "    exp = \"\\n\".join(split[1:])\n",
    "    if cls != \"Yes\" and cls != \"No\":\n",
    "        return None\n",
    "    if cls == \"Yes\":\n",
    "        cls_b = True\n",
    "    elif cls == \"No\":\n",
    "        cls_b = False\n",
    "    return cls_b, exp\n",
    "\n",
    "new_ds = datasets.Dataset.from_list(samples)\n",
    "cls = [None] * len(samples)\n",
    "exp = [None] * len(samples)\n",
    "new_ds = new_ds.add_column(\"cls\", cls)\n",
    "new_ds = new_ds.add_column(\"exp\", exp)\n",
    "\n",
    "def run_cls(ex):\n",
    "    code = ex[\"code\"]\n",
    "    out = gpt_classifier(code)\n",
    "    if out is not None:\n",
    "        cls, exp = out\n",
    "        return {\"cls\": cls, \"exp\": exp}\n",
    "\n",
    "new_ds = new_ds.map(run_cls, num_proc=96)"
   ]
  },
  {
   "cell_type": "code",
   "execution_count": 64,
   "id": "c88285c7-58e5-4201-b999-b197ec9157bd",
   "metadata": {},
   "outputs": [
    {
     "name": "stdout",
     "output_type": "stream",
     "text": [
      "Agreement rate: 0.9066\n",
      "Disagrees on tests passing: 0.7387580299785867\n",
      "Disagrees on tests failing: 0.26124197002141325\n"
     ]
    }
   ],
   "source": [
    "bad_cls = 0\n",
    "agreement = 0\n",
    "disagrees_on_passing = 0\n",
    "disagrees_on_failing = 0\n",
    "disagrees = []\n",
    "for ex in new_ds:\n",
    "    cls = ex[\"cls\"]\n",
    "    p = ex[\"passing\"]\n",
    "    \n",
    "    if cls is None:\n",
    "        bad_cls += 1\n",
    "        continue\n",
    "        \n",
    "    if cls == p:\n",
    "        agreement += 1\n",
    "    else:\n",
    "        if p:\n",
    "            disagrees_on_passing += 1\n",
    "        else:\n",
    "            disagrees_on_failing += 1\n",
    "        disagrees.append(ex)\n",
    "\n",
    "print(f\"Agreement rate: {agreement / len(new_ds)}\")\n",
    "print(f\"Disagrees on tests passing: {disagrees_on_passing / len(disagrees)}\")\n",
    "print(f\"Disagrees on tests failing: {disagrees_on_failing / len(disagrees)}\")"
   ]
  },
  {
   "cell_type": "code",
   "execution_count": null,
   "id": "e688ef24-6949-47b8-8484-db0463692ec3",
   "metadata": {},
   "outputs": [],
   "source": []
  }
 ],
 "metadata": {
  "kernelspec": {
   "display_name": "Python 3 (ipykernel)",
   "language": "python",
   "name": "python3"
  },
  "language_info": {
   "codemirror_mode": {
    "name": "ipython",
    "version": 3
   },
   "file_extension": ".py",
   "mimetype": "text/x-python",
   "name": "python",
   "nbconvert_exporter": "python",
   "pygments_lexer": "ipython3",
   "version": "3.9.19"
  }
 },
 "nbformat": 4,
 "nbformat_minor": 5
}

{
 "cells": [
  {
   "cell_type": "code",
   "execution_count": 1,
   "id": "c73ead3f-6814-4583-a2c8-ece2442302a2",
   "metadata": {},
   "outputs": [
    {
     "name": "stderr",
     "output_type": "stream",
     "text": [
      "/Users/federico.cassano/.pyenv/versions/3.9.19/lib/python3.9/site-packages/tqdm/auto.py:22: TqdmWarning: IProgress not found. Please update jupyter and ipywidgets. See https://ipywidgets.readthedocs.io/en/stable/user_install.html\n",
      "  from .autonotebook import tqdm as notebook_tqdm\n"
     ]
    }
   ],
   "source": [
    "import datasets\n",
    "import os\n",
    "import openai"
   ]
  },
  {
   "cell_type": "markdown",
   "id": "7c119de8-ba58-4f26-97d6-9240bab68615",
   "metadata": {
    "jp-MarkdownHeadingCollapsed": true
   },
   "source": [
    "# Full Dataset (OG)"
   ]
  },
  {
   "cell_type": "code",
   "execution_count": null,
   "id": "b83bbaba-75ed-45f4-8fae-c7122d1fbca2",
   "metadata": {},
   "outputs": [],
   "source": [
    "client = openai.Client(api_key=os.environ[\"OPENAI_API_KEY\"])"
   ]
  },
  {
   "cell_type": "code",
   "execution_count": 33,
   "id": "c5abbed0-06e0-42b0-90c3-4e10371d1f65",
   "metadata": {},
   "outputs": [
    {
     "data": {
      "text/plain": [
       "Dataset({\n",
       "    features: ['unique_name', 'prompt', 'starter_code', 'difficulty', 'results'],\n",
       "    num_rows: 13402\n",
       "})"
      ]
     },
     "execution_count": 33,
     "metadata": {},
     "output_type": "execute_result"
    }
   ],
   "source": [
    "ds = datasets.load_dataset(\"codegenning/orm_dataset_raw50_og\", split=\"train\")\n",
    "ds = ds.shuffle()\n",
    "ds"
   ]
  },
  {
   "cell_type": "code",
   "execution_count": 34,
   "id": "bda59c13-08db-437b-911a-c1a3ff7fc1e0",
   "metadata": {},
   "outputs": [
    {
     "data": {
      "image/png": "[encoded data removed]",
      "text/plain": [
       "<Figure size 800x600 with 1 Axes>"
      ]
     },
     "metadata": {},
     "output_type": "display_data"
    }
   ],
   "source": [
    "import matplotlib.pyplot as plt\n",
    "from codeprm.eval.redo_code_execution import get_err_kind\n",
    "    \n",
    "errs = [] # err types: \"Timeout\", \"Exception\", \"Failed Tests\"\n",
    "timeout_exs = []\n",
    "at_least_one_passing = []\n",
    "for ex in ds:\n",
    "    passing = None\n",
    "    for r in ex[\"results\"]:\n",
    "        if not r[\"passing\"]:\n",
    "            kind = get_err_kind(r)\n",
    "            errs.append(kind)\n",
    "            if kind == \"Timeout\":\n",
    "                timeout_exs.append((ex, r[\"code\"], r[\"output\"]))\n",
    "        else:\n",
    "            passing = r[\"code\"]\n",
    "        \n",
    "    if passing != None:\n",
    "        at_least_one_passing.append((ex, passing))\n",
    "\n",
    "error_counts = {error: errs.count(error) for error in set(errs)}\n",
    "\n",
    "error_types = list(error_counts.keys())\n",
    "counts = list(error_counts.values())\n",
    "\n",
    "plt.figure(figsize=(8, 6))\n",
    "plt.bar(error_types, counts, color=['blue', 'orange', 'green'])\n",
    "plt.xlabel('Error Types')\n",
    "plt.ylabel('Frequency')\n",
    "plt.title('Error Types Distribution')\n",
    "plt.show()"
   ]
  },
  {
   "cell_type": "markdown",
   "id": "fdaef9fc-15ad-43e0-a556-ba1b11dd2d78",
   "metadata": {
    "jp-MarkdownHeadingCollapsed": true
   },
   "source": [
    "# GPT-4 agreement"
   ]
  },
  {
   "cell_type": "code",
   "execution_count": null,
   "id": "c5e9bd38-6e31-4a38-9028-bb9a9886fba5",
   "metadata": {},
   "outputs": [],
   "source": [
    "from codeprm.prompts import py_prompt\n",
    "import random\n",
    "random.seed(42)\n",
    "check_size = 5000\n",
    "samples = []\n",
    "for ex in ds.select(range(check_size)):\n",
    "    r = random.choice(ex[\"results\"])\n",
    "    code = r[\"code\"]\n",
    "    code = ex[\"starter_code\"] + code\n",
    "    code = py_prompt(ex[\"prompt\"], code)\n",
    "    r[\"code\"] = code\n",
    "    samples.append(r)\n",
    "print(samples[100][\"code\"])"
   ]
  },
  {
   "cell_type": "code",
   "execution_count": 62,
   "id": "33d124e6-b3dc-4ec6-bf1d-3b22a607c8ee",
   "metadata": {},
   "outputs": [
    {
     "name": "stderr",
     "output_type": "stream",
     "text": [
      "Map (num_proc=96): 100%|█████████████████████████████████████████████████████████████████████████████████████████████████████████████████████████████████████████████████████████████████████████████████████████████████████████████████████████████████████████████████████████| 5000/5000 [01:39<00:00, 50.06 examples/s]\n"
     ]
    }
   ],
   "source": [
    "from tqdm import tqdm\n",
    "code = samples[0][\"code\"]\n",
    "def gpt_classifier(code, model=\"gpt-4o\"):\n",
    "    system = \"You are a champion competitive programmer. You are able to identify if an algorithmic solution to a problem is either correct or not. You will respond only with Yes or No, then, only after the Yes/No, you will provide a very brief explaination of why.\"\n",
    "    resp = client.chat.completions.create(\n",
    "        model=model,\n",
    "        temperature=0.0,\n",
    "        messages=[\n",
    "            {\n",
    "                \"role\": \"system\",\n",
    "                \"content\": system,\n",
    "            },\n",
    "            {\n",
    "                \"role\": \"user\",\n",
    "                \"content\": f\"Please respond with Yes or No if the given program is correct or not, then after the newline, very briefly explain why:\\n{code}\",\n",
    "            }\n",
    "        ]\n",
    "    )\n",
    "    split = resp.choices[0].message.content.split(\"\\n\")\n",
    "    if len(split) < 2:\n",
    "        return None\n",
    "    split = [s for s in split if s.strip() != \"\"]\n",
    "    cls = split[0].strip()\n",
    "    exp = \"\\n\".join(split[1:])\n",
    "    if cls != \"Yes\" and cls != \"No\":\n",
    "        return None\n",
    "    if cls == \"Yes\":\n",
    "        cls_b = True\n",
    "    elif cls == \"No\":\n",
    "        cls_b = False\n",
    "    return cls_b, exp\n",
    "\n",
    "new_ds = datasets.Dataset.from_list(samples)\n",
    "cls = [None] * len(samples)\n",
    "exp = [None] * len(samples)\n",
    "new_ds = new_ds.add_column(\"cls\", cls)\n",
    "new_ds = new_ds.add_column(\"exp\", exp)\n",
    "\n",
    "def run_cls(ex):\n",
    "    code = ex[\"code\"]\n",
    "    out = gpt_classifier(code)\n",
    "    if out is not None:\n",
    "        cls, exp = out\n",
    "        return {\"cls\": cls, \"exp\": exp}\n",
    "\n",
    "new_ds = new_ds.map(run_cls, num_proc=96)"
   ]
  },
  {
   "cell_type": "code",
   "execution_count": 64,
   "id": "c88285c7-58e5-4201-b999-b197ec9157bd",
   "metadata": {},
   "outputs": [
    {
     "name": "stdout",
     "output_type": "stream",
     "text": [
      "Agreement rate: 0.9066\n",
      "Disagrees on tests passing: 0.7387580299785867\n",
      "Disagrees on tests failing: 0.26124197002141325\n"
     ]
    }
   ],
   "source": [
    "bad_cls = 0\n",
    "agreement = 0\n",
    "disagrees_on_passing = 0\n",
    "disagrees_on_failing = 0\n",
    "disagrees = []\n",
    "for ex in new_ds:\n",
    "    cls = ex[\"cls\"]\n",
    "    p = ex[\"passing\"]\n",
    "    \n",
    "    if cls is None:\n",
    "        bad_cls += 1\n",
    "        continue\n",
    "        \n",
    "    if cls == p:\n",
    "        agreement += 1\n",
    "    else:\n",
    "        if p:\n",
    "            disagrees_on_passing += 1\n",
    "        else:\n",
    "            disagrees_on_failing += 1\n",
    "        disagrees.append(ex)\n",
    "\n",
    "print(f\"Agreement rate: {agreement / len(new_ds)}\")\n",
    "print(f\"Disagrees on tests passing: {disagrees_on_passing / len(disagrees)}\")\n",
    "print(f\"Disagrees on tests failing: {disagrees_on_failing / len(disagrees)}\")"
   ]
  },
  {
   "cell_type": "code",
   "execution_count": null,
   "id": "e688ef24-6949-47b8-8484-db0463692ec3",
   "metadata": {},
   "outputs": [],
   "source": []
  },
  {
   "cell_type": "markdown",
   "id": "5d35b803-86d0-4d58-85d5-7542ba113b49",
   "metadata": {},
   "source": [
    "# Timeout analysis"
   ]
  },
  {
   "cell_type": "code",
   "execution_count": 52,
   "id": "fb397a7c-56de-46f8-907b-e468c1741ee2",
   "metadata": {},
   "outputs": [
    {
     "data": {
      "text/plain": [
       "Dataset({\n",
       "    features: ['content', 'score', 'solution', 'output', 'question', 'starter_code'],\n",
       "    num_rows: 76338\n",
       "})"
      ]
     },
     "execution_count": 52,
     "metadata": {},
     "output_type": "execute_result"
    }
   ],
   "source": [
    "import datasets\n",
    "ds = datasets.load_dataset(\"codegenning/orm_dataset_raw50\", split=\"train\")\n",
    "ds"
   ]
  },
  {
   "cell_type": "code",
   "execution_count": 60,
   "id": "fc74f43c-9f08-4652-aab2-bbfe2afcb117",
   "metadata": {},
   "outputs": [
    {
     "data": {
      "image/png": "[encoded data removed]",
      "text/plain": [
       "<Figure size 800x600 with 1 Axes>"
      ]
     },
     "metadata": {},
     "output_type": "display_data"
    }
   ],
   "source": [
    "import matplotlib.pyplot as plt\n",
    "from codeprm.eval.redo_code_execution import get_err_kind\n",
    "    \n",
    "errs = [] # err types: \"Timeout\", \"Exception\", \"Failed Tests\"\n",
    "timeout_exs = []\n",
    "for ex in ds:\n",
    "    if not ex[\"score\"]:\n",
    "        kind = get_err_kind(ex)\n",
    "        errs.append(kind)\n",
    "        if kind == \"Timeout\":\n",
    "            timeout_exs.append((ex, ex[\"content\"], ex[\"output\"]))\n",
    "\n",
    "error_counts = {error: errs.count(error) for error in set(errs)}\n",
    "\n",
    "error_types = list(error_counts.keys())\n",
    "counts = list(error_counts.values())\n",
    "\n",
    "plt.figure(figsize=(8, 6))\n",
    "plt.bar(error_types, counts, color=['blue', 'orange', 'green'])\n",
    "plt.xlabel('Error Types')\n",
    "plt.ylabel('Frequency')\n",
    "plt.title('Error Types Distribution')\n",
    "plt.show()"
   ]
  },
  {
   "cell_type": "code",
   "execution_count": 67,
   "id": "7b22e697-71a7-45d0-9820-e9ed617062dd",
   "metadata": {},
   "outputs": [
    {
     "data": {
      "text/plain": [
       "Dataset({\n",
       "    features: ['question', 'solutions', 'starter_code', 'input_output', 'difficulty', 'raw_tags', 'name', 'source', 'tags', 'skill_types', 'url', 'Expected Auxiliary Space', 'time_limit', 'date', 'picture_num', 'memory_limit', 'Expected Time Complexity'],\n",
       "    num_rows: 13402\n",
       "})"
      ]
     },
     "execution_count": 67,
     "metadata": {},
     "output_type": "execute_result"
    }
   ],
   "source": [
    "import datasets\n",
    "orig_ds = datasets.load_dataset(\"cassanof/taco_cleaned_all\", split=\"train\")\n",
    "orig_ds"
   ]
  },
  {
   "cell_type": "code",
   "execution_count": 61,
   "id": "bf8e2c2a-654d-416f-bdb6-7af02794a994",
   "metadata": {},
   "outputs": [
    {
     "name": "stdout",
     "output_type": "stream",
     "text": [
      "12561\n"
     ]
    }
   ],
   "source": [
    "print(len(timeout_exs))"
   ]
  },
  {
   "cell_type": "code",
   "execution_count": 66,
   "id": "faeaef06-0b86-4348-83b7-4ca914a17723",
   "metadata": {},
   "outputs": [
    {
     "name": "stderr",
     "output_type": "stream",
     "text": [
      "Filter: 100%|██████████████████████████████████████████████████████████████████████████████████████████████████████████████████████████████████████████████████████████| 13402/13402 [00:01<00:00, 6857.11 examples/s]\n"
     ]
    },
    {
     "name": "stdout",
     "output_type": "stream",
     "text": [
      "Time Limit: 1 second\n",
      "Output: errored with 'Timeout'\n",
      "\n",
      "\"\"\"\n",
      "Koa the Koala and her best friend want to play a game.\n",
      "\n",
      "The game starts with an array $a$ of length $n$ consisting of non-negative integers. Koa and her best friend move in turns and each have initially a score equal to $0$. Koa starts.\n",
      "\n",
      "Let's describe a move in the game:  During his move, a player chooses any element of the array and removes it from this array, xor-ing it with the current score of the player.\n",
      "\n",
      " More formally: if the current score of the player is $x$ and the chosen element is $y$, his new score will be $x \\oplus y$. Here $\\oplus$ denotes bitwise XOR operation.\n",
      "\n",
      " Note that after a move element $y$ is removed from $a$.\n",
      "\n",
      "  The game ends when the array is empty. \n",
      "\n",
      "At the end of the game the winner is the player with the maximum score. If both players have the same score then it's a draw.\n",
      "\n",
      "If both players play optimally find out whether Koa will win, lose or draw the game.\n",
      "\n",
      "\n",
      "-----Input-----\n",
      "\n",
      "Each test contains multiple test cases. The first line contains $t$ ($1 \\le t \\le 10^4$) — the number of test cases. Description of the test cases follows.\n",
      "\n",
      "The first line of each test case contains the integer $n$ ($1 \\le n \\le 10^5$) — the length of $a$.\n",
      "\n",
      "The second line of each test case contains $n$ integers $a_1, a_2, \\ldots, a_n$ ($0 \\le a_i \\le 10^9$) — elements of $a$.\n",
      "\n",
      "It is guaranteed that the sum of $n$ over all test cases does not exceed $10^5$.\n",
      "\n",
      "\n",
      "-----Output-----\n",
      "\n",
      "For each test case print:  WIN if Koa will win the game.  LOSE if Koa will lose the game.  DRAW if the game ends in a draw. \n",
      "\n",
      "\n",
      "-----Examples-----\n",
      "Input\n",
      "3\n",
      "3\n",
      "1 2 2\n",
      "3\n",
      "2 2 3\n",
      "5\n",
      "0 0 0 2 2\n",
      "\n",
      "Output\n",
      "WIN\n",
      "LOSE\n",
      "DRAW\n",
      "\n",
      "Input\n",
      "4\n",
      "5\n",
      "4 1 5 1 3\n",
      "4\n",
      "1 0 1 6\n",
      "1\n",
      "0\n",
      "2\n",
      "5 4\n",
      "\n",
      "Output\n",
      "WIN\n",
      "WIN\n",
      "DRAW\n",
      "WIN\n",
      "\n",
      "\n",
      "\n",
      "-----Note-----\n",
      "\n",
      "In testcase $1$ of the first sample we have:\n",
      "\n",
      "$a = [1, 2, 2]$. Here Koa chooses $1$, other player has to choose $2$, Koa chooses another $2$. Score for Koa is $1 \\oplus 2 = 3$ and score for other player is $2$ so Koa wins.\n",
      "\"\"\"\n",
      "\n",
      "\n",
      "# Import the sys module to access the standard input\n",
      "import sys\n",
      "# Define a function to read input from the standard input\n",
      "input = sys.stdin.readline\n",
      "\n",
      "# Define a function to determine the result of the game\n",
      "def ans(n, a):\n",
      "    # Initialize an empty list to store the binary representation of the elements\n",
      "    b = []\n",
      "    # Initialize a variable to store the XOR of the elements\n",
      "    x = 0\n",
      "    # Iterate through the elements of the array\n",
      "    for i in range(n):\n",
      "        # Convert the current element to binary representation and store it in the list\n",
      "        y = bin(a[i])[2:]\n",
      "        b.append(y)\n",
      "        # XOR the current element with the running total\n",
      "        x ^= a[i]\n",
      "    # Get the length of the binary representation of the first element\n",
      "    n = len(b[0])\n",
      "    # Initialize a variable to store the result of the game\n",
      "    res = 0\n",
      "    # Iterate through the bits of the binary representation\n",
      "    for i in range(n):\n",
      "        # Initialize a variable to store the count of elements with a '1' at the current bit\n",
      "        cnt = 0\n",
      "        # Iterate through the elements of the array\n",
      "        for j in range(len(b)):\n",
      "            # If the current element has a '1' at the current bit, increment the count\n",
      "            if i >= len(b[j]):\n",
      "                continue\n",
      "            if b[j][-i - 1] == '1':\n",
      "                cnt += 1\n",
      "        # If the count of elements with a '1' at the current bit is even, continue to the next bit\n",
      "        if cnt % 4 == 0 or cnt % 4 == 3:\n",
      "            continue\n",
      "        # If the count of elements with a '1' at the current bit is 1, add 2 raised to the power of the current bit to the result\n",
      "        elif cnt % 4 == 1:\n",
      "            res += 2 ** i\n",
      "        # If the count of elements with a '1' at the current bit is 2, add 2 raised to the power of the current bit to the result\n",
      "        elif cnt % 4 == 2:\n",
      "            res += 2 ** i\n",
      "    # If the XOR of the elements is 0, return 'DRAW'\n",
      "    if x == 0:\n",
      "        return 'DRAW'\n",
      "    # If the result is equal to the XOR of the elements, return 'WIN'\n",
      "    elif res == x:\n",
      "        return 'WIN'\n",
      "    # Otherwise, return 'LOSE'\n",
      "    else:\n",
      "        return 'LOSE'\n",
      "\n",
      "# Read the number of test cases\n",
      "t = int(input())\n",
      "# Iterate through the test cases\n",
      "for i in range(t):\n",
      "    # Read the number of elements in the array\n",
      "    n = int(input())\n",
      "    # Read the elements of the array\n",
      "    a = list(map(int, input().split()))\n",
      "    # Print the result of the game\n",
      "    print(ans(n, a))\n"
     ]
    },
    {
     "name": "stderr",
     "output_type": "stream",
     "text": [
      "Executing tests: 100%|██████████████████████████████████████████████████████████████████████████████████████████████████████████████████████████████████████████████████████████████████| 1/1 [00:00<00:00,  4.82it/s]\n"
     ]
    },
    {
     "data": {
      "text/plain": [
       "[(False,\n",
       "  \"[1] expected 'WIN\\\\nWIN\\\\nDRAW\\\\nWIN\\\\n' but got '\\\\nLOSE\\\\nLOSE\\\\nDRAW\\\\nLOSE\\\\n'\\n\")]"
      ]
     },
     "execution_count": 66,
     "metadata": {},
     "output_type": "execute_result"
    }
   ],
   "source": [
    "import json\n",
    "from codeprm.execution import smart_exec_tests_queuebatched\n",
    "i = 55\n",
    "ex, code, o = timeout_exs[i]\n",
    "q = ex[\"question\"]\n",
    "orig_ex = orig_ds.filter(lambda ex: ex[\"question\"] == q)[0]\n",
    "tests = json.loads(orig_ex[\"input_output\"])\n",
    "limit = orig_ex[\"time_limit\"]\n",
    "print(f\"Time Limit: {limit}\")\n",
    "print(f\"Output: {o}\")\n",
    "# print(tests)\n",
    "print(code)\n",
    "smart_exec_tests_queuebatched([code], [tests])"
   ]
  },
  {
   "cell_type": "code",
   "execution_count": null,
   "id": "49b070c2-7310-4df8-8cba-fb72daec6fb9",
   "metadata": {},
   "outputs": [],
   "source": []
  }
 ],
 "metadata": {
  "kernelspec": {
   "display_name": "Python 3 (ipykernel)",
   "language": "python",
   "name": "python3"
  },
  "language_info": {
   "codemirror_mode": {
    "name": "ipython",
    "version": 3
   },
   "file_extension": ".py",
   "mimetype": "text/x-python",
   "name": "python",
   "nbconvert_exporter": "python",
   "pygments_lexer": "ipython3",
   "version": "3.9.19"
  }
 },
 "nbformat": 4,
 "nbformat_minor": 5
}

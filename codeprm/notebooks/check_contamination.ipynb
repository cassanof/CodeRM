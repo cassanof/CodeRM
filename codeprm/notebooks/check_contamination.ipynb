{
 "cells": [
  {
   "cell_type": "code",
   "execution_count": 2,
   "id": "6181432b-016a-44fe-a950-4bb47445f911",
   "metadata": {},
   "outputs": [
    {
     "name": "stdout",
     "output_type": "stream",
     "text": [
      "Dataset({\n",
      "    features: ['question', 'starter_code', 'difficulty', 'input_output', 'title', 'source', 'date', 'id'],\n",
      "    num_rows: 202\n",
      "})\n",
      "Dataset({\n",
      "    features: ['question', 'solutions', 'starter_code', 'input_output', 'difficulty', 'raw_tags', 'name', 'source', 'tags', 'skill_types', 'url', 'Expected Auxiliary Space', 'time_limit', 'date', 'picture_num', 'memory_limit', 'Expected Time Complexity'],\n",
      "    num_rows: 13402\n",
      "})\n"
     ]
    }
   ],
   "source": [
    "import datasets\n",
    "lcb = datasets.load_dataset(\"cassanof/livecodebench_lite_filtered\", split=\"test\")\n",
    "taco = datasets.load_dataset(\"cassanof/taco_cleaned_all\", split=\"train\")\n",
    "print(lcb)\n",
    "print(taco)"
   ]
  },
  {
   "cell_type": "code",
   "execution_count": 3,
   "id": "555e1a7f-6303-4ddc-bb5c-ce7c98f3c12f",
   "metadata": {},
   "outputs": [
    {
     "data": {
      "text/plain": [
       "set()"
      ]
     },
     "execution_count": 3,
     "metadata": {},
     "output_type": "execute_result"
    }
   ],
   "source": [
    "lcb_questions = set()\n",
    "taco_questions = set()\n",
    "for ex in lcb:\n",
    "    lcb_questions.add(ex[\"question\"])\n",
    "for ex in taco:\n",
    "    taco_questions.add(ex[\"question\"])\n",
    "\n",
    "lcb_questions.intersection(taco_questions)"
   ]
  },
  {
   "cell_type": "code",
   "execution_count": 7,
   "id": "5c94dea9-06cc-4abb-a369-75ebebf89acd",
   "metadata": {},
   "outputs": [
    {
     "data": {
      "text/plain": [
       "set()"
      ]
     },
     "execution_count": 7,
     "metadata": {},
     "output_type": "execute_result"
    }
   ],
   "source": [
    "lcb_tests = set()\n",
    "taco_tests = set()\n",
    "for ex in lcb:\n",
    "    lcb_tests.add(ex[\"input_output\"])\n",
    "for ex in taco:\n",
    "    taco_tests.add(ex[\"input_output\"])\n",
    "\n",
    "lcb_tests.intersection(taco_tests)"
   ]
  },
  {
   "cell_type": "code",
   "execution_count": 8,
   "id": "daafe58f-bf07-44b7-8ceb-287679c6f83b",
   "metadata": {},
   "outputs": [
    {
     "data": {
      "text/plain": [
       "{''}"
      ]
     },
     "execution_count": 8,
     "metadata": {},
     "output_type": "execute_result"
    }
   ],
   "source": [
    "lcb_starter_code = set()\n",
    "taco_starter_code = set()\n",
    "for ex in lcb:\n",
    "    lcb_starter_code.add(ex[\"starter_code\"])\n",
    "for ex in taco:\n",
    "    taco_starter_code.add(ex[\"starter_code\"])\n",
    "\n",
    "lcb_starter_code.intersection(taco_starter_code)"
   ]
  },
  {
   "cell_type": "code",
   "execution_count": null,
   "id": "c9bf26c1-aea4-4742-8c35-59088b803709",
   "metadata": {},
   "outputs": [],
   "source": []
  }
 ],
 "metadata": {
  "kernelspec": {
   "display_name": "Python 3 (ipykernel)",
   "language": "python",
   "name": "python3"
  },
  "language_info": {
   "codemirror_mode": {
    "name": "ipython",
    "version": 3
   },
   "file_extension": ".py",
   "mimetype": "text/x-python",
   "name": "python",
   "nbconvert_exporter": "python",
   "pygments_lexer": "ipython3",
   "version": "3.12.3"
  }
 },
 "nbformat": 4,
 "nbformat_minor": 5
}

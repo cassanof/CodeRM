{
 "cells": [
  {
   "cell_type": "code",
   "execution_count": 1,
   "id": "85ba181a-e6a3-4d72-bb91-29b82cdbfbfb",
   "metadata": {},
   "outputs": [
    {
     "name": "stderr",
     "output_type": "stream",
     "text": [
      "/Users/federico.cassano/.pyenv/versions/3.9.19/lib/python3.9/site-packages/tqdm/auto.py:22: TqdmWarning: IProgress not found. Please update jupyter and ipywidgets. See https://ipywidgets.readthedocs.io/en/stable/user_install.html\n",
      "  from .autonotebook import tqdm as notebook_tqdm\n"
     ]
    },
    {
     "data": {
      "text/plain": [
       "Dataset({\n",
       "    features: ['question', 'solutions', 'starter_code', 'input_output', 'difficulty', 'raw_tags', 'name', 'source', 'tags', 'skill_types', 'url', 'Expected Auxiliary Space', 'time_limit', 'date', 'picture_num', 'memory_limit', 'Expected Time Complexity'],\n",
       "    num_rows: 10039\n",
       "})"
      ]
     },
     "execution_count": 1,
     "metadata": {},
     "output_type": "execute_result"
    }
   ],
   "source": [
    "import datasets\n",
    "ds = datasets.load_from_disk(\"./taco_cleaned\")\n",
    "ds"
   ]
  },
  {
   "cell_type": "code",
   "execution_count": 2,
   "id": "d91a0409-7d80-4d0f-a6a4-0820d84707bf",
   "metadata": {},
   "outputs": [
    {
     "name": "stdout",
     "output_type": "stream",
     "text": [
      "{<class 'dict'>}\n",
      "{'fn_name', 'inputs', 'outputs'}\n",
      "544\n"
     ]
    }
   ],
   "source": [
    "# figure out format of tests\n",
    "import json\n",
    "import sys\n",
    "sys.set_int_max_str_digits(0)\n",
    "keys = set()\n",
    "types = set()\n",
    "has_fn_name = 0\n",
    "\n",
    "for ex in ds:\n",
    "    eio = ex[\"input_output\"]\n",
    "    eio = json.loads(eio)\n",
    "    types.add(type(eio))\n",
    "    ks = eio.keys()\n",
    "    if \"fn_name\" in ks:\n",
    "        has_fn_name += 1\n",
    "    for k in ks:\n",
    "        keys.add(k)\n",
    "\n",
    "print(types)\n",
    "print(keys)\n",
    "print(has_fn_name)"
   ]
  },
  {
   "cell_type": "code",
   "execution_count": 2,
   "id": "2075bb4c-2158-42db-b69c-f9bfaebee3ab",
   "metadata": {},
   "outputs": [
    {
     "data": {
      "text/plain": [
       "45000"
      ]
     },
     "execution_count": 2,
     "metadata": {},
     "output_type": "execute_result"
    }
   ],
   "source": [
    "9000 * 5\n",
    "\n",
    "# MinHash + Locality Sentitive Hasking, Jaccard Similarity 0.5\n",
    "# pick 5 dedup\n",
    "# 1 with original prompt, 4 LLM to rephrase the prompt"
   ]
  },
  {
   "cell_type": "code",
   "execution_count": 10,
   "id": "c2f42e55-52a5-4adc-a710-c6668652de9f",
   "metadata": {},
   "outputs": [],
   "source": [
    "ds = ds.shuffle()"
   ]
  },
  {
   "cell_type": "code",
   "execution_count": null,
   "id": "e21cf863-4414-41c9-a125-1bd5ffa762bb",
   "metadata": {},
   "outputs": [],
   "source": [
    "import json\n",
    "from tqdm import tqdm\n",
    "from codeprm.execution import exec_io_test\n",
    "\n",
    "subset = ds.select(range(10))\n",
    "for i, ex in enumerate(subset):\n",
    "    print(f\"++ RUNNING {i}\")\n",
    "    for sol in tqdm(ex[\"solutions\"][:5]):\n",
    "        tests = json.loads(ex[\"input_output\"])\n",
    "        inputs = tests[\"inputs\"]\n",
    "        outputs = tests[\"outputs\"]\n",
    "        print(exec_io_test(sol, inputs, outputs))"
   ]
  },
  {
   "cell_type": "code",
   "execution_count": 3,
   "id": "95565db4-4ace-408b-b692-fb45d3f295ba",
   "metadata": {},
   "outputs": [],
   "source": [
    "import json\n",
    "only_fn_name = ds.filter(lambda ex: \"fn_name\" in json.loads(ex[\"input_output\"]).keys())"
   ]
  },
  {
   "cell_type": "code",
   "execution_count": 8,
   "id": "70811c49-4d97-47b7-b712-0f59f186bed6",
   "metadata": {},
   "outputs": [
    {
     "name": "stdout",
     "output_type": "stream",
     "text": [
      "['0\\n', '0\\n', '0\\n', '1\\n', '1\\n', '0\\n', '7\\n', '0\\n', '4\\n', '4\\n', '12\\n', '0\\n', '0\\n', '17\\n', '761\\n', '0\\n', '4\\n', '2\\n', '10\\n', '0\\n', '1\\n', '0\\n', '3\\n', '758\\n', '5\\n', '9\\n', '2\\n', '772\\n', '11\\n', '1479\\n', '1515\\n', '1510\\n', '4\\n', '16\\n', '795\\n', '6\\n', '774\\n', '773\\n', '1549\\n', '1771\\n', '15\\n', '2658\\n', '776\\n', '768\\n', '1533\\n', '1543\\n', '1783\\n', '2662\\n', '779\\n', '1528\\n', '1559\\n', '1789\\n', '2667\\n', '1\\n', '2\\n', '1\\n', '1\\n', '1\\n', '0\\n', '2\\n', '5\\n', '1\\n', '2\\n', '1510\\n', '0\\n', '3\\n', '6\\n', '2\\n', '1\\n', '16\\n', '5\\n', '3\\n', '2\\n', '15\\n', '6\\n', '0\\n', '1\\n', '6\\n']\n"
     ]
    }
   ],
   "source": [
    "ex = ds[3]\n",
    "tests = json.loads(ex[\"input_output\"])\n",
    "print(tests[\"outputs\"])"
   ]
  },
  {
   "cell_type": "code",
   "execution_count": 9,
   "id": "acdb3099-6f40-412a-bbd3-44a9c16caa88",
   "metadata": {},
   "outputs": [
    {
     "name": "stdout",
     "output_type": "stream",
     "text": [
      "[[[1, 120], [2, 60], 4], [[1, 120], [2, 60], 8], [[1, 120], [4, 30], 8], [[1, 120], [3, 60], 9], [[1, 120], [3, 60], 27], [[1, 120], [9, 30], 27], [[1, 81], [2, 27], 4], [[1, 81], [2, 27], 8], [[1, 81], [4, 9], 8], [[1, 81], [5, 27], 25], [[1, 81], [5, 27], 125], [[1, 81], [25, 9], 125], [[4, 30], [2, 60], 1], [[5, 27], [1, 81], 1], [[4, 9], [8, 3], 1], [[1, 120], [1, 120], 1], [[4, 99], [4, 99], 4], [[9, 1], [9, 1], 9]]\n"
     ]
    }
   ],
   "source": [
    "ex = only_fn_name[3]\n",
    "tests = json.loads(ex[\"input_output\"])\n",
    "print(tests[\"inputs\"])"
   ]
  },
  {
   "cell_type": "code",
   "execution_count": null,
   "id": "ec722103-daa6-4041-960a-e19f49a05e26",
   "metadata": {},
   "outputs": [],
   "source": [
    "import json\n",
    "from tqdm import tqdm\n",
    "from codeprm.execution import exec_named_test\n",
    "\n",
    "subset2 = only_fn_name.select(range(10))\n",
    "for i, ex in enumerate(subset2):\n",
    "    print(f\"++ RUNNING {i}\")\n",
    "    for sol in tqdm(ex[\"solutions\"][:5]):\n",
    "        tests = json.loads(ex[\"input_output\"])\n",
    "        inputs = tests[\"inputs\"]\n",
    "        outputs = tests[\"outputs\"]\n",
    "        name = tests[\"fn_name\"]\n",
    "        print(exec_named_test(sol, inputs, outputs, name))"
   ]
  },
  {
   "cell_type": "code",
   "execution_count": 5,
   "id": "89a6d91f-9c25-4340-84a9-b8be96a90a72",
   "metadata": {},
   "outputs": [
    {
     "data": {
      "text/plain": [
       "'{\"fn_name\": \"make_acronym\", \"inputs\": [[\"My aunt sally\"], [\"Please excuse my dear aunt Sally\"], [\"How much wood would a woodchuck chuck if a woodchuck could chuck wood\"], [\"Unique New York\"], [\"a42\"], [\"1111\"], [64], [[]], [{}], [\"\"]], \"outputs\": [\"MAS\", \"PEMDAS\", \"HMWWAWCIAWCCW\", \"UNY\", \"Not letters\", \"Not letters\", \"Not a string\", \"Not a string\", \"Not a string\", \"\"]}'"
      ]
     },
     "execution_count": 5,
     "metadata": {},
     "output_type": "execute_result"
    }
   ],
   "source": [
    "ds[10][\"input_output\"]"
   ]
  },
  {
   "cell_type": "code",
   "execution_count": 2,
   "id": "94150c24-6025-4ce2-be0a-1319af88e71a",
   "metadata": {},
   "outputs": [
    {
     "name": "stderr",
     "output_type": "stream",
     "text": [
      "Filter (num_proc=12): 100%|█████████████████████████████████████████████████████████████████████████████████████████████████████████████████████████████████████████████████████████████████████████████████████████████████████████████████████████████████████████████| 26443/26443 [00:00<00:00, 37614.40 examples/s]\n"
     ]
    },
    {
     "name": "stdout",
     "output_type": "stream",
     "text": [
      "Number of no sols 5950\n"
     ]
    }
   ],
   "source": [
    "import datasets\n",
    "import json\n",
    "import os\n",
    "ds = datasets.load_dataset(\n",
    "    \"BAAI/TACO\", split=\"train+test\", trust_remote_code=True)\n",
    "no_sols = ds.filter(lambda ex: len(json.loads(ex[\"solutions\"])) == 0, num_proc=os.cpu_count())\n",
    "print(f\"Number of no sols {len(no_sols)}\")"
   ]
  },
  {
   "cell_type": "code",
   "execution_count": 5,
   "id": "350b3e2a-8061-4a7c-9ce6-9ba5a47cc58e",
   "metadata": {},
   "outputs": [],
   "source": [
    "s = \"ABCBC\"\n",
    "os = ds.filter(lambda ex: s in ex[\"question\"])"
   ]
  },
  {
   "cell_type": "code",
   "execution_count": 7,
   "id": "a09b98bf-abc4-41bd-9a23-2b6b3c20496d",
   "metadata": {},
   "outputs": [
    {
     "name": "stdout",
     "output_type": "stream",
     "text": [
      "You are given a string s consisting of `A`, `B` and `C`.\n",
      "\n",
      "Snuke wants to perform the following operation on s as many times as possible:\n",
      "\n",
      "* Choose a contiguous substring of s that reads `ABC` and replace it with `BCA`.\n",
      "\n",
      "\n",
      "\n",
      "Find the maximum possible number of operations.\n",
      "\n",
      "Constraints\n",
      "\n",
      "* 1 \\leq |s| \\leq 200000\n",
      "* Each character of s is `A`, `B` and `C`.\n",
      "\n",
      "Input\n",
      "\n",
      "Input is given from Standard Input in the following format:\n",
      "\n",
      "\n",
      "s\n",
      "\n",
      "\n",
      "Output\n",
      "\n",
      "Find the maximum possible number of operations.\n",
      "\n",
      "Examples\n",
      "\n",
      "Input\n",
      "\n",
      "ABCABC\n",
      "\n",
      "\n",
      "Output\n",
      "\n",
      "3\n",
      "\n",
      "\n",
      "Input\n",
      "\n",
      "C\n",
      "\n",
      "\n",
      "Output\n",
      "\n",
      "0\n",
      "\n",
      "\n",
      "Input\n",
      "\n",
      "ABCACCBABCBCAABCB\n",
      "\n",
      "\n",
      "Output\n",
      "\n",
      "6\n"
     ]
    }
   ],
   "source": [
    "print(os[1][\"question\"])"
   ]
  },
  {
   "cell_type": "code",
   "execution_count": null,
   "id": "d5a150ae-0410-4884-80c5-24bc2e7a78cb",
   "metadata": {},
   "outputs": [],
   "source": []
  }
 ],
 "metadata": {
  "kernelspec": {
   "display_name": "Python 3 (ipykernel)",
   "language": "python",
   "name": "python3"
  },
  "language_info": {
   "codemirror_mode": {
    "name": "ipython",
    "version": 3
   },
   "file_extension": ".py",
   "mimetype": "text/x-python",
   "name": "python",
   "nbconvert_exporter": "python",
   "pygments_lexer": "ipython3",
   "version": "3.9.19"
  }
 },
 "nbformat": 4,
 "nbformat_minor": 5
}

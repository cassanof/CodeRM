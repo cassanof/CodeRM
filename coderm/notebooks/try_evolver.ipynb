{
 "cells": [
  {
   "cell_type": "code",
   "execution_count": 1,
   "id": "07411106-67c8-4861-a3df-c02020a642a5",
   "metadata": {},
   "outputs": [],
   "source": [
    "%load_ext autoreload\n",
    "%autoreload 2"
   ]
  },
  {
   "cell_type": "code",
   "execution_count": 2,
   "id": "00021722-b3ef-48f4-be69-b2b6a0d09e75",
   "metadata": {},
   "outputs": [],
   "source": [
    "from coderm.model import EvolverModel"
   ]
  },
  {
   "cell_type": "code",
   "execution_count": 3,
   "id": "c763e9fa-51ca-422b-9ca0-0ce4cf868eb1",
   "metadata": {},
   "outputs": [
    {
     "name": "stdout",
     "output_type": "stream",
     "text": [
      "INFO 06-24 18:36:16 config.py:1218] Downcasting torch.float32 to torch.bfloat16.\n",
      "INFO 06-24 18:36:16 llm_engine.py:161] Initializing an LLM engine (v0.5.0.post1) with config: model='/mnt/efs/federicocassano/t_models/generator-sc2-15b', speculative_config=None, tokenizer='/mnt/efs/federicocassano/t_models/generator-sc2-15b', skip_tokenizer_init=False, tokenizer_mode=auto, revision=None, rope_scaling=None, rope_theta=None, tokenizer_revision=None, trust_remote_code=True, dtype=torch.bfloat16, max_seq_len=16384, download_dir=None, load_format=LoadFormat.AUTO, tensor_parallel_size=1, disable_custom_all_reduce=False, quantization=None, enforce_eager=True, kv_cache_dtype=auto, quantization_param_path=None, device_config=cuda, decoding_config=DecodingConfig(guided_decoding_backend='outlines'), seed=0, served_model_name=/mnt/efs/federicocassano/t_models/generator-sc2-15b)\n",
      "INFO 06-24 18:36:17 selector.py:150] Cannot use FlashAttention-2 backend due to sliding window.\n",
      "INFO 06-24 18:36:17 selector.py:51] Using XFormers backend.\n",
      "INFO 06-24 18:36:21 selector.py:150] Cannot use FlashAttention-2 backend due to sliding window.\n",
      "INFO 06-24 18:36:21 selector.py:51] Using XFormers backend.\n",
      "INFO 06-24 18:36:31 model_runner.py:160] Loading model weights took 29.7278 GB\n",
      "INFO 06-24 18:36:32 gpu_executor.py:83] # GPU blocks: 31631, # CPU blocks: 3276\n"
     ]
    },
    {
     "name": "stderr",
     "output_type": "stream",
     "text": [
      "The model was loaded with use_flash_attention_2=True, which is deprecated and may be removed in a future release. Please use `attn_implementation=\"flash_attention_2\"` instead.\n",
      "You are attempting to use Flash Attention 2.0 with a model not initialized on GPU. Make sure to move the model to GPU after initializing it on CPU with `model.to('cuda')`.\n"
     ]
    },
    {
     "data": {
      "application/vnd.jupyter.widget-view+json": {
       "model_id": "6bdd54f9e22d4ce4b7506b58e362d506",
       "version_major": 2,
       "version_minor": 0
      },
      "text/plain": [
       "Loading checkpoint shards:   0%|          | 0/14 [00:00<?, ?it/s]"
      ]
     },
     "metadata": {},
     "output_type": "display_data"
    }
   ],
   "source": [
    "model = EvolverModel(\"/mnt/efs/federicocassano/t_models/generator-sc2-15b\", \"/mnt/efs/federicocassano/codeprm/training/code-scorer/15b_orm/\", evolver_e=3)"
   ]
  },
  {
   "cell_type": "code",
   "execution_count": 4,
   "id": "aea2f79f-0d63-4ee4-ac92-815f0e2c48ab",
   "metadata": {},
   "outputs": [
    {
     "data": {
      "text/plain": [
       "Dataset({\n",
       "    features: ['question', 'starter_code', 'difficulty', 'input_output', 'public_input_output', 'title', 'source', 'date', 'id'],\n",
       "    num_rows: 202\n",
       "})"
      ]
     },
     "execution_count": 4,
     "metadata": {},
     "output_type": "execute_result"
    }
   ],
   "source": [
    "import datasets\n",
    "ds = datasets.load_dataset(\"codegenning/livecodebench_lite_filtered\", split=\"test\")\n",
    "ds"
   ]
  },
  {
   "cell_type": "code",
   "execution_count": 5,
   "id": "cd671918-3050-4efb-8cc2-be805931470c",
   "metadata": {},
   "outputs": [
    {
     "name": "stdout",
     "output_type": "stream",
     "text": [
      "\"\"\"\n",
      "Vanya and Vova are playing a game. Players are given an integer $n$. On their turn, the player can add $1$ to the current integer or subtract $1$. The players take turns; Vanya starts. If after Vanya's move the integer is divisible by $3$, then he wins. If $10$ moves have passed and Vanya has not won, then Vova wins.\n",
      "\n",
      "Write a program that, based on the integer $n$, determines who will win if both players play optimally.\n",
      "\n",
      "Input\n",
      "\n",
      "The first line contains the integer $t$ ($1 \\leq t \\leq 100$) — the number of test cases.\n",
      "\n",
      "The single line of each test case contains the integer $n$ ($1 \\leq n \\leq 1000$).\n",
      "\n",
      "Output\n",
      "\n",
      "For each test case, print \"First\" without quotes if Vanya wins, and \"Second\" without quotes if Vova wins.Sample Input 1:\n",
      "6\n",
      "\n",
      "1\n",
      "\n",
      "3\n",
      "\n",
      "5\n",
      "\n",
      "100\n",
      "\n",
      "999\n",
      "\n",
      "1000\n",
      "\n",
      "\n",
      "\n",
      "Sample Output 1:\n",
      "\n",
      "First\n",
      "Second\n",
      "First\n",
      "First\n",
      "Second\n",
      "First\n",
      "\n",
      "\"\"\"\n"
     ]
    }
   ],
   "source": [
    "q = ds[0][\"question\"]\n",
    "p = model.format_prompt(q)\n",
    "print(p)"
   ]
  },
  {
   "cell_type": "code",
   "execution_count": 18,
   "id": "d4e4b76d-bc04-4167-b3d0-908edcf70a8e",
   "metadata": {},
   "outputs": [
    {
     "name": "stderr",
     "output_type": "stream",
     "text": [
      "Evolver iterations:   0%|                                                                                                                                                                       | 0/3 [00:00<?, ?it/s]"
     ]
    },
    {
     "name": "stdout",
     "output_type": "stream",
     "text": [
      "[]\n",
      "Evolved prompts\n",
      "\"\"\"\n",
      "Vanya and Vova are playing a game. Players are given an integer $n$. On their turn, the player can add $1$ to the current integer or subtract $1$. The players take turns; Vanya starts. If after Vanya's move the integer is divisible by $3$, then he wins. If $10$ moves have passed and Vanya has not won, then Vova wins.\n",
      "\n",
      "Write a program that, based on the integer $n$, determines who will win if both players play optimally.\n",
      "\n",
      "Input\n",
      "\n",
      "The first line contains the integer $t$ ($1 \\leq t \\leq 100$) — the number of test cases.\n",
      "\n",
      "The single line of each test case contains the integer $n$ ($1 \\leq n \\leq 1000$).\n",
      "\n",
      "Output\n",
      "\n",
      "For each test case, print \"First\" without quotes if Vanya wins, and \"Second\" without quotes if Vova wins.Sample Input 1:\n",
      "6\n",
      "\n",
      "1\n",
      "\n",
      "3\n",
      "\n",
      "5\n",
      "\n",
      "100\n",
      "\n",
      "999\n",
      "\n",
      "1000\n",
      "\n",
      "\n",
      "\n",
      "Sample Output 1:\n",
      "\n",
      "First\n",
      "Second\n",
      "First\n",
      "First\n",
      "Second\n",
      "First\n",
      "\n",
      "\"\"\"\n"
     ]
    },
    {
     "name": "stderr",
     "output_type": "stream",
     "text": [
      "Evolver iterations:  33%|█████████████████████████████████████████████████████                                                                                                          | 1/3 [00:02<00:04,  2.13s/it]"
     ]
    },
    {
     "name": "stdout",
     "output_type": "stream",
     "text": [
      "\n",
      "\n",
      "# Read the number of test cases\n",
      "t = int(input())\n",
      "\n",
      "# Iterate through each test case\n",
      "for i in range(t):\n",
      "    # Read the integer n\n",
      "    n = int(input())\n",
      "\n",
      "    # Check if Vova will win\n",
      "    if (n + 2) % 3 == 0:\n",
      "        # If Vova will win, print \"Second\"\n",
      "        print('Second')\n",
      "    else:\n",
      "        # If Vova will not win, print \"First\"\n",
      "        print('First')\n",
      "0.0255126953125\n",
      "[<coderm.model.Completion object at 0x7f3140ad4d90>]\n",
      "Evolved prompts\n",
      "\"\"\"\n",
      "Vanya and Vova are playing a game. Players are given an integer $n$. On their turn, the player can add $1$ to the current integer or subtract $1$. The players take turns; Vanya starts. If after Vanya's move the integer is divisible by $3$, then he wins. If $10$ moves have passed and Vanya has not won, then Vova wins.\n",
      "\n",
      "Write a program that, based on the integer $n$, determines who will win if both players play optimally.\n",
      "\n",
      "Input\n",
      "\n",
      "The first line contains the integer $t$ ($1 \\leq t \\leq 100$) — the number of test cases.\n",
      "\n",
      "The single line of each test case contains the integer $n$ ($1 \\leq n \\leq 1000$).\n",
      "\n",
      "Output\n",
      "\n",
      "For each test case, print \"First\" without quotes if Vanya wins, and \"Second\" without quotes if Vova wins.Sample Input 1:\n",
      "6\n",
      "\n",
      "1\n",
      "\n",
      "3\n",
      "\n",
      "5\n",
      "\n",
      "100\n",
      "\n",
      "999\n",
      "\n",
      "1000\n",
      "\n",
      "\n",
      "\n",
      "Sample Output 1:\n",
      "\n",
      "First\n",
      "Second\n",
      "First\n",
      "First\n",
      "Second\n",
      "First\n",
      "\n",
      "\"\"\"\n",
      "\n",
      "# Read the number of test cases\n",
      "t = int(input())\n",
      "\n",
      "# Iterate through each test case\n",
      "for i in range(t):\n",
      "    # Read the integer n\n",
      "    n = int(input())\n",
      "\n",
      "    # Check if Vova will win\n",
      "    if (n + 2) % 3 == 0:\n",
      "        # If Vova will win, print \"Second\"\n",
      "        print('Second')\n",
      "    else:\n",
      "        # If Vova will not win, print \"First\"\n",
      "        print('First')\n",
      "# ==== EVOLVED CODE ====\n"
     ]
    },
    {
     "name": "stderr",
     "output_type": "stream",
     "text": [
      "Evolver iterations:  67%|██████████████████████████████████████████████████████████████████████████████████████████████████████████                                                     | 2/3 [00:06<00:03,  3.40s/it]"
     ]
    },
    {
     "name": "stdout",
     "output_type": "stream",
     "text": [
      "\n",
      "# Read the number of test cases\n",
      "t = int(input())\n",
      "\n",
      "# Iterate through each test case\n",
      "for i in range(t):\n",
      "    # Read the integer n\n",
      "    n = int(input())\n",
      "\n",
      "    # Check if Vova will win\n",
      "    if n % 3 == 0:\n",
      "        # If Vova will win, print \"Second\"\n",
      "        print('Second')\n",
      "    elif n % 3 == 2:\n",
      "        # If Vova will win by adding 1, print \"First\"\n",
      "        print('First')\n",
      "    elif n % 3 == 1:\n",
      "        # If Vova will win by subtracting 1, check if the number of moves is less than or equal to 10\n",
      "        if (n - 1) // 3 <= 10:\n",
      "            # If the number of moves is less than or equal to 10, print \"First\"\n",
      "            print('First')\n",
      "        else:\n",
      "            # If the number of moves is greater than 10, print \"Second\"\n",
      "            print('Second')\n",
      "0.006500244140625\n",
      "[<coderm.model.Completion object at 0x7f3140ad4d90>, <coderm.model.Completion object at 0x7f3140ad72e0>]\n",
      "Evolved prompts\n",
      "\"\"\"\n",
      "Vanya and Vova are playing a game. Players are given an integer $n$. On their turn, the player can add $1$ to the current integer or subtract $1$. The players take turns; Vanya starts. If after Vanya's move the integer is divisible by $3$, then he wins. If $10$ moves have passed and Vanya has not won, then Vova wins.\n",
      "\n",
      "Write a program that, based on the integer $n$, determines who will win if both players play optimally.\n",
      "\n",
      "Input\n",
      "\n",
      "The first line contains the integer $t$ ($1 \\leq t \\leq 100$) — the number of test cases.\n",
      "\n",
      "The single line of each test case contains the integer $n$ ($1 \\leq n \\leq 1000$).\n",
      "\n",
      "Output\n",
      "\n",
      "For each test case, print \"First\" without quotes if Vanya wins, and \"Second\" without quotes if Vova wins.Sample Input 1:\n",
      "6\n",
      "\n",
      "1\n",
      "\n",
      "3\n",
      "\n",
      "5\n",
      "\n",
      "100\n",
      "\n",
      "999\n",
      "\n",
      "1000\n",
      "\n",
      "\n",
      "\n",
      "Sample Output 1:\n",
      "\n",
      "First\n",
      "Second\n",
      "First\n",
      "First\n",
      "Second\n",
      "First\n",
      "\n",
      "\"\"\"\n",
      "\n",
      "# Read the number of test cases\n",
      "t = int(input())\n",
      "\n",
      "# Iterate through each test case\n",
      "for i in range(t):\n",
      "    # Read the integer n\n",
      "    n = int(input())\n",
      "\n",
      "    # Check if Vova will win\n",
      "    if (n + 2) % 3 == 0:\n",
      "        # If Vova will win, print \"Second\"\n",
      "        print('Second')\n",
      "    else:\n",
      "        # If Vova will not win, print \"First\"\n",
      "        print('First')\n",
      "# ==== EVOLVED CODE ====\n"
     ]
    },
    {
     "name": "stderr",
     "output_type": "stream",
     "text": [
      "Evolver iterations: 100%|███████████████████████████████████████████████████████████████████████████████████████████████████████████████████████████████████████████████████████████████| 3/3 [00:09<00:00,  3.23s/it]"
     ]
    },
    {
     "name": "stdout",
     "output_type": "stream",
     "text": [
      "\n",
      "\n",
      "# Read the number of test cases\n",
      "t = int(input())\n",
      "\n",
      "# Iterate through each test case\n",
      "for i in range(t):\n",
      "    # Read the integer n\n",
      "    n = int(input())\n",
      "\n",
      "    # Check if Vova will win\n",
      "    if (n - 1) % 3 == 0:\n",
      "        # If Vova will win, print \"Second\"\n",
      "        print('Second')\n",
      "    elif n % 3 == 0:\n",
      "        # If Vova will win, print \"Second\"\n",
      "        print('Second')\n",
      "    elif (n + 1) % 3 == 0:\n",
      "        # If Vova will win, print \"Second\"\n",
      "        print('Second')\n",
      "    else:\n",
      "        # If Vova will not win, print \"First\"\n",
      "        print('First')\n",
      "0.70703125\n",
      "0.70703125\n",
      "\n",
      "\n",
      "# Read the number of test cases\n",
      "t = int(input())\n",
      "\n",
      "# Iterate through each test case\n",
      "for i in range(t):\n",
      "    # Read the integer n\n",
      "    n = int(input())\n",
      "\n",
      "    # Check if Vova will win\n",
      "    if (n - 1) % 3 == 0:\n",
      "        # If Vova will win, print \"Second\"\n",
      "        print('Second')\n",
      "    elif n % 3 == 0:\n",
      "        # If Vova will win, print \"Second\"\n",
      "        print('Second')\n",
      "    elif (n + 1) % 3 == 0:\n",
      "        # If Vova will win, print \"Second\"\n",
      "        print('Second')\n",
      "    else:\n",
      "        # If Vova will not win, print \"First\"\n",
      "        print('First')\n"
     ]
    },
    {
     "name": "stderr",
     "output_type": "stream",
     "text": [
      "\n"
     ]
    }
   ],
   "source": [
    "c = model.generate_with_info([p], temperature=0.4)[0]\n",
    "print(c.orm_score)\n",
    "print(c.code)"
   ]
  },
  {
   "cell_type": "code",
   "execution_count": null,
   "id": "a3d85af3-0052-47cd-ab24-4787d89afba2",
   "metadata": {},
   "outputs": [],
   "source": []
  }
 ],
 "metadata": {
  "kernelspec": {
   "display_name": "Python 3 (ipykernel)",
   "language": "python",
   "name": "python3"
  },
  "language_info": {
   "codemirror_mode": {
    "name": "ipython",
    "version": 3
   },
   "file_extension": ".py",
   "mimetype": "text/x-python",
   "name": "python",
   "nbconvert_exporter": "python",
   "pygments_lexer": "ipython3",
   "version": "3.10.9"
  },
  "thread": {
   "kernelId": "963c9edd-cdd9-48a1-8c49-fcd8e3f71637",
   "sessionId": "8b1fbb4c-019c-4c82-b99a-ca6d5d282e58"
  }
 },
 "nbformat": 4,
 "nbformat_minor": 5
}

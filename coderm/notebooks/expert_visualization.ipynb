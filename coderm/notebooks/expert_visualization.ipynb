{
 "cells": [
  {
   "cell_type": "code",
   "execution_count": 1,
   "id": "99131b8d-f033-4878-a028-77798b682f7b",
   "metadata": {},
   "outputs": [
    {
     "name": "stdin",
     "output_type": "stream",
     "text": [
      "The repository for /mnt/efs/federicocassano/t_models/deepseekcoder-22b-taco-plain800k contains custom code which must be executed to correctly load the model. You can inspect the repository content at https://hf.co//mnt/efs/federicocassano/t_models/deepseekcoder-22b-taco-plain800k.\n",
      "You can avoid this prompt in future by passing the argument `trust_remote_code=True`.\n",
      "\n",
      "Do you wish to run the custom code? [y/N]  y\n",
      "The repository for /mnt/efs/federicocassano/t_models/deepseekcoder-22b-taco-plain800k contains custom code which must be executed to correctly load the model. You can inspect the repository content at https://hf.co//mnt/efs/federicocassano/t_models/deepseekcoder-22b-taco-plain800k.\n",
      "You can avoid this prompt in future by passing the argument `trust_remote_code=True`.\n",
      "\n",
      "Do you wish to run the custom code? [y/N]  y\n"
     ]
    },
    {
     "data": {
      "application/vnd.jupyter.widget-view+json": {
       "model_id": "95e42e2eea324b2583c7695fb9f48e28",
       "version_major": 2,
       "version_minor": 0
      },
      "text/plain": [
       "Loading checkpoint shards:   0%|          | 0/13 [00:00<?, ?it/s]"
      ]
     },
     "metadata": {},
     "output_type": "display_data"
    }
   ],
   "source": [
    "from transformers import AutoModelForCausalLM, AutoTokenizer\n",
    "name = \"/mnt/efs/federicocassano/t_models/deepseekcoder-22b-taco-plain800k\"\n",
    "model = AutoModelForCausalLM.from_pretrained(name,  auto_map={\n",
    "    \"AutoConfig\": \"/mnt/efs/federicocassano/codeprm/training/deepseek_configs/expert_vis--configuration_deepseek.DeepseekV2Config\",\n",
    "    \"AutoModel\": \"/mnt/efs/federicocassano/codeprm/training/deepseek_configs/expert_vis--modeling_deepseek.DeepseekV2Model\",\n",
    "    \"AutoModelForCausalLM\": \"/mnt/efs/federicocassano/codeprm/training/deepseek_configs/expert_vis--modeling_deepseek.DeepseekV2ForCausalLM\"\n",
    "  },\n",
    ").to(\"cuda:0\")"
   ]
  },
  {
   "cell_type": "code",
   "execution_count": 2,
   "id": "db306012-3182-49e8-af1d-9a2c6a4ba26c",
   "metadata": {},
   "outputs": [
    {
     "name": "stderr",
     "output_type": "stream",
     "text": [
      "Special tokens have been added in the vocabulary, make sure the associated word embeddings are fine-tuned or trained.\n"
     ]
    }
   ],
   "source": [
    "tokenizer = AutoTokenizer.from_pretrained(\"codegenning/DeepSeek-Coder-V2-Lite-Base\")"
   ]
  },
  {
   "cell_type": "code",
   "execution_count": 3,
   "id": "72827916-75fe-4cc1-9b98-3c38b3f6746e",
   "metadata": {},
   "outputs": [],
   "source": [
    "import os\n",
    "try:\n",
    "    os.unlink(\"/tmp/stream\")\n",
    "except:\n",
    "    pass\n",
    "with open(\"/tmp/stream\", \"w\") as f:\n",
    "    f.write(\"\")"
   ]
  },
  {
   "cell_type": "code",
   "execution_count": 11,
   "id": "c29a4654-e3e2-4bab-8bae-686563b5dcd2",
   "metadata": {},
   "outputs": [
    {
     "name": "stdout",
     "output_type": "stream",
     "text": [
      "Dataset({\n",
      "    features: ['prompt', 'difficulty'],\n",
      "    num_rows: 25776\n",
      "})\n"
     ]
    },
    {
     "data": {
      "text/plain": [
       "'\"\"\"\\nLittle Dormi received a histogram with $n$ bars of height $a_1, a_2, \\\\ldots, a_n$ for Christmas. However, the more he played with his new histogram, the more he realized its imperfections, so today he wanted to modify it to his liking.\\n\\nTo modify the histogram, Little Dormi is able to perform the following operation an arbitrary number of times:\\n\\nSelect an index $i$ ($1 \\\\le i \\\\le n$) where $a_i>0$, and assign $a_i := a_i-1$.\\n\\nLittle Dormi defines the ugliness score of his histogram (after performing some number of operations) as the sum of the vertical length of its outline and the number of operations he performed on it. And to make the histogram as perfect as possible, he would like to minimize the ugliness score after modifying it with some number of operations.\\n\\nHowever, as his histogram is very large, Little Dormi is having trouble minimizing the ugliness score, so as Little Dormi\\'s older brother, help him find the minimal ugliness.\\n\\nConsider the following example where the histogram has $4$ columns of heights $4,8,9,6$:\\n\\nThe blue region represents the histogram, and the red lines represent the vertical portion of the outline. Currently, the vertical length of the outline is $4+4+1+3+6 = 18$, so if Little Dormi does not modify the histogram at all, the ugliness would be $18$.\\n\\nHowever, Little Dormi can apply the operation once on column $2$ and twice on column $3$, resulting in a histogram with heights $4,7,7,6$:\\n\\nNow, as the total vertical length of the outline (red lines) is $4+3+1+6=14$, the ugliness is $14+3=17$ dollars. It can be proven that this is optimal.\\n\\n\\n-----Input-----\\n\\nEach test contains multiple test cases. The first line contains the number of test cases $t$ ($1 \\\\le t \\\\le 10^4$). Description of the test cases follows.\\n\\nThe first line of each test case contains a single integer $n$ ($1 \\\\le n \\\\le 4 \\\\cdot 10^5$).\\n\\nThe second line of each test case contains $n$ integers $a_1, a_2, \\\\ldots, a_n$ ($0 \\\\le a_i \\\\le 10^9$).\\n\\nIt is guaranteed that the sum of $n$ over all test cases does not exceed $4 \\\\cdot 10^5$.\\n\\n\\n-----Output-----\\n\\nFor each test case output one integer, the minimal ugliness Little Dormi can achieve with the histogram in that test case.\\n\\n\\n-----Examples-----\\n\\nInput\\n2\\n4\\n4 8 9 6\\n6\\n2 1 7 4 0 0\\nOutput\\n17\\n12\\n\\n\\n-----Note-----\\n\\nExample $1$ is the example described in the statement.\\n\\nThe initial histogram for example $2$ is given below:\\n\\nThe ugliness is currently $2+1+6+3+4=16$.\\n\\nBy applying the operation once on column $1$, six times on column $3$, and three times on column $4$, we can end up with a histogram with heights $1,1,1,1,0,0$:\\n\\nThe vertical length of the outline is now $1+1=2$ and Little Dormi made $1+6+3=10$ operations, so the final ugliness is $2+10=12$, which can be proven to be optimal.\\n\"\"\"'"
      ]
     },
     "execution_count": 11,
     "metadata": {},
     "output_type": "execute_result"
    }
   ],
   "source": [
    "import datasets\n",
    "ds = datasets.load_dataset(\"codegenning/taco-rl\", split=\"train\")\n",
    "print(ds)\n",
    "ds[0][\"prompt\"]"
   ]
  },
  {
   "cell_type": "code",
   "execution_count": null,
   "id": "59069b07-79a1-4777-8bbc-a35fbb4d7047",
   "metadata": {},
   "outputs": [],
   "source": [
    "for ex in ds.select(range(35)):\n",
    "    toks = tokenizer.encode(code, return_tensors=\"pt\").to(model.device)\n",
    "    outs = model.generate(toks, max_new_tokens=512, max_length=1024)"
   ]
  },
  {
   "cell_type": "code",
   "execution_count": 14,
   "id": "e1cef2c3-3496-4ab8-8c07-14faa94c6189",
   "metadata": {},
   "outputs": [
    {
     "name": "stdout",
     "output_type": "stream",
     "text": [
      "import collections\n",
      "n = int(input())\n",
      "a = list(map(int, input().split()))\n",
      "a.sort()\n",
      "c = collections.Counter(a)\n",
      "m = max(a)\n",
      "ans = 0\n",
      "for i in range(m, 0, -1):\n",
      "\tif c[i] == 0:\n",
      "\t\tcontinue\n",
      "\tfor j in range(i * 2, m + 1, i):\n",
      "\t\tc[j] = 0\n",
      "for i in a:\n",
      "\tif c[i] == 1:\n",
      "\t\tans += 1\n",
      "print(ans) <｜end▁of▁sentence｜>\n"
     ]
    }
   ],
   "source": [
    "print(tokenizer.decode(outs[0][len(toks[0]):]))"
   ]
  },
  {
   "cell_type": "code",
   "execution_count": 15,
   "id": "bb185a09-cba8-439a-bba1-7c4ba68951d7",
   "metadata": {},
   "outputs": [],
   "source": [
    "\n",
    "with open(\"/tmp/stream\", \"r\") as f:\n",
    "    data = f.read()"
   ]
  },
  {
   "cell_type": "code",
   "execution_count": null,
   "id": "aa893cf1-2e6e-449a-bb94-297b7b299c7d",
   "metadata": {},
   "outputs": [],
   "source": [
    "d = {i: 0 for i in range(0, 64)}\n",
    "\n",
    "for x in data.strip().split(\" \"):\n",
    "    x = int(x)\n",
    "    d[x] += 1\n",
    "d"
   ]
  },
  {
   "cell_type": "code",
   "execution_count": 24,
   "id": "18baae6f-5edd-442d-8dee-5e27539e8789",
   "metadata": {},
   "outputs": [
    {
     "name": "stdout",
     "output_type": "stream",
     "text": [
      "(3090, 2910, 2841, 2757, 2647, 2566, 2513, 2499, 2488, 2407, 2369, 2319, 2299, 2283, 2247, 2231, 2213, 2212, 2209, 2197, 2185, 2184, 2181, 2163, 2156, 2062, 2050, 2049, 2015, 2002, 2001, 1992, 1939, 1889, 1871, 1865, 1851, 1848, 1847, 1834, 1801, 1797, 1791, 1782, 1762, 1750, 1728, 1651, 1648, 1634, 1633, 1606, 1604, 1598, 1562, 1538, 1532, 1522, 1505, 1459, 1420, 1222, 1121, 1037)\n"
     ]
    },
    {
     "data": {
      "image/png": "[encoded data removed]",
      "text/plain": [
       "<Figure size 640x480 with 1 Axes>"
      ]
     },
     "metadata": {},
     "output_type": "display_data"
    }
   ],
   "source": [
    "import matplotlib.pyplot as plt\n",
    "\n",
    "sorted_items = sorted(d.items(), key=lambda item: item[1], reverse=True)\n",
    "\n",
    "keys, values = zip(*sorted_items) \n",
    "\n",
    "print(values)\n",
    "\n",
    "plt.bar(keys, values)\n",
    "plt.xlabel('Expert id')\n",
    "plt.ylabel('Frequency')\n",
    "plt.title('Freq of experts')\n",
    "plt.show()"
   ]
  },
  {
   "cell_type": "code",
   "execution_count": null,
   "id": "8d5cb18a-6b2a-4c2b-b52c-8742fc0840a5",
   "metadata": {},
   "outputs": [],
   "source": []
  }
 ],
 "metadata": {
  "kernelspec": {
   "display_name": "Python 3 (ipykernel)",
   "language": "python",
   "name": "python3"
  },
  "language_info": {
   "codemirror_mode": {
    "name": "ipython",
    "version": 3
   },
   "file_extension": ".py",
   "mimetype": "text/x-python",
   "name": "python",
   "nbconvert_exporter": "python",
   "pygments_lexer": "ipython3",
   "version": "3.10.9"
  }
 },
 "nbformat": 4,
 "nbformat_minor": 5
}

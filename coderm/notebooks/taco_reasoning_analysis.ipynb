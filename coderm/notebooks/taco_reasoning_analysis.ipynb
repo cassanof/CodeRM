{
 "cells": [
  {
   "cell_type": "code",
   "execution_count": 15,
   "id": "44572eb5-e3b9-40d8-b6c7-be2b4bcd205c",
   "metadata": {},
   "outputs": [
    {
     "data": {
      "text/plain": [
       "Dataset({\n",
       "    features: ['question', 'solutions', 'starter_code', 'input_output', 'difficulty', 'raw_tags', 'name', 'source', 'tags', 'skill_types', 'url', 'Expected Auxiliary Space', 'time_limit', 'date', 'picture_num', 'memory_limit', 'Expected Time Complexity', 'reasoning_steps'],\n",
       "    num_rows: 7041\n",
       "})"
      ]
     },
     "execution_count": 15,
     "metadata": {},
     "output_type": "execute_result"
    }
   ],
   "source": [
    "import datasets\n",
    "# ds = datasets.load_dataset(\"cassanof/taco_cleaned_exec_filtered_v4_reasoning10\", split=\"train\")\n",
    "# ds = datasets.load_from_disk(\"../dataset/taco_reasoning_steps_uncleaned\")\n",
    "ds = datasets.load_from_disk(\"../dataset/on_disk/taco_reasoning_steps_cleaned/\") \n",
    "ds"
   ]
  },
  {
   "cell_type": "code",
   "execution_count": 16,
   "id": "c75cd3a7-dffb-45fa-85bc-671f7c8b2b44",
   "metadata": {},
   "outputs": [],
   "source": [
    "steps_col = \"reasoning_steps\""
   ]
  },
  {
   "cell_type": "code",
   "execution_count": 17,
   "id": "3254c880-dcda-4c61-9d89-55717812e823",
   "metadata": {},
   "outputs": [
    {
     "name": "stdout",
     "output_type": "stream",
     "text": [
      "Total reasoning agumentations that failed: 0\n",
      "Total reasoning agumentations that passed: 49895\n",
      "Number of problems where there isn't even a single passing reasoning augmentation: 0\n"
     ]
    }
   ],
   "source": [
    "total_failed = 0\n",
    "total_passed = 0\n",
    "num_not_even_one = 0\n",
    "for ex in ds:\n",
    "    has_one = False\n",
    "    for r in ex[steps_col]:\n",
    "        if r is None:\n",
    "            total_failed += 1\n",
    "        else:\n",
    "            has_one = True\n",
    "            total_passed += 1\n",
    "    num_not_even_one += int(not has_one)\n",
    "\n",
    "print(f\"Total reasoning agumentations that failed: {total_failed}\")\n",
    "print(f\"Total reasoning agumentations that passed: {total_passed}\")\n",
    "print(f\"Number of problems where there isn't even a single passing reasoning augmentation: {num_not_even_one}\")"
   ]
  },
  {
   "cell_type": "code",
   "execution_count": 5,
   "id": "bf9c0129-8c5d-4368-b94f-1713a421b261",
   "metadata": {},
   "outputs": [
    {
     "name": "stdout",
     "output_type": "stream",
     "text": [
      "['This is a leading comment', 'This is considered the same comment', 'A cool leading comment']\n"
     ]
    }
   ],
   "source": [
    "from coderm.dataset.clean_reasoning_steps import get_reasoning_steps\n",
    "\n",
    "code_example = \"\"\"\n",
    "# This is a leading comment\n",
    "print(1 + 2) # This is a trailing comment\n",
    "# This is considered\n",
    "# the same comment\n",
    "print(3 + 4)\n",
    "\n",
    "def add(x, y):\n",
    "    # A cool leading comment\n",
    "    x = 3\n",
    "    y = 3 # some leading comment\n",
    "    z = 2\n",
    "    return x + y +z\n",
    "\"\"\"\n",
    "\n",
    "print(get_reasoning_steps(code_example))"
   ]
  },
  {
   "cell_type": "code",
   "execution_count": 18,
   "id": "3e0667fa-9ea2-4cd9-aecb-4fc2aea6a82c",
   "metadata": {},
   "outputs": [
    {
     "name": "stderr",
     "output_type": "stream",
     "text": [
      "100%|███████████████████████████████████████████████████████████████████████████████████████████████████████████████████████████████████████████████████████████████████████████| 7041/7041 [00:01<00:00, 5502.92it/s]\n"
     ]
    }
   ],
   "source": [
    "import random\n",
    "from tqdm import tqdm\n",
    "random.seed(42)\n",
    "sampled = []\n",
    "groups = []\n",
    "all_steps = []\n",
    "most_steps = []\n",
    "for ex in tqdm(ds, total=len(ds)):\n",
    "    reasonings = [r for r in ex[steps_col] if r is not None]\n",
    "    if len(reasonings) == 0:\n",
    "        continue\n",
    "    sampled.append(random.choice(reasonings))\n",
    "    groups.append(reasonings)\n",
    "    all_steps.extend(reasonings)\n",
    "    max_steps = -1\n",
    "    max_steps_sol = None\n",
    "    for r in reasonings:\n",
    "        steps = len(get_reasoning_steps(r))\n",
    "        if steps > max_steps:\n",
    "            max_steps_sol = r\n",
    "            max_steps = steps\n",
    "\n",
    "    most_steps.append(max_steps_sol)\n",
    "    "
   ]
  },
  {
   "cell_type": "code",
   "execution_count": 7,
   "id": "0eb73f9a-e49b-4c1e-b152-db31e0ec4c48",
   "metadata": {},
   "outputs": [
    {
     "name": "stdout",
     "output_type": "stream",
     "text": [
      "\n",
      "# This is a leading comment\n",
      "# This is a trailing comment\n",
      "print(1 + 2)\n",
      "# Another trailing comment\n",
      "x = 3 + 4\n",
      "y = x + 1\n",
      "\n",
      "def add(x, y):\n",
      "    # A cool leading comment\n",
      "    x = 3\n",
      "    # some trailing comment\n",
      "    y = 3\n",
      "    z = 2\n",
      "    return x + y + z\n",
      "\n"
     ]
    }
   ],
   "source": [
    "import re\n",
    "from coderm.dataset.clean_reasoning_steps import transform_trailing_to_leading_comments\n",
    "\n",
    "\n",
    "\n",
    "code_example = \"\"\"\n",
    "# This is a leading comment\n",
    "print(1 + 2) # This is a trailing comment\n",
    "x = 3 + 4 # Another trailing comment\n",
    "y = x + 1\n",
    "\n",
    "def add(x, y):\n",
    "    # A cool leading comment\n",
    "    x = 3\n",
    "    y = 3 # some trailing comment\n",
    "    z = 2\n",
    "    return x + y + z\n",
    "\"\"\"\n",
    "\n",
    "transformed_code = transform_trailing_to_leading_comments(code_example)\n",
    "print(transformed_code)"
   ]
  },
  {
   "cell_type": "code",
   "execution_count": 9,
   "id": "a2ea1be5-40e6-46a4-b20f-d9b66341bdde",
   "metadata": {},
   "outputs": [
    {
     "data": {
      "image/png": "[encoded data removed]",
      "text/plain": [
       "<Figure size 800x600 with 1 Axes>"
      ]
     },
     "metadata": {},
     "output_type": "display_data"
    }
   ],
   "source": [
    "import matplotlib.pyplot as plt\n",
    "import numpy as np\n",
    "# transform all first\n",
    "sampled = [transform_trailing_to_leading_comments(s) for s in sampled]\n",
    "reasoning_steps_counts = [len(get_reasoning_steps(code)) for code in sampled]\n",
    "\n",
    "\n",
    "plt.figure(figsize=(8, 6))\n",
    "plt.hist(reasoning_steps_counts, bins=np.arange(1, max(reasoning_steps_counts) + 2) - 0.5, edgecolor='black')\n",
    "plt.xlabel('Number of Reasoning Steps')\n",
    "plt.ylabel('Frequency')\n",
    "plt.title('Distribution of Number of Reasoning Steps')\n",
    "plt.xticks(np.arange(0, max(reasoning_steps_counts) + 1, step=10))\n",
    "plt.grid(True)\n",
    "plt.show()"
   ]
  },
  {
   "cell_type": "code",
   "execution_count": 19,
   "id": "33772202-7dad-4bd2-aedd-b9b3365ef371",
   "metadata": {},
   "outputs": [
    {
     "data": {
      "image/png": "[encoded data removed]",
      "text/plain": [
       "<Figure size 800x600 with 1 Axes>"
      ]
     },
     "metadata": {},
     "output_type": "display_data"
    }
   ],
   "source": [
    "import matplotlib.pyplot as plt\n",
    "import numpy as np\n",
    "from coderm.dataset.clean_reasoning_steps import get_steps_to_char_ratio\n",
    "\n",
    "\n",
    "def remove_comments(code):\n",
    "    \"\"\"Remove comments from the code.\"\"\"\n",
    "    return \"\\n\".join(line for line in code.split('\\n') if not line.strip().startswith('#'))\n",
    "\n",
    "def count_characters(code):\n",
    "    \"\"\"Count the number of characters without comments.\"\"\"\n",
    "    code_no_comments = remove_comments(code)\n",
    "    return len(code_no_comments.replace('\\n', '').replace(' ', ''))\n",
    "\n",
    "steps_to_chars_ratios = [get_steps_to_char_ratio(code) for code in sampled]\n",
    "\n",
    "plt.figure(figsize=(8, 6))\n",
    "plt.hist(steps_to_chars_ratios, bins=np.linspace(0, max(steps_to_chars_ratios), 50), edgecolor='black')\n",
    "plt.xlabel('Steps to Number of Characters Ratio')\n",
    "plt.ylabel('Frequency')\n",
    "plt.title('Distribution of Steps to Number of Characters Ratio')\n",
    "plt.grid(True)\n",
    "plt.show()"
   ]
  },
  {
   "cell_type": "code",
   "execution_count": 20,
   "id": "0c3c50f8-2f78-4aeb-a415-9de9cba40dd2",
   "metadata": {},
   "outputs": [
    {
     "name": "stderr",
     "output_type": "stream",
     "text": [
      "100%|███████████████████████████████████████████████████████████████████████████████████████████████████████████████████████████████████████████████████████████████████████████| 7041/7041 [00:01<00:00, 4159.82it/s]\n"
     ]
    },
    {
     "data": {
      "text/plain": [
       "0"
      ]
     },
     "execution_count": 20,
     "metadata": {},
     "output_type": "execute_result"
    }
   ],
   "source": [
    "import ast\n",
    "from tqdm import tqdm\n",
    "\n",
    "def does_parse(code):\n",
    "    try:\n",
    "        ast.parse(code)\n",
    "        return True\n",
    "    except:\n",
    "        return False\n",
    "\n",
    "originals = []\n",
    "transforms = []\n",
    "for s in tqdm(sampled):\n",
    "    assert does_parse(s)\n",
    "    cleaned = transform_trailing_to_leading_comments(s)\n",
    "    if cleaned != s:\n",
    "        originals.append(s)\n",
    "        transforms.append(cleaned)\n",
    "    if not does_parse(cleaned):\n",
    "        print(cleaned)\n",
    "        break\n",
    "\n",
    "len(transforms)"
   ]
  },
  {
   "cell_type": "code",
   "execution_count": 79,
   "id": "8514e101-1e36-42c5-9180-5344b159e352",
   "metadata": {},
   "outputs": [
    {
     "name": "stdout",
     "output_type": "stream",
     "text": [
      "\n",
      "import sys\n",
      "sys.setrecursionlimit(10 ** 5 + 1)  # Set the recursion limit to handle large inputs\n",
      "\n",
      "inf = int(10 ** 20)  # Define a large integer value for infinity\n",
      "max_val = inf  # Initialize the maximum value to infinity\n",
      "min_val = -inf  # Initialize the minimum value to negative infinity\n",
      "\n",
      "RW = lambda : sys.stdin.readline().strip()  # Define a function to read a line of input\n",
      "RI = lambda : int(RW())  # Define a function to read an integer from input\n",
      "RMI = lambda : [int(x) for x in sys.stdin.readline().strip().split()]  # Define a function to read multiple integers from input\n",
      "RWI = lambda : [x for x in sys.stdin.readline().strip().split()]  # Define a function to read multiple words from input\n",
      "\n",
      "nb_mines = RI()  # Read the number of mines from input\n",
      "\n",
      "(x_coord, y_coord) = ([], [])  # Initialize empty lists to store x and y coordinates of mines\n",
      "\n",
      "# Read the coordinates of each mine and store them in the respective lists\n",
      "for _ in range(nb_mines):\n",
      "\t(x, y) = RMI()\n",
      "\tx_coord.append(x)\n",
      "\ty_coord.append(y)\n",
      "\n",
      "# Calculate the maximum and minimum x and y coordinates\n",
      "candidate_x = max(x_coord) - min(x_coord)\n",
      "candidate_y = max(y_coord) - min(y_coord)\n",
      "\n",
      "# Determine the side length of the square city that can cover all the mines\n",
      "sides = max(candidate_x, candidate_y)\n",
      "\n",
      "# Print the minimum area of the city\n",
      "print(sides ** 2)\n",
      "\n",
      "================================================================================================================================================================\n",
      "--- \n",
      "+++ \n",
      "@@ -1,19 +1,29 @@\n",
      " \n",
      " import sys\n",
      "-sys.setrecursionlimit(10 ** 5 + 1)  # Set the recursion limit to handle large inputs\n",
      "+# Set the recursion limit to handle large inputs\n",
      "+sys.setrecursionlimit(10 ** 5 + 1)\n",
      " \n",
      "-inf = int(10 ** 20)  # Define a large integer value for infinity\n",
      "-max_val = inf  # Initialize the maximum value to infinity\n",
      "-min_val = -inf  # Initialize the minimum value to negative infinity\n",
      "+# Define a large integer value for infinity\n",
      "+inf = int(10 ** 20)\n",
      "+# Initialize the maximum value to infinity\n",
      "+max_val = inf\n",
      "+# Initialize the minimum value to negative infinity\n",
      "+min_val = -inf\n",
      " \n",
      "-RW = lambda : sys.stdin.readline().strip()  # Define a function to read a line of input\n",
      "-RI = lambda : int(RW())  # Define a function to read an integer from input\n",
      "-RMI = lambda : [int(x) for x in sys.stdin.readline().strip().split()]  # Define a function to read multiple integers from input\n",
      "-RWI = lambda : [x for x in sys.stdin.readline().strip().split()]  # Define a function to read multiple words from input\n",
      "+# Define a function to read a line of input\n",
      "+RW = lambda : sys.stdin.readline().strip()\n",
      "+# Define a function to read an integer from input\n",
      "+RI = lambda : int(RW())\n",
      "+# Define a function to read multiple integers from input\n",
      "+RMI = lambda : [int(x) for x in sys.stdin.readline().strip().split()]\n",
      "+# Define a function to read multiple words from input\n",
      "+RWI = lambda : [x for x in sys.stdin.readline().strip().split()]\n",
      " \n",
      "-nb_mines = RI()  # Read the number of mines from input\n",
      "+# Read the number of mines from input\n",
      "+nb_mines = RI()\n",
      " \n",
      "-(x_coord, y_coord) = ([], [])  # Initialize empty lists to store x and y coordinates of mines\n",
      "+# Initialize empty lists to store x and y coordinates of mines\n",
      "+(x_coord, y_coord) = ([], [])\n",
      " \n",
      " # Read the coordinates of each mine and store them in the respective lists\n",
      " for _ in range(nb_mines):\n"
     ]
    }
   ],
   "source": [
    "import difflib\n",
    "i =  3\n",
    "print(originals[i])\n",
    "print(\"====\" * 40)\n",
    "# print(transforms[i])\n",
    "diff = difflib.unified_diff(originals[i].splitlines(), transforms[i].splitlines(), lineterm='')\n",
    "print(\"\\n\".join(list(diff)))"
   ]
  },
  {
   "cell_type": "code",
   "execution_count": 13,
   "id": "701ffc5a-811a-4a21-bdef-849a64fdda43",
   "metadata": {},
   "outputs": [],
   "source": [
    "singles = []\n",
    "large = []\n",
    "for s in sampled:\n",
    "    steps = len(get_reasoning_steps(s))\n",
    "    if steps == 1:\n",
    "        singles.append(s)\n",
    "    elif steps >= 50:\n",
    "        large.append(s)"
   ]
  },
  {
   "cell_type": "code",
   "execution_count": 22,
   "id": "eca5c54c-5e2c-49ef-a8e5-733c8fb6d49b",
   "metadata": {},
   "outputs": [
    {
     "name": "stdout",
     "output_type": "stream",
     "text": [
      "13\n"
     ]
    }
   ],
   "source": [
    "print(len(large))"
   ]
  },
  {
   "cell_type": "code",
   "execution_count": null,
   "id": "a1c9c49c-a203-49b7-b964-907601bf9f0e",
   "metadata": {},
   "outputs": [],
   "source": []
  }
 ],
 "metadata": {
  "kernelspec": {
   "display_name": "Python 3 (ipykernel)",
   "language": "python",
   "name": "python3"
  },
  "language_info": {
   "codemirror_mode": {
    "name": "ipython",
    "version": 3
   },
   "file_extension": ".py",
   "mimetype": "text/x-python",
   "name": "python",
   "nbconvert_exporter": "python",
   "pygments_lexer": "ipython3",
   "version": "3.9.19"
  }
 },
 "nbformat": 4,
 "nbformat_minor": 5
}
